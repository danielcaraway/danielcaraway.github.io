{
 "cells": [
  {
   "cell_type": "code",
   "execution_count": 8,
   "metadata": {},
   "outputs": [],
   "source": [
    "import nltk\n",
    "import pandas as pd\n",
    "from sklearn.feature_extraction.text import CountVectorizer\n",
    "from nltk.tokenize import word_tokenize\n",
    "from nltk.probability import FreqDist\n",
    "import matplotlib.pyplot as plt\n",
    "from nltk.corpus import stopwords\n",
    "from nltk.stem import PorterStemmer\n",
    "from nltk.tokenize import sent_tokenize, word_tokenize\n",
    "import os"
   ]
  },
  {
   "cell_type": "code",
   "execution_count": 45,
   "metadata": {},
   "outputs": [
    {
     "name": "stdout",
     "output_type": "stream",
     "text": [
      "['Kendra', 'loves', 'cats', '.', 'In', 'fact', ',', 'she', 'has', 'TEN', 'cats', '.', 'If', 'she', 'did', \"n't\", 'have', 'a', 'house', ',', 'a', 'husband', 'and', 'a', 'graduate', 'degree', 'in', 'data', 'science', ',', 'she', \"'d\", 'be', 'a', 'cat', 'lady', '!']\n"
     ]
    }
   ],
   "source": [
    "#=================================\n",
    "# TOKENIZATION\n",
    "#=================================\n",
    "# Intro to tokenization\n",
    "# Tokenization is simply breaking text down into \"tokens\" which, in this case, is words!\n",
    "# Here is a sample sentence. It can have punctuation, CAPS!, etc.\n",
    "\n",
    "example_text = \"Kendra loves cats. In fact, she has TEN cats. If she didn't have a house, a husband and a graduate degree in data science, she'd be a cat lady!\"\n",
    "tokenized_example = word_tokenize(example_text)\n",
    "print(tokenized_example)"
   ]
  },
  {
   "cell_type": "code",
   "execution_count": 51,
   "metadata": {},
   "outputs": [
    {
     "name": "stdout",
     "output_type": "stream",
     "text": [
      "dict_items([('Kendra', 1), ('loves', 1), ('cats', 2), ('.', 2), ('In', 1), ('fact', 1), (',', 3), ('she', 3), ('has', 1), ('TEN', 1), ('If', 1), ('did', 1), (\"n't\", 1), ('have', 1), ('a', 4), ('house', 1), ('husband', 1), ('and', 1), ('graduate', 1), ('degree', 1), ('in', 1), ('data', 1), ('science', 1), (\"'d\", 1), ('be', 1), ('cat', 1), ('lady', 1), ('!', 1)])\n"
     ]
    }
   ],
   "source": [
    "#=================================\n",
    "# FREQUENCY DISTRIBUTIONS\n",
    "#=================================\n",
    "# After turning the words into tokens, we can start to treat them a data\n",
    "# For example, we can use a FREQUENCY DISTRIBUTION to count the words\n",
    "fdist = FreqDist(tokenized_example)\n",
    "print(fdist.items())"
   ]
  },
  {
   "cell_type": "code",
   "execution_count": 52,
   "metadata": {},
   "outputs": [
    {
     "name": "stdout",
     "output_type": "stream",
     "text": [
      "[('a', 4)]\n"
     ]
    }
   ],
   "source": [
    "# We can use the same Frequency Distribution to find the most common word\n",
    "print(fdist.most_common(1))"
   ]
  },
  {
   "cell_type": "code",
   "execution_count": 53,
   "metadata": {},
   "outputs": [
    {
     "name": "stdout",
     "output_type": "stream",
     "text": [
      "0.02702702702702703\n"
     ]
    }
   ],
   "source": [
    "# We can use the Frequency Distribution to find the frequency of specific words\n",
    "print(fdist.freq(\"cat\")) "
   ]
  },
  {
   "cell_type": "code",
   "execution_count": 54,
   "metadata": {},
   "outputs": [
    {
     "data": {
      "image/png": "[encoded data removed]",
      "text/plain": [
       "<Figure size 432x288 with 1 Axes>"
      ]
     },
     "metadata": {
      "needs_background": "light"
     },
     "output_type": "display_data"
    }
   ],
   "source": [
    "# And we can use the Frequency Distribution to graph our sentence by word freqency\n",
    "fdist.N()\n",
    "fdist.plot(30,cumulative=False)\n",
    "plt.show()"
   ]
  },
  {
   "cell_type": "code",
   "execution_count": 39,
   "metadata": {},
   "outputs": [],
   "source": [
    "# But... the word \"a\" doesn't really tell us much about that sentence, does it?\n",
    "# \"a\" is what is considered to be a STOPWORD"
   ]
  },
  {
   "cell_type": "code",
   "execution_count": 41,
   "metadata": {},
   "outputs": [
    {
     "name": "stdout",
     "output_type": "stream",
     "text": [
      "{\"haven't\", 'why', 'so', \"mightn't\", 'your', \"won't\", 'm', 'for', \"isn't\", 'between', 'this', 'didn', \"you're\", 'ain', 'not', \"it's\", 'itself', 'what', 'some', 'now', 'll', 'by', 'but', 'nor', 'ourselves', 'those', 'yours', 'of', 'she', 'to', 'doesn', 'until', \"needn't\", 'herself', 'is', 'our', 'does', 'then', 'from', 'haven', \"hadn't\", 'or', \"she's\", 'over', \"didn't\", 'are', 'will', \"shan't\", 'very', 'too', 'had', 'off', 'through', 'he', 're', 'under', 'myself', 'when', 'don', 'each', 'be', 'ours', 'most', 'o', 'y', 'am', 'hers', 'which', 'can', 'yourselves', 'wasn', 'd', 'there', \"shouldn't\", 'wouldn', 'whom', 'into', 'an', 'in', 'a', 'just', 'you', 'them', \"that'll\", 'theirs', \"weren't\", 'they', 'it', 'been', 'having', 'that', 'themselves', 'and', 'about', 'further', \"wouldn't\", \"you'll\", 'as', 'my', \"wasn't\", 'needn', \"doesn't\", 'its', 'won', 'again', 'where', 'mustn', 'than', \"you'd\", 'both', \"should've\", 'weren', 'being', 'shouldn', 'me', 'ma', 'were', 'hasn', \"hasn't\", 'more', 'own', 'with', 'yourself', 'no', \"couldn't\", 'shan', 'on', 'hadn', 'should', 's', 'only', \"mustn't\", 'while', 'aren', 't', 'we', 've', 'these', 'doing', 'how', 'same', 'him', 'few', 'i', 'below', 'who', 'her', 'the', 'before', 'have', 'all', 'couldn', 'his', 'do', 'after', 'above', 'at', 'other', 'any', 'if', 'their', 'such', \"aren't\", 'against', 'up', 'because', 'did', \"you've\", 'has', 'was', 'once', 'here', 'out', 'mightn', 'down', 'during', 'himself', 'isn', \"don't\"}\n"
     ]
    }
   ],
   "source": [
    "#=================================\n",
    "# STOPWORDS \n",
    "#=================================\n",
    "stop_words = set(stopwords.words(\"english\"))\n",
    "print(stop_words)"
   ]
  },
  {
   "cell_type": "code",
   "execution_count": 55,
   "metadata": {},
   "outputs": [
    {
     "name": "stdout",
     "output_type": "stream",
     "text": [
      "Tokenized text: ['Kendra', 'loves', 'cats', '.', 'In', 'fact', ',', 'she', 'has', 'TEN', 'cats', '.', 'If', 'she', 'did', \"n't\", 'have', 'a', 'house', ',', 'a', 'husband', 'and', 'a', 'graduate', 'degree', 'in', 'data', 'science', ',', 'she', \"'d\", 'be', 'a', 'cat', 'lady', '!']\n",
      "Filterd text: ['Kendra', 'loves', 'cats', '.', 'In', 'fact', ',', 'TEN', 'cats', '.', 'If', \"n't\", 'house', ',', 'husband', 'graduate', 'degree', 'data', 'science', ',', \"'d\", 'cat', 'lady', '!']\n"
     ]
    }
   ],
   "source": [
    "#=================================\n",
    "# REMOVING STOPWORDS \n",
    "#=================================\n",
    "filtered_text=[]\n",
    "for w in tokenized_example:\n",
    " #   print(w)\n",
    "    if w not in stop_words:\n",
    "        filtered_text.append(w)\n",
    "print(\"Tokenized text:\",tokenized_example)\n",
    "print(\"Filterd text:\",filtered_text)"
   ]
  },
  {
   "cell_type": "code",
   "execution_count": 56,
   "metadata": {},
   "outputs": [
    {
     "data": {
      "image/png": "[encoded data removed]",
      "text/plain": [
       "<Figure size 432x288 with 1 Axes>"
      ]
     },
     "metadata": {
      "needs_background": "light"
     },
     "output_type": "display_data"
    }
   ],
   "source": [
    "fdist_filtered = FreqDist(filtered_text)\n",
    "# fdist.N()\n",
    "fdist_filtered.plot(30,cumulative=False)\n",
    "plt.show()"
   ]
  },
  {
   "cell_type": "code",
   "execution_count": null,
   "metadata": {},
   "outputs": [],
   "source": [
    "# But wait, doesn't the word \"cat\" appear more than 2 times? Oh! That's because we have \"cat\" AND \"cats\" \n",
    "# which the computer is counting as two different words!"
   ]
  },
  {
   "cell_type": "code",
   "execution_count": null,
   "metadata": {},
   "outputs": [],
   "source": []
  }
 ],
 "metadata": {
  "kernelspec": {
   "display_name": "Python 3",
   "language": "python",
   "name": "python3"
  },
  "language_info": {
   "codemirror_mode": {
    "name": "ipython",
    "version": 3
   },
   "file_extension": ".py",
   "mimetype": "text/x-python",
   "name": "python",
   "nbconvert_exporter": "python",
   "pygments_lexer": "ipython3",
   "version": "3.7.3"
  }
 },
 "nbformat": 4,
 "nbformat_minor": 2
}
