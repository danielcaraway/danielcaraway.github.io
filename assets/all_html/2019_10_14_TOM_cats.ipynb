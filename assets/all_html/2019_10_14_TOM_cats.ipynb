{
 "cells": [
  {
   "cell_type": "code",
   "execution_count": 1,
   "metadata": {},
   "outputs": [
    {
     "name": "stdout",
     "output_type": "stream",
     "text": [
      "['MICHAEL', 'KEVIN', 'STANLEY', 'ANGELA', 'DWIGHT', 'PHYLLIS']\n",
      "['Angela', 'Phyllis']\n"
     ]
    }
   ],
   "source": [
    "## Original List Comprehension Exercise -- 9/18/19\n",
    "cats = [\"Michael\", \"Kevin\", \"Stanley\", \"Angela\", \"Dwight\", \"Phyllis\"]\n",
    "excited_cats = [cat.upper() for cat in cats]\n",
    "print(excited_cats)\n",
    "girl_cats = [cat for cat in cats if cat[-1] is 'a' or cat[-1] is 's']\n",
    "print(girl_cats)"
   ]
  },
  {
   "cell_type": "code",
   "execution_count": 5,
   "metadata": {},
   "outputs": [],
   "source": [
    "## Iterables Exercise -- 10/14/19\n",
    "cats = [\"Michael\", \"Kevin\", \"Stanley\", \"Angela\", \"Dwight\", \"Phyllis\"]\n",
    "cats_with_i = [cat for cat in cats if 'i']"
   ]
  },
  {
   "cell_type": "code",
   "execution_count": 3,
   "metadata": {},
   "outputs": [
    {
     "data": {
      "text/plain": [
       "['Michael', 'Kevin', 'Dwight', 'Phyllis']"
      ]
     },
     "execution_count": 3,
     "metadata": {},
     "output_type": "execute_result"
    }
   ],
   "source": [
    "cats_with_i"
   ]
  },
  {
   "cell_type": "code",
   "execution_count": null,
   "metadata": {},
   "outputs": [],
   "source": []
  }
 ],
 "metadata": {
  "kernelspec": {
   "display_name": "Python 3",
   "language": "python",
   "name": "python3"
  },
  "language_info": {
   "codemirror_mode": {
    "name": "ipython",
    "version": 3
   },
   "file_extension": ".py",
   "mimetype": "text/x-python",
   "name": "python",
   "nbconvert_exporter": "python",
   "pygments_lexer": "ipython3",
   "version": "3.7.3"
  }
 },
 "nbformat": 4,
 "nbformat_minor": 2
}
