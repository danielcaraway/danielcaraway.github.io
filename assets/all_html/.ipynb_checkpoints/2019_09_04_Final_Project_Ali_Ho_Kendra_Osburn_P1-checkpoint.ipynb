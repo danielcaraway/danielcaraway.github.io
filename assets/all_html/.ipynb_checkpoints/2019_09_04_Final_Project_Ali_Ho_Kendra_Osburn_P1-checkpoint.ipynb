{
 "cells": [
  {
   "cell_type": "markdown",
   "metadata": {},
   "source": [
    "# IMDB | IST 652 FINAL PROJECT | ALI HO & KENDRA OSBURN"
   ]
  },
  {
   "cell_type": "markdown",
   "metadata": {},
   "source": [
    "# =======================================================\n",
    "# PART 1: COMPARISON to R\n",
    "# ======================================================="
   ]
  },
  {
   "cell_type": "code",
   "execution_count": 2,
   "metadata": {},
   "outputs": [],
   "source": [
    "#Ali and Kendra Final Project \n",
    "\n",
    "#importing pandas, csv, \n",
    "import csv \n",
    "import pandas as pd\n",
    "import matplotlib.pyplot as plt\n",
    "import numpy as np\n",
    "import statistics\n",
    "#To create testing and training dfs and labels \n",
    "from sklearn.model_selection import train_test_split \n",
    "#To get a count or tally of a category in our df \n",
    "from collections import Counter\n",
    "# To model the Gaussian Navie Bayes classifier\n",
    "from sklearn.naive_bayes import GaussianNB\n",
    "# To calculate the accuracy score of the model\n",
    "from sklearn.metrics import accuracy_score\n",
    "#confusion matrix \n",
    "from sklearn.metrics import confusion_matrix, classification_report\n",
    "#for pre-processing to fit all numeric data on the standard scale \n",
    "from sklearn.preprocessing import StandardScaler\n",
    "#for applying PCA function on training and testing sets \n",
    "from sklearn.decomposition import PCA\n",
    "#logistic regression \n",
    "from sklearn.linear_model import LogisticRegression\n",
    "#SVMs \n",
    "from sklearn.svm import SVC\n",
    "#For association rule mining \n",
    "from apyori import apriori\n",
    "#This will allow us to silence the warnings\n",
    "import warnings \n",
    "warnings.simplefilter(\"ignore\")\n",
    "#For the confusion matrix \n",
    "import seaborn as sns"
   ]
  },
  {
   "cell_type": "code",
   "execution_count": 3,
   "metadata": {},
   "outputs": [],
   "source": [
    "#Functions that we are going to use in our file: \n",
    "\n",
    "#Creating a function that will discretize our columns based on quartiles \n",
    "def quartile_discretize(df, column, categories): \n",
    "    df[column] = pd.qcut(df[column], 4, labels = categories)\n",
    "    return(df[column])\n",
    "\n",
    "#Creating a function that will merge our dfs with a left join\n",
    "def left_merge_2_conditions(df1, df2, column1, column2):\n",
    "    df = pd.merge(df1, df2, how = \"left\", on=[column1, column2])\n",
    "    return(df)\n",
    "\n",
    "#Creating a function that groups by, counts, creates a new column from the index, drops the index and changes the column names\n",
    "def groupby_count(df, groupby_column, count_column): \n",
    "    new_df = pd.DataFrame(df.groupby(groupby_column)[count_column].count())\n",
    "    new_df.columns = [\"count\"]\n",
    "    new_df[groupby_column] = new_df.index.get_level_values(0)\n",
    "    new_df.reset_index(drop = True, inplace = True)\n",
    "    return(new_df)\n",
    "\n",
    "#Creating a function that groups by, counts, creates a new column from the index, drops the index and changes the column names\n",
    "def groupby_2_count(df, groupby_column1, groupby_column2, count_column): \n",
    "    new_df = pd.DataFrame(df.groupby([groupby_column1, groupby_column2 ])[count_column].count())\n",
    "    new_df.columns = [\"count\"]\n",
    "    new_df[groupby_column1] = new_df.index.get_level_values(0)\n",
    "    new_df[groupby_column2] = new_df.index.get_level_values(1)\n",
    "    new_df.reset_index(drop = True, inplace = True)\n",
    "    return(new_df)\n",
    "\n",
    "#This will calculate the exponential moving average of the columns we want\n",
    "#exponential moving averages give more weight to the most recent data and less weight to older data \n",
    "def exp_moving_avg(d):\n",
    "    d[\"exp_moving_avg\"] = d[\"score\"].ewm(span=40,adjust=False).mean()\n",
    "    exp_moving_avg = list(d[\"exp_moving_avg\"])\n",
    "    #Adding a 0 to the first entry to exp_moving_avg\n",
    "    exp_moving_avg = [0] + exp_moving_avg\n",
    "    #Removing the last entry in the list \n",
    "    exp_moving_avg.pop()\n",
    "    #Creating a column named exp_moving_avg with the results \n",
    "    d[\"exp_moving_avg\"] = exp_moving_avg\n",
    "    return(exp_moving_avg)\n",
    "\n",
    "#This will calculate the cumulative moving average\n",
    "def cumulative_moving_avg(d): \n",
    "    d[\"moving_avg\"] = d.expanding(min_periods = 1).mean()\n",
    "    moving_avg = list(d[\"moving_avg\"])\n",
    "    #Adding a 0 to the first entry to moving avg\n",
    "    cumulative_moving_avg = [0] + moving_avg\n",
    "    #Removing the last entry in the list \n",
    "    cumulative_moving_avg.pop()\n",
    "    return(cumulative_moving_avg)\n",
    "\n",
    "#This will get the list of all of the entries in the column that we are interested in for calculating the averages\n",
    "def getting_list_of_entries(df, column_interested_in): \n",
    "    avg_people = pd.DataFrame(df.groupby([column_interested_in, \"released\"])[\"score\"].mean())\n",
    "    avg_column_scores = pd.DataFrame()\n",
    "    column_interested = list(df[column_interested_in].unique())\n",
    "    return([avg_people, column_interested])\n",
    "\n",
    "# Going to use matplotlib for plotting... \n",
    "# To create a plot we followed the following formula: \n",
    "# df.plot(x-axis, y-axis, kind = type of plot, color = [(we specified colors to use here)], legend = False (we did not \n",
    "# want a legend displayed), title = \"Title\") then we added a ylabel with plt.ylabel(\"Type label here\") and an x label \n",
    "# with plt.xlabel(\"type label here\"). Finally, we wanted to change the direction of the xtick names from a 90 degree angle \n",
    "# to no angle with plt.xticks(rotation = rotation angle desired)\n",
    "def bar_graph_count(df, x_column, y_column, title):\n",
    "    g = df.plot(x_column, y_column, kind = \"bar\", legend = False, title = title)\n",
    "    g = plt.ylabel(y_column)\n",
    "    g = plt.xlabel(x_column)\n",
    "    return(g)\n",
    "\n",
    "#This will make a df for our moving averages that we are calculating \n",
    "def making_df(people_df, column_interested_in, released, person, cumulative_avg, exp_avg): \n",
    "    df_2 = pd.DataFrame({column_interested_in: person, \"released\": released, \"cumulative_mean\": cumulative_avg, \"exp_mean\": exp_avg})\n",
    "    return(df_2)\n",
    "\n",
    "#This includes the functions above, and will calculate the exponential and cumulative moving averages for which ever \n",
    "#column we specify and return a df will the column interested in, released, cumulative_mean, exp_mean\n",
    "def calculating_moving_avg(df, column_interested_in):\n",
    "    people_df = pd.DataFrame()\n",
    "    people = getting_list_of_entries(df, column_interested_in)\n",
    "    cumulative_avg = []\n",
    "    avg_people = people[0]\n",
    "    avg_people\n",
    "    for person in people[1]: \n",
    "        d = avg_people.groupby(column_interested_in).get_group(person)\n",
    "        cumulative_avg = cumulative_moving_avg(d)\n",
    "        exp_avg = exp_moving_avg(d)\n",
    "        d.reset_index(inplace = True)\n",
    "        released = d[\"released\"]\n",
    "        df = pd.DataFrame({column_interested_in: person, \"released\": released, \"cumulative_mean_\"+column_interested_in : cumulative_avg, \"exp_mean_\"+column_interested_in: exp_avg})\n",
    "        people_df = people_df.append(df)\n",
    "    return(people_df)\n",
    "\n",
    "#Confusion Matrix Graph Function \n",
    "def confusion_matrix_graph (cm, accuracy_label, type_of_df): \n",
    "    g = plt.figure(figsize=(2,2))\n",
    "    g = sns.heatmap(cm, annot=True, fmt=\".3f\", linewidths=.5, square = True, cmap = 'Blues_r', cbar = False);\n",
    "    g = plt.ylabel('Actual');\n",
    "    g = plt.xlabel('Predicted');\n",
    "    g = all_sample_title = type_of_df +' Accuracy Score: {0}'.format(round(accuracy_label, 4))\n",
    "    g = plt.title(all_sample_title, size = 12);\n",
    "    return(g)"
   ]
  },
  {
   "cell_type": "code",
   "execution_count": 4,
   "metadata": {},
   "outputs": [],
   "source": [
    "#reading in the movies.csv file from Kaggle \n",
    "movies = pd.read_csv(\"movies.csv\", encoding = \"ISO-8859-1\")"
   ]
  },
  {
   "cell_type": "code",
   "execution_count": 5,
   "metadata": {},
   "outputs": [
    {
     "data": {
      "text/plain": [
       "6820"
      ]
     },
     "execution_count": 5,
     "metadata": {},
     "output_type": "execute_result"
    }
   ],
   "source": [
    "len(movies)"
   ]
  },
  {
   "cell_type": "code",
   "execution_count": 6,
   "metadata": {},
   "outputs": [
    {
     "data": {
      "text/html": [
       "<div>\n",
       "<style scoped>\n",
       "    .dataframe tbody tr th:only-of-type {\n",
       "        vertical-align: middle;\n",
       "    }\n",
       "\n",
       "    .dataframe tbody tr th {\n",
       "        vertical-align: top;\n",
       "    }\n",
       "\n",
       "    .dataframe thead th {\n",
       "        text-align: right;\n",
       "    }\n",
       "</style>\n",
       "<table border=\"1\" class=\"dataframe\">\n",
       "  <thead>\n",
       "    <tr style=\"text-align: right;\">\n",
       "      <th></th>\n",
       "      <th>budget</th>\n",
       "      <th>company</th>\n",
       "      <th>country</th>\n",
       "      <th>director</th>\n",
       "      <th>genre</th>\n",
       "      <th>gross</th>\n",
       "      <th>name</th>\n",
       "      <th>rating</th>\n",
       "      <th>released</th>\n",
       "      <th>runtime</th>\n",
       "      <th>score</th>\n",
       "      <th>star</th>\n",
       "      <th>votes</th>\n",
       "      <th>writer</th>\n",
       "      <th>year</th>\n",
       "    </tr>\n",
       "  </thead>\n",
       "  <tbody>\n",
       "    <tr>\n",
       "      <th>0</th>\n",
       "      <td>8000000</td>\n",
       "      <td>Columbia Pictures Corporation</td>\n",
       "      <td>USA</td>\n",
       "      <td>Rob Reiner</td>\n",
       "      <td>Adventure</td>\n",
       "      <td>52287414</td>\n",
       "      <td>Stand by Me</td>\n",
       "      <td>R</td>\n",
       "      <td>8/22/1986</td>\n",
       "      <td>89</td>\n",
       "      <td>8.1</td>\n",
       "      <td>Wil Wheaton</td>\n",
       "      <td>299174</td>\n",
       "      <td>Stephen King</td>\n",
       "      <td>1986</td>\n",
       "    </tr>\n",
       "    <tr>\n",
       "      <th>1</th>\n",
       "      <td>6000000</td>\n",
       "      <td>Paramount Pictures</td>\n",
       "      <td>USA</td>\n",
       "      <td>John Hughes</td>\n",
       "      <td>Comedy</td>\n",
       "      <td>70136369</td>\n",
       "      <td>Ferris Bueller's Day Off</td>\n",
       "      <td>PG-13</td>\n",
       "      <td>6/11/1986</td>\n",
       "      <td>103</td>\n",
       "      <td>7.8</td>\n",
       "      <td>Matthew Broderick</td>\n",
       "      <td>264740</td>\n",
       "      <td>John Hughes</td>\n",
       "      <td>1986</td>\n",
       "    </tr>\n",
       "    <tr>\n",
       "      <th>2</th>\n",
       "      <td>15000000</td>\n",
       "      <td>Paramount Pictures</td>\n",
       "      <td>USA</td>\n",
       "      <td>Tony Scott</td>\n",
       "      <td>Action</td>\n",
       "      <td>179800601</td>\n",
       "      <td>Top Gun</td>\n",
       "      <td>PG</td>\n",
       "      <td>5/16/1986</td>\n",
       "      <td>110</td>\n",
       "      <td>6.9</td>\n",
       "      <td>Tom Cruise</td>\n",
       "      <td>236909</td>\n",
       "      <td>Jim Cash</td>\n",
       "      <td>1986</td>\n",
       "    </tr>\n",
       "    <tr>\n",
       "      <th>3</th>\n",
       "      <td>18500000</td>\n",
       "      <td>Twentieth Century Fox Film Corporation</td>\n",
       "      <td>USA</td>\n",
       "      <td>James Cameron</td>\n",
       "      <td>Action</td>\n",
       "      <td>85160248</td>\n",
       "      <td>Aliens</td>\n",
       "      <td>R</td>\n",
       "      <td>7/18/1986</td>\n",
       "      <td>137</td>\n",
       "      <td>8.4</td>\n",
       "      <td>Sigourney Weaver</td>\n",
       "      <td>540152</td>\n",
       "      <td>James Cameron</td>\n",
       "      <td>1986</td>\n",
       "    </tr>\n",
       "    <tr>\n",
       "      <th>4</th>\n",
       "      <td>9000000</td>\n",
       "      <td>Walt Disney Pictures</td>\n",
       "      <td>USA</td>\n",
       "      <td>Randal Kleiser</td>\n",
       "      <td>Adventure</td>\n",
       "      <td>18564613</td>\n",
       "      <td>Flight of the Navigator</td>\n",
       "      <td>PG</td>\n",
       "      <td>8/1/1986</td>\n",
       "      <td>90</td>\n",
       "      <td>6.9</td>\n",
       "      <td>Joey Cramer</td>\n",
       "      <td>36636</td>\n",
       "      <td>Mark H. Baker</td>\n",
       "      <td>1986</td>\n",
       "    </tr>\n",
       "  </tbody>\n",
       "</table>\n",
       "</div>"
      ],
      "text/plain": [
       "     budget                                 company country        director  \\\n",
       "0   8000000           Columbia Pictures Corporation     USA      Rob Reiner   \n",
       "1   6000000                      Paramount Pictures     USA     John Hughes   \n",
       "2  15000000                      Paramount Pictures     USA      Tony Scott   \n",
       "3  18500000  Twentieth Century Fox Film Corporation     USA   James Cameron   \n",
       "4   9000000                    Walt Disney Pictures     USA  Randal Kleiser   \n",
       "\n",
       "       genre      gross                      name rating   released  runtime  \\\n",
       "0  Adventure   52287414               Stand by Me      R  8/22/1986       89   \n",
       "1     Comedy   70136369  Ferris Bueller's Day Off  PG-13  6/11/1986      103   \n",
       "2     Action  179800601                   Top Gun     PG  5/16/1986      110   \n",
       "3     Action   85160248                    Aliens      R  7/18/1986      137   \n",
       "4  Adventure   18564613   Flight of the Navigator     PG   8/1/1986       90   \n",
       "\n",
       "   score               star   votes         writer  year  \n",
       "0    8.1        Wil Wheaton  299174   Stephen King  1986  \n",
       "1    7.8  Matthew Broderick  264740    John Hughes  1986  \n",
       "2    6.9         Tom Cruise  236909       Jim Cash  1986  \n",
       "3    8.4   Sigourney Weaver  540152  James Cameron  1986  \n",
       "4    6.9        Joey Cramer   36636  Mark H. Baker  1986  "
      ]
     },
     "execution_count": 6,
     "metadata": {},
     "output_type": "execute_result"
    }
   ],
   "source": [
    "#Looking at the head of the dataframe \n",
    "movies.head()"
   ]
  },
  {
   "cell_type": "code",
   "execution_count": 7,
   "metadata": {},
   "outputs": [
    {
     "data": {
      "text/plain": [
       "(6820, 15)"
      ]
     },
     "execution_count": 7,
     "metadata": {},
     "output_type": "execute_result"
    }
   ],
   "source": [
    "#Getting the shape of the df \n",
    "movies.shape\n",
    "#We currently have 6,820 rows and 15 columns "
   ]
  },
  {
   "cell_type": "code",
   "execution_count": 8,
   "metadata": {},
   "outputs": [
    {
     "data": {
      "text/plain": [
       "budget      0\n",
       "company     0\n",
       "country     0\n",
       "director    0\n",
       "genre       0\n",
       "gross       0\n",
       "name        0\n",
       "rating      0\n",
       "released    0\n",
       "runtime     0\n",
       "score       0\n",
       "star        0\n",
       "votes       0\n",
       "writer      0\n",
       "year        0\n",
       "dtype: int64"
      ]
     },
     "execution_count": 8,
     "metadata": {},
     "output_type": "execute_result"
    }
   ],
   "source": [
    "#Checking to see if we have any missing values... It shows that we do not. \n",
    "movies.isnull().sum()\n"
   ]
  },
  {
   "cell_type": "code",
   "execution_count": 9,
   "metadata": {},
   "outputs": [],
   "source": [
    "# If we had missing values we would do the following\n",
    "#We are dropping those rows with the following code\n",
    "#movies.dropna(inplace = True)"
   ]
  },
  {
   "cell_type": "code",
   "execution_count": 10,
   "metadata": {},
   "outputs": [
    {
     "data": {
      "text/plain": [
       "4638"
      ]
     },
     "execution_count": 10,
     "metadata": {},
     "output_type": "execute_result"
    }
   ],
   "source": [
    "#We are removing any movie that has a budget of 0, because for our machine learning, we will want to predict profit. \n",
    "# movies in our df that do not contain gross or budget will not be useful for this. \n",
    "movies = movies[movies[\"budget\"] != 0]\n",
    "#We are removing any movie with a gross of 0 \n",
    "movies = movies[movies[\"gross\"] != 0]\n",
    "# movies = movies[movies[\"production_companies\"] != \"[]\"]\n",
    "# movies = movies[movies[\"genres\"] !=  \"[]\"]\n",
    "len(movies)"
   ]
  },
  {
   "cell_type": "code",
   "execution_count": 11,
   "metadata": {},
   "outputs": [
    {
     "data": {
      "text/plain": [
       "budget        int64\n",
       "company      object\n",
       "country      object\n",
       "director     object\n",
       "genre        object\n",
       "gross         int64\n",
       "name         object\n",
       "rating       object\n",
       "released     object\n",
       "runtime       int64\n",
       "score       float64\n",
       "star         object\n",
       "votes         int64\n",
       "writer       object\n",
       "year          int64\n",
       "dtype: object"
      ]
     },
     "execution_count": 11,
     "metadata": {},
     "output_type": "execute_result"
    }
   ],
   "source": [
    "#Checking data types of the columns \n",
    "movies.dtypes\n",
    "#Once we are done cleaning the data we are going to change the data types of: company, director, genre, rating, released\n",
    "#star, writer, and potentially year. If we change them now, when we clean the df and removed rows, the old categories \n",
    "#remain, and still show as possible categories. "
   ]
  },
  {
   "cell_type": "code",
   "execution_count": 12,
   "metadata": {},
   "outputs": [],
   "source": [
    "#Need to change the following to date \n",
    "    #released,year\n",
    "movies[\"released\"] = pd.to_datetime(movies[\"released\"])"
   ]
  },
  {
   "cell_type": "code",
   "execution_count": 13,
   "metadata": {},
   "outputs": [],
   "source": [
    "#Separating the month, day and year into their own columns in case we would like to analyze based on month, day or year\n",
    "movies[\"month\"], movies[\"day\"] = movies[\"released\"].dt.month, movies[\"released\"].dt.day"
   ]
  },
  {
   "cell_type": "code",
   "execution_count": 14,
   "metadata": {},
   "outputs": [
    {
     "data": {
      "text/plain": [
       "budget               int64\n",
       "company             object\n",
       "country             object\n",
       "director            object\n",
       "genre               object\n",
       "gross                int64\n",
       "name                object\n",
       "rating              object\n",
       "released    datetime64[ns]\n",
       "runtime              int64\n",
       "score              float64\n",
       "star                object\n",
       "votes                int64\n",
       "writer              object\n",
       "year                 int64\n",
       "month                int64\n",
       "day                  int64\n",
       "dtype: object"
      ]
     },
     "execution_count": 14,
     "metadata": {},
     "output_type": "execute_result"
    }
   ],
   "source": [
    "#Checking the data types of the columns and making sure the new columns were added \n",
    "movies.dtypes"
   ]
  },
  {
   "cell_type": "code",
   "execution_count": 15,
   "metadata": {},
   "outputs": [],
   "source": [
    "cat = list(range(1,13))\n",
    "#Changing the month data type from int to ordered category \n",
    "movies[\"month\"] = pd.Categorical(movies[\"month\"], ordered = True, categories = cat)"
   ]
  },
  {
   "cell_type": "code",
   "execution_count": 16,
   "metadata": {},
   "outputs": [
    {
     "data": {
      "text/plain": [
       "CategoricalDtype(categories=[1, 2, 3, 4, 5, 6, 7, 8, 9, 10, 11, 12], ordered=True)"
      ]
     },
     "execution_count": 16,
     "metadata": {},
     "output_type": "execute_result"
    }
   ],
   "source": [
    "#Making sure it shows as an ordered factor \n",
    "movies.month.dtype"
   ]
  },
  {
   "cell_type": "code",
   "execution_count": 17,
   "metadata": {},
   "outputs": [
    {
     "data": {
      "text/plain": [
       "budget               int64\n",
       "company             object\n",
       "country             object\n",
       "director            object\n",
       "genre               object\n",
       "gross                int64\n",
       "name                object\n",
       "rating              object\n",
       "released    datetime64[ns]\n",
       "runtime              int64\n",
       "score              float64\n",
       "star                object\n",
       "votes                int64\n",
       "writer              object\n",
       "year                 int64\n",
       "month             category\n",
       "day                  int64\n",
       "dtype: object"
      ]
     },
     "execution_count": 17,
     "metadata": {},
     "output_type": "execute_result"
    }
   ],
   "source": [
    "movies.dtypes"
   ]
  },
  {
   "cell_type": "code",
   "execution_count": 18,
   "metadata": {},
   "outputs": [
    {
     "data": {
      "text/plain": [
       "array(['R', 'PG-13', 'PG', 'UNRATED', 'G', 'NC-17', 'NOT RATED',\n",
       "       'Not specified'], dtype=object)"
      ]
     },
     "execution_count": 18,
     "metadata": {},
     "output_type": "execute_result"
    }
   ],
   "source": [
    "#Getting a list of a the different ratings in our df \n",
    "movies[\"rating\"].unique()"
   ]
  },
  {
   "cell_type": "code",
   "execution_count": 19,
   "metadata": {},
   "outputs": [],
   "source": [
    "#UNRATED, not specified AND NOT RATED mean the same thing, therefore we are going to change all not rated, not specified entries to unrated \n",
    "movies[\"rating\"] = movies[\"rating\"].replace([\"NOT RATED\", \"Not specified\"], \"UNRATED\")"
   ]
  },
  {
   "cell_type": "code",
   "execution_count": 20,
   "metadata": {},
   "outputs": [
    {
     "data": {
      "text/plain": [
       "array(['R', 'PG-13', 'PG', 'UNRATED', 'G', 'NC-17'], dtype=object)"
      ]
     },
     "execution_count": 20,
     "metadata": {},
     "output_type": "execute_result"
    }
   ],
   "source": [
    "#Checking to make sure that worked: \n",
    "movies[\"rating\"].unique()"
   ]
  },
  {
   "cell_type": "code",
   "execution_count": 21,
   "metadata": {},
   "outputs": [],
   "source": [
    "#Changing rating to an ordered factor\n",
    "#Creating the order that we would like for the ordered factor\n",
    "cat = [\"UNRATED\", \"G\", \"PG\", \"PG-13\", \"R\", \"NC-17\"]\n",
    "#Changing to ordered factor \n",
    "movies[\"rating\"] = pd.Categorical(movies[\"rating\"], ordered = True, categories = cat)"
   ]
  },
  {
   "cell_type": "code",
   "execution_count": 22,
   "metadata": {},
   "outputs": [
    {
     "data": {
      "text/plain": [
       "CategoricalDtype(categories=['UNRATED', 'G', 'PG', 'PG-13', 'R', 'NC-17'], ordered=True)"
      ]
     },
     "execution_count": 22,
     "metadata": {},
     "output_type": "execute_result"
    }
   ],
   "source": [
    "#Checking to see if it worked \n",
    "movies.rating.dtype"
   ]
  },
  {
   "cell_type": "code",
   "execution_count": 23,
   "metadata": {},
   "outputs": [],
   "source": [
    "#We want to be able to look at the profit for each movie... Therefore we are creating a \n",
    "#profit column which is gross - budget \n",
    "\n",
    "movies[\"profit\"] = movies[\"gross\"] - movies[\"budget\"]"
   ]
  },
  {
   "cell_type": "code",
   "execution_count": 24,
   "metadata": {},
   "outputs": [],
   "source": [
    "#Creating a percent profit column to have a normalized way to compare profits. \n",
    "#percent_profit = profit/budget*100 \n",
    "movies[\"percent_profit\"] = movies[\"profit\"]/movies[\"budget\"]*100"
   ]
  },
  {
   "cell_type": "code",
   "execution_count": 25,
   "metadata": {},
   "outputs": [
    {
     "data": {
      "text/html": [
       "<div>\n",
       "<style scoped>\n",
       "    .dataframe tbody tr th:only-of-type {\n",
       "        vertical-align: middle;\n",
       "    }\n",
       "\n",
       "    .dataframe tbody tr th {\n",
       "        vertical-align: top;\n",
       "    }\n",
       "\n",
       "    .dataframe thead th {\n",
       "        text-align: right;\n",
       "    }\n",
       "</style>\n",
       "<table border=\"1\" class=\"dataframe\">\n",
       "  <thead>\n",
       "    <tr style=\"text-align: right;\">\n",
       "      <th></th>\n",
       "      <th>budget</th>\n",
       "      <th>company</th>\n",
       "      <th>country</th>\n",
       "      <th>director</th>\n",
       "      <th>genre</th>\n",
       "      <th>gross</th>\n",
       "      <th>name</th>\n",
       "      <th>rating</th>\n",
       "      <th>released</th>\n",
       "      <th>runtime</th>\n",
       "      <th>score</th>\n",
       "      <th>star</th>\n",
       "      <th>votes</th>\n",
       "      <th>writer</th>\n",
       "      <th>year</th>\n",
       "      <th>month</th>\n",
       "      <th>day</th>\n",
       "      <th>profit</th>\n",
       "      <th>percent_profit</th>\n",
       "    </tr>\n",
       "  </thead>\n",
       "  <tbody>\n",
       "    <tr>\n",
       "      <th>0</th>\n",
       "      <td>8000000</td>\n",
       "      <td>Columbia Pictures Corporation</td>\n",
       "      <td>USA</td>\n",
       "      <td>Rob Reiner</td>\n",
       "      <td>Adventure</td>\n",
       "      <td>52287414</td>\n",
       "      <td>Stand by Me</td>\n",
       "      <td>R</td>\n",
       "      <td>1986-08-22</td>\n",
       "      <td>89</td>\n",
       "      <td>8.1</td>\n",
       "      <td>Wil Wheaton</td>\n",
       "      <td>299174</td>\n",
       "      <td>Stephen King</td>\n",
       "      <td>1986</td>\n",
       "      <td>8</td>\n",
       "      <td>22</td>\n",
       "      <td>44287414</td>\n",
       "      <td>553.592675</td>\n",
       "    </tr>\n",
       "    <tr>\n",
       "      <th>1</th>\n",
       "      <td>6000000</td>\n",
       "      <td>Paramount Pictures</td>\n",
       "      <td>USA</td>\n",
       "      <td>John Hughes</td>\n",
       "      <td>Comedy</td>\n",
       "      <td>70136369</td>\n",
       "      <td>Ferris Bueller's Day Off</td>\n",
       "      <td>PG-13</td>\n",
       "      <td>1986-06-11</td>\n",
       "      <td>103</td>\n",
       "      <td>7.8</td>\n",
       "      <td>Matthew Broderick</td>\n",
       "      <td>264740</td>\n",
       "      <td>John Hughes</td>\n",
       "      <td>1986</td>\n",
       "      <td>6</td>\n",
       "      <td>11</td>\n",
       "      <td>64136369</td>\n",
       "      <td>1068.939483</td>\n",
       "    </tr>\n",
       "    <tr>\n",
       "      <th>2</th>\n",
       "      <td>15000000</td>\n",
       "      <td>Paramount Pictures</td>\n",
       "      <td>USA</td>\n",
       "      <td>Tony Scott</td>\n",
       "      <td>Action</td>\n",
       "      <td>179800601</td>\n",
       "      <td>Top Gun</td>\n",
       "      <td>PG</td>\n",
       "      <td>1986-05-16</td>\n",
       "      <td>110</td>\n",
       "      <td>6.9</td>\n",
       "      <td>Tom Cruise</td>\n",
       "      <td>236909</td>\n",
       "      <td>Jim Cash</td>\n",
       "      <td>1986</td>\n",
       "      <td>5</td>\n",
       "      <td>16</td>\n",
       "      <td>164800601</td>\n",
       "      <td>1098.670673</td>\n",
       "    </tr>\n",
       "    <tr>\n",
       "      <th>3</th>\n",
       "      <td>18500000</td>\n",
       "      <td>Twentieth Century Fox Film Corporation</td>\n",
       "      <td>USA</td>\n",
       "      <td>James Cameron</td>\n",
       "      <td>Action</td>\n",
       "      <td>85160248</td>\n",
       "      <td>Aliens</td>\n",
       "      <td>R</td>\n",
       "      <td>1986-07-18</td>\n",
       "      <td>137</td>\n",
       "      <td>8.4</td>\n",
       "      <td>Sigourney Weaver</td>\n",
       "      <td>540152</td>\n",
       "      <td>James Cameron</td>\n",
       "      <td>1986</td>\n",
       "      <td>7</td>\n",
       "      <td>18</td>\n",
       "      <td>66660248</td>\n",
       "      <td>360.325665</td>\n",
       "    </tr>\n",
       "    <tr>\n",
       "      <th>4</th>\n",
       "      <td>9000000</td>\n",
       "      <td>Walt Disney Pictures</td>\n",
       "      <td>USA</td>\n",
       "      <td>Randal Kleiser</td>\n",
       "      <td>Adventure</td>\n",
       "      <td>18564613</td>\n",
       "      <td>Flight of the Navigator</td>\n",
       "      <td>PG</td>\n",
       "      <td>1986-08-01</td>\n",
       "      <td>90</td>\n",
       "      <td>6.9</td>\n",
       "      <td>Joey Cramer</td>\n",
       "      <td>36636</td>\n",
       "      <td>Mark H. Baker</td>\n",
       "      <td>1986</td>\n",
       "      <td>8</td>\n",
       "      <td>1</td>\n",
       "      <td>9564613</td>\n",
       "      <td>106.273478</td>\n",
       "    </tr>\n",
       "  </tbody>\n",
       "</table>\n",
       "</div>"
      ],
      "text/plain": [
       "     budget                                 company country        director  \\\n",
       "0   8000000           Columbia Pictures Corporation     USA      Rob Reiner   \n",
       "1   6000000                      Paramount Pictures     USA     John Hughes   \n",
       "2  15000000                      Paramount Pictures     USA      Tony Scott   \n",
       "3  18500000  Twentieth Century Fox Film Corporation     USA   James Cameron   \n",
       "4   9000000                    Walt Disney Pictures     USA  Randal Kleiser   \n",
       "\n",
       "       genre      gross                      name rating   released  runtime  \\\n",
       "0  Adventure   52287414               Stand by Me      R 1986-08-22       89   \n",
       "1     Comedy   70136369  Ferris Bueller's Day Off  PG-13 1986-06-11      103   \n",
       "2     Action  179800601                   Top Gun     PG 1986-05-16      110   \n",
       "3     Action   85160248                    Aliens      R 1986-07-18      137   \n",
       "4  Adventure   18564613   Flight of the Navigator     PG 1986-08-01       90   \n",
       "\n",
       "   score               star   votes         writer  year month  day  \\\n",
       "0    8.1        Wil Wheaton  299174   Stephen King  1986     8   22   \n",
       "1    7.8  Matthew Broderick  264740    John Hughes  1986     6   11   \n",
       "2    6.9         Tom Cruise  236909       Jim Cash  1986     5   16   \n",
       "3    8.4   Sigourney Weaver  540152  James Cameron  1986     7   18   \n",
       "4    6.9        Joey Cramer   36636  Mark H. Baker  1986     8    1   \n",
       "\n",
       "      profit  percent_profit  \n",
       "0   44287414      553.592675  \n",
       "1   64136369     1068.939483  \n",
       "2  164800601     1098.670673  \n",
       "3   66660248      360.325665  \n",
       "4    9564613      106.273478  "
      ]
     },
     "execution_count": 25,
     "metadata": {},
     "output_type": "execute_result"
    }
   ],
   "source": [
    "movies.head()"
   ]
  },
  {
   "cell_type": "code",
   "execution_count": 26,
   "metadata": {},
   "outputs": [],
   "source": [
    "#Directors\n",
    "#Aggregating a moving average column and calculating the mean average imdb score for each actor; by calculating the \n",
    "#mean imdb scores for all actors but for only the movies prior to the movie we are calculting the mean for. \n",
    "directors_avg = calculating_moving_avg(movies, \"director\")\n",
    "#Writers: \n",
    "writers_avg = calculating_moving_avg(movies, \"writer\")\n",
    "#actors: \n",
    "stars_avg = calculating_moving_avg(movies, \"star\")\n",
    "#company: \n",
    "companies_avg = calculating_moving_avg(movies, \"company\")"
   ]
  },
  {
   "cell_type": "code",
   "execution_count": 27,
   "metadata": {},
   "outputs": [],
   "source": [
    "#We are going to use our left_merge_2_conditions function: \n",
    "#Inputs: df1, df2, column to merge on 1 and column to merge on 2 \n",
    "movies = left_merge_2_conditions(movies, directors_avg, \"director\", \"released\")\n",
    "movies = left_merge_2_conditions(movies, writers_avg, \"writer\", \"released\")\n",
    "movies = left_merge_2_conditions(movies, stars_avg, \"star\", \"released\")\n",
    "movies = left_merge_2_conditions(movies, companies_avg, \"company\", \"released\")"
   ]
  },
  {
   "cell_type": "code",
   "execution_count": 28,
   "metadata": {},
   "outputs": [
    {
     "data": {
      "text/html": [
       "<div>\n",
       "<style scoped>\n",
       "    .dataframe tbody tr th:only-of-type {\n",
       "        vertical-align: middle;\n",
       "    }\n",
       "\n",
       "    .dataframe tbody tr th {\n",
       "        vertical-align: top;\n",
       "    }\n",
       "\n",
       "    .dataframe thead th {\n",
       "        text-align: right;\n",
       "    }\n",
       "</style>\n",
       "<table border=\"1\" class=\"dataframe\">\n",
       "  <thead>\n",
       "    <tr style=\"text-align: right;\">\n",
       "      <th></th>\n",
       "      <th>budget</th>\n",
       "      <th>company</th>\n",
       "      <th>country</th>\n",
       "      <th>director</th>\n",
       "      <th>genre</th>\n",
       "      <th>gross</th>\n",
       "      <th>name</th>\n",
       "      <th>rating</th>\n",
       "      <th>released</th>\n",
       "      <th>runtime</th>\n",
       "      <th>...</th>\n",
       "      <th>profit</th>\n",
       "      <th>percent_profit</th>\n",
       "      <th>cumulative_mean_director</th>\n",
       "      <th>exp_mean_director</th>\n",
       "      <th>cumulative_mean_writer</th>\n",
       "      <th>exp_mean_writer</th>\n",
       "      <th>cumulative_mean_star</th>\n",
       "      <th>exp_mean_star</th>\n",
       "      <th>cumulative_mean_company</th>\n",
       "      <th>exp_mean_company</th>\n",
       "    </tr>\n",
       "  </thead>\n",
       "  <tbody>\n",
       "    <tr>\n",
       "      <th>0</th>\n",
       "      <td>8000000</td>\n",
       "      <td>Columbia Pictures Corporation</td>\n",
       "      <td>USA</td>\n",
       "      <td>Rob Reiner</td>\n",
       "      <td>Adventure</td>\n",
       "      <td>52287414</td>\n",
       "      <td>Stand by Me</td>\n",
       "      <td>R</td>\n",
       "      <td>1986-08-22</td>\n",
       "      <td>89</td>\n",
       "      <td>...</td>\n",
       "      <td>44287414</td>\n",
       "      <td>553.592675</td>\n",
       "      <td>0.0</td>\n",
       "      <td>0.0</td>\n",
       "      <td>5.4</td>\n",
       "      <td>5.4</td>\n",
       "      <td>0.0</td>\n",
       "      <td>0.0</td>\n",
       "      <td>5.95</td>\n",
       "      <td>6.265854</td>\n",
       "    </tr>\n",
       "    <tr>\n",
       "      <th>1</th>\n",
       "      <td>6000000</td>\n",
       "      <td>Paramount Pictures</td>\n",
       "      <td>USA</td>\n",
       "      <td>John Hughes</td>\n",
       "      <td>Comedy</td>\n",
       "      <td>70136369</td>\n",
       "      <td>Ferris Bueller's Day Off</td>\n",
       "      <td>PG-13</td>\n",
       "      <td>1986-06-11</td>\n",
       "      <td>103</td>\n",
       "      <td>...</td>\n",
       "      <td>64136369</td>\n",
       "      <td>1068.939483</td>\n",
       "      <td>0.0</td>\n",
       "      <td>0.0</td>\n",
       "      <td>6.8</td>\n",
       "      <td>6.8</td>\n",
       "      <td>0.0</td>\n",
       "      <td>0.0</td>\n",
       "      <td>6.10</td>\n",
       "      <td>6.641843</td>\n",
       "    </tr>\n",
       "    <tr>\n",
       "      <th>2</th>\n",
       "      <td>15000000</td>\n",
       "      <td>Paramount Pictures</td>\n",
       "      <td>USA</td>\n",
       "      <td>Tony Scott</td>\n",
       "      <td>Action</td>\n",
       "      <td>179800601</td>\n",
       "      <td>Top Gun</td>\n",
       "      <td>PG</td>\n",
       "      <td>1986-05-16</td>\n",
       "      <td>110</td>\n",
       "      <td>...</td>\n",
       "      <td>164800601</td>\n",
       "      <td>1098.670673</td>\n",
       "      <td>0.0</td>\n",
       "      <td>0.0</td>\n",
       "      <td>0.0</td>\n",
       "      <td>0.0</td>\n",
       "      <td>0.0</td>\n",
       "      <td>0.0</td>\n",
       "      <td>5.90</td>\n",
       "      <td>6.628604</td>\n",
       "    </tr>\n",
       "    <tr>\n",
       "      <th>3</th>\n",
       "      <td>18500000</td>\n",
       "      <td>Twentieth Century Fox Film Corporation</td>\n",
       "      <td>USA</td>\n",
       "      <td>James Cameron</td>\n",
       "      <td>Action</td>\n",
       "      <td>85160248</td>\n",
       "      <td>Aliens</td>\n",
       "      <td>R</td>\n",
       "      <td>1986-07-18</td>\n",
       "      <td>137</td>\n",
       "      <td>...</td>\n",
       "      <td>66660248</td>\n",
       "      <td>360.325665</td>\n",
       "      <td>0.0</td>\n",
       "      <td>0.0</td>\n",
       "      <td>0.0</td>\n",
       "      <td>0.0</td>\n",
       "      <td>0.0</td>\n",
       "      <td>0.0</td>\n",
       "      <td>7.05</td>\n",
       "      <td>6.824390</td>\n",
       "    </tr>\n",
       "    <tr>\n",
       "      <th>4</th>\n",
       "      <td>9000000</td>\n",
       "      <td>Walt Disney Pictures</td>\n",
       "      <td>USA</td>\n",
       "      <td>Randal Kleiser</td>\n",
       "      <td>Adventure</td>\n",
       "      <td>18564613</td>\n",
       "      <td>Flight of the Navigator</td>\n",
       "      <td>PG</td>\n",
       "      <td>1986-08-01</td>\n",
       "      <td>90</td>\n",
       "      <td>...</td>\n",
       "      <td>9564613</td>\n",
       "      <td>106.273478</td>\n",
       "      <td>0.0</td>\n",
       "      <td>0.0</td>\n",
       "      <td>0.0</td>\n",
       "      <td>0.0</td>\n",
       "      <td>0.0</td>\n",
       "      <td>0.0</td>\n",
       "      <td>7.20</td>\n",
       "      <td>7.200000</td>\n",
       "    </tr>\n",
       "  </tbody>\n",
       "</table>\n",
       "<p>5 rows × 27 columns</p>\n",
       "</div>"
      ],
      "text/plain": [
       "     budget                                 company country        director  \\\n",
       "0   8000000           Columbia Pictures Corporation     USA      Rob Reiner   \n",
       "1   6000000                      Paramount Pictures     USA     John Hughes   \n",
       "2  15000000                      Paramount Pictures     USA      Tony Scott   \n",
       "3  18500000  Twentieth Century Fox Film Corporation     USA   James Cameron   \n",
       "4   9000000                    Walt Disney Pictures     USA  Randal Kleiser   \n",
       "\n",
       "       genre      gross                      name rating   released  runtime  \\\n",
       "0  Adventure   52287414               Stand by Me      R 1986-08-22       89   \n",
       "1     Comedy   70136369  Ferris Bueller's Day Off  PG-13 1986-06-11      103   \n",
       "2     Action  179800601                   Top Gun     PG 1986-05-16      110   \n",
       "3     Action   85160248                    Aliens      R 1986-07-18      137   \n",
       "4  Adventure   18564613   Flight of the Navigator     PG 1986-08-01       90   \n",
       "\n",
       "   ...     profit percent_profit  cumulative_mean_director exp_mean_director  \\\n",
       "0  ...   44287414     553.592675                       0.0               0.0   \n",
       "1  ...   64136369    1068.939483                       0.0               0.0   \n",
       "2  ...  164800601    1098.670673                       0.0               0.0   \n",
       "3  ...   66660248     360.325665                       0.0               0.0   \n",
       "4  ...    9564613     106.273478                       0.0               0.0   \n",
       "\n",
       "   cumulative_mean_writer exp_mean_writer  cumulative_mean_star  \\\n",
       "0                     5.4             5.4                   0.0   \n",
       "1                     6.8             6.8                   0.0   \n",
       "2                     0.0             0.0                   0.0   \n",
       "3                     0.0             0.0                   0.0   \n",
       "4                     0.0             0.0                   0.0   \n",
       "\n",
       "   exp_mean_star  cumulative_mean_company  exp_mean_company  \n",
       "0            0.0                     5.95          6.265854  \n",
       "1            0.0                     6.10          6.641843  \n",
       "2            0.0                     5.90          6.628604  \n",
       "3            0.0                     7.05          6.824390  \n",
       "4            0.0                     7.20          7.200000  \n",
       "\n",
       "[5 rows x 27 columns]"
      ]
     },
     "execution_count": 28,
     "metadata": {},
     "output_type": "execute_result"
    }
   ],
   "source": [
    "movies.head()"
   ]
  },
  {
   "cell_type": "code",
   "execution_count": 29,
   "metadata": {},
   "outputs": [],
   "source": [
    "#Looking to see what happens if we remove all the movies with a 0 for exp_mean_director and exp_mean_star\n",
    "movies = movies[movies[\"exp_mean_director\"] != 0]\n",
    "movies = movies[movies[\"exp_mean_star\"] != 0]\n",
    "movies = movies[movies[\"exp_mean_writer\"] != 0]\n",
    "movies = movies[movies[\"exp_mean_company\"] != 0]"
   ]
  },
  {
   "cell_type": "code",
   "execution_count": 30,
   "metadata": {},
   "outputs": [
    {
     "data": {
      "text/plain": [
       "883"
      ]
     },
     "execution_count": 30,
     "metadata": {},
     "output_type": "execute_result"
    }
   ],
   "source": [
    "len(movies) #We still have 883 movies in our df"
   ]
  },
  {
   "cell_type": "code",
   "execution_count": 31,
   "metadata": {},
   "outputs": [
    {
     "data": {
      "text/html": [
       "<div>\n",
       "<style scoped>\n",
       "    .dataframe tbody tr th:only-of-type {\n",
       "        vertical-align: middle;\n",
       "    }\n",
       "\n",
       "    .dataframe tbody tr th {\n",
       "        vertical-align: top;\n",
       "    }\n",
       "\n",
       "    .dataframe thead th {\n",
       "        text-align: right;\n",
       "    }\n",
       "</style>\n",
       "<table border=\"1\" class=\"dataframe\">\n",
       "  <thead>\n",
       "    <tr style=\"text-align: right;\">\n",
       "      <th></th>\n",
       "      <th>budget</th>\n",
       "      <th>company</th>\n",
       "      <th>country</th>\n",
       "      <th>director</th>\n",
       "      <th>genre</th>\n",
       "      <th>gross</th>\n",
       "      <th>name</th>\n",
       "      <th>rating</th>\n",
       "      <th>released</th>\n",
       "      <th>runtime</th>\n",
       "      <th>...</th>\n",
       "      <th>profit</th>\n",
       "      <th>percent_profit</th>\n",
       "      <th>cumulative_mean_director</th>\n",
       "      <th>exp_mean_director</th>\n",
       "      <th>cumulative_mean_writer</th>\n",
       "      <th>exp_mean_writer</th>\n",
       "      <th>cumulative_mean_star</th>\n",
       "      <th>exp_mean_star</th>\n",
       "      <th>cumulative_mean_company</th>\n",
       "      <th>exp_mean_company</th>\n",
       "    </tr>\n",
       "  </thead>\n",
       "  <tbody>\n",
       "    <tr>\n",
       "      <th>110</th>\n",
       "      <td>30000000</td>\n",
       "      <td>Paramount Pictures</td>\n",
       "      <td>USA</td>\n",
       "      <td>John Hughes</td>\n",
       "      <td>Comedy</td>\n",
       "      <td>49530280</td>\n",
       "      <td>Planes, Trains &amp; Automobiles</td>\n",
       "      <td>R</td>\n",
       "      <td>1987-11-25</td>\n",
       "      <td>93</td>\n",
       "      <td>...</td>\n",
       "      <td>19530280</td>\n",
       "      <td>65.100933</td>\n",
       "      <td>7.8</td>\n",
       "      <td>7.8</td>\n",
       "      <td>7.3</td>\n",
       "      <td>6.84878</td>\n",
       "      <td>6.5</td>\n",
       "      <td>6.409756</td>\n",
       "      <td>6.428571</td>\n",
       "      <td>6.633831</td>\n",
       "    </tr>\n",
       "    <tr>\n",
       "      <th>116</th>\n",
       "      <td>28000000</td>\n",
       "      <td>Paramount Pictures</td>\n",
       "      <td>USA</td>\n",
       "      <td>Tony Scott</td>\n",
       "      <td>Action</td>\n",
       "      <td>153665000</td>\n",
       "      <td>Beverly Hills Cop II</td>\n",
       "      <td>R</td>\n",
       "      <td>1987-05-20</td>\n",
       "      <td>100</td>\n",
       "      <td>...</td>\n",
       "      <td>125665000</td>\n",
       "      <td>448.803571</td>\n",
       "      <td>6.9</td>\n",
       "      <td>6.9</td>\n",
       "      <td>6.2</td>\n",
       "      <td>6.20000</td>\n",
       "      <td>5.9</td>\n",
       "      <td>5.900000</td>\n",
       "      <td>6.245455</td>\n",
       "      <td>6.557347</td>\n",
       "    </tr>\n",
       "    <tr>\n",
       "      <th>139</th>\n",
       "      <td>16000000</td>\n",
       "      <td>Orion Pictures</td>\n",
       "      <td>USA</td>\n",
       "      <td>Woody Allen</td>\n",
       "      <td>Comedy</td>\n",
       "      <td>14792779</td>\n",
       "      <td>Radio Days</td>\n",
       "      <td>PG</td>\n",
       "      <td>1987-01-30</td>\n",
       "      <td>88</td>\n",
       "      <td>...</td>\n",
       "      <td>-1207221</td>\n",
       "      <td>-7.545131</td>\n",
       "      <td>8.0</td>\n",
       "      <td>8.0</td>\n",
       "      <td>8.0</td>\n",
       "      <td>8.00000</td>\n",
       "      <td>8.0</td>\n",
       "      <td>8.000000</td>\n",
       "      <td>7.100000</td>\n",
       "      <td>6.755443</td>\n",
       "    </tr>\n",
       "    <tr>\n",
       "      <th>151</th>\n",
       "      <td>350000</td>\n",
       "      <td>Cannon Group</td>\n",
       "      <td>USA</td>\n",
       "      <td>Sam Firstenberg</td>\n",
       "      <td>Action</td>\n",
       "      <td>4000000</td>\n",
       "      <td>American Ninja 2: The Confrontation</td>\n",
       "      <td>R</td>\n",
       "      <td>1987-05-01</td>\n",
       "      <td>90</td>\n",
       "      <td>...</td>\n",
       "      <td>3650000</td>\n",
       "      <td>1042.857143</td>\n",
       "      <td>5.9</td>\n",
       "      <td>5.9</td>\n",
       "      <td>5.7</td>\n",
       "      <td>5.70000</td>\n",
       "      <td>5.9</td>\n",
       "      <td>5.900000</td>\n",
       "      <td>5.350000</td>\n",
       "      <td>5.034146</td>\n",
       "    </tr>\n",
       "    <tr>\n",
       "      <th>213</th>\n",
       "      <td>6000000</td>\n",
       "      <td>Paramount Pictures</td>\n",
       "      <td>Canada</td>\n",
       "      <td>Jonathan Kaplan</td>\n",
       "      <td>Drama</td>\n",
       "      <td>32069318</td>\n",
       "      <td>Acusados</td>\n",
       "      <td>R</td>\n",
       "      <td>1988-10-14</td>\n",
       "      <td>111</td>\n",
       "      <td>...</td>\n",
       "      <td>26069318</td>\n",
       "      <td>434.488633</td>\n",
       "      <td>6.1</td>\n",
       "      <td>6.1</td>\n",
       "      <td>6.7</td>\n",
       "      <td>6.70000</td>\n",
       "      <td>6.2</td>\n",
       "      <td>6.200000</td>\n",
       "      <td>6.377778</td>\n",
       "      <td>6.546875</td>\n",
       "    </tr>\n",
       "  </tbody>\n",
       "</table>\n",
       "<p>5 rows × 27 columns</p>\n",
       "</div>"
      ],
      "text/plain": [
       "       budget             company country         director   genre      gross  \\\n",
       "110  30000000  Paramount Pictures     USA      John Hughes  Comedy   49530280   \n",
       "116  28000000  Paramount Pictures     USA       Tony Scott  Action  153665000   \n",
       "139  16000000      Orion Pictures     USA      Woody Allen  Comedy   14792779   \n",
       "151    350000        Cannon Group     USA  Sam Firstenberg  Action    4000000   \n",
       "213   6000000  Paramount Pictures  Canada  Jonathan Kaplan   Drama   32069318   \n",
       "\n",
       "                                    name rating   released  runtime  ...  \\\n",
       "110         Planes, Trains & Automobiles      R 1987-11-25       93  ...   \n",
       "116                 Beverly Hills Cop II      R 1987-05-20      100  ...   \n",
       "139                           Radio Days     PG 1987-01-30       88  ...   \n",
       "151  American Ninja 2: The Confrontation      R 1987-05-01       90  ...   \n",
       "213                             Acusados      R 1988-10-14      111  ...   \n",
       "\n",
       "        profit percent_profit  cumulative_mean_director exp_mean_director  \\\n",
       "110   19530280      65.100933                       7.8               7.8   \n",
       "116  125665000     448.803571                       6.9               6.9   \n",
       "139   -1207221      -7.545131                       8.0               8.0   \n",
       "151    3650000    1042.857143                       5.9               5.9   \n",
       "213   26069318     434.488633                       6.1               6.1   \n",
       "\n",
       "     cumulative_mean_writer exp_mean_writer  cumulative_mean_star  \\\n",
       "110                     7.3         6.84878                   6.5   \n",
       "116                     6.2         6.20000                   5.9   \n",
       "139                     8.0         8.00000                   8.0   \n",
       "151                     5.7         5.70000                   5.9   \n",
       "213                     6.7         6.70000                   6.2   \n",
       "\n",
       "     exp_mean_star  cumulative_mean_company  exp_mean_company  \n",
       "110       6.409756                 6.428571          6.633831  \n",
       "116       5.900000                 6.245455          6.557347  \n",
       "139       8.000000                 7.100000          6.755443  \n",
       "151       5.900000                 5.350000          5.034146  \n",
       "213       6.200000                 6.377778          6.546875  \n",
       "\n",
       "[5 rows x 27 columns]"
      ]
     },
     "execution_count": 31,
     "metadata": {},
     "output_type": "execute_result"
    }
   ],
   "source": [
    "movies.head()"
   ]
  },
  {
   "cell_type": "code",
   "execution_count": 32,
   "metadata": {},
   "outputs": [],
   "source": [
    "#Creating an aggregated column for the avg writer, director, company, actor cumulative mean \n",
    "movies[\"cumulative_mean_avg\"] = (movies[\"cumulative_mean_writer\"] + movies[\"cumulative_mean_director\"] + \n",
    "                              movies[\"cumulative_mean_company\"] + movies[\"cumulative_mean_star\"])/4"
   ]
  },
  {
   "cell_type": "code",
   "execution_count": 33,
   "metadata": {},
   "outputs": [],
   "source": [
    "# Creating an aggregated column for the avg writer, director, company, \n",
    "# and actor exponential mean\n",
    "movies[\"exp_mean_avg\"] = (movies[\"exp_mean_writer\"] + movies[\"exp_mean_director\"] + \n",
    "                              movies[\"exp_mean_company\"] + movies[\"exp_mean_star\"])/4"
   ]
  },
  {
   "cell_type": "code",
   "execution_count": 34,
   "metadata": {},
   "outputs": [
    {
     "data": {
      "text/html": [
       "<div>\n",
       "<style scoped>\n",
       "    .dataframe tbody tr th:only-of-type {\n",
       "        vertical-align: middle;\n",
       "    }\n",
       "\n",
       "    .dataframe tbody tr th {\n",
       "        vertical-align: top;\n",
       "    }\n",
       "\n",
       "    .dataframe thead th {\n",
       "        text-align: right;\n",
       "    }\n",
       "</style>\n",
       "<table border=\"1\" class=\"dataframe\">\n",
       "  <thead>\n",
       "    <tr style=\"text-align: right;\">\n",
       "      <th></th>\n",
       "      <th>budget</th>\n",
       "      <th>company</th>\n",
       "      <th>country</th>\n",
       "      <th>director</th>\n",
       "      <th>genre</th>\n",
       "      <th>gross</th>\n",
       "      <th>name</th>\n",
       "      <th>rating</th>\n",
       "      <th>released</th>\n",
       "      <th>runtime</th>\n",
       "      <th>...</th>\n",
       "      <th>cumulative_mean_director</th>\n",
       "      <th>exp_mean_director</th>\n",
       "      <th>cumulative_mean_writer</th>\n",
       "      <th>exp_mean_writer</th>\n",
       "      <th>cumulative_mean_star</th>\n",
       "      <th>exp_mean_star</th>\n",
       "      <th>cumulative_mean_company</th>\n",
       "      <th>exp_mean_company</th>\n",
       "      <th>cumulative_mean_avg</th>\n",
       "      <th>exp_mean_avg</th>\n",
       "    </tr>\n",
       "  </thead>\n",
       "  <tbody>\n",
       "    <tr>\n",
       "      <th>110</th>\n",
       "      <td>30000000</td>\n",
       "      <td>Paramount Pictures</td>\n",
       "      <td>USA</td>\n",
       "      <td>John Hughes</td>\n",
       "      <td>Comedy</td>\n",
       "      <td>49530280</td>\n",
       "      <td>Planes, Trains &amp; Automobiles</td>\n",
       "      <td>R</td>\n",
       "      <td>1987-11-25</td>\n",
       "      <td>93</td>\n",
       "      <td>...</td>\n",
       "      <td>7.8</td>\n",
       "      <td>7.8</td>\n",
       "      <td>7.3</td>\n",
       "      <td>6.84878</td>\n",
       "      <td>6.5</td>\n",
       "      <td>6.409756</td>\n",
       "      <td>6.428571</td>\n",
       "      <td>6.633831</td>\n",
       "      <td>7.007143</td>\n",
       "      <td>6.923092</td>\n",
       "    </tr>\n",
       "    <tr>\n",
       "      <th>116</th>\n",
       "      <td>28000000</td>\n",
       "      <td>Paramount Pictures</td>\n",
       "      <td>USA</td>\n",
       "      <td>Tony Scott</td>\n",
       "      <td>Action</td>\n",
       "      <td>153665000</td>\n",
       "      <td>Beverly Hills Cop II</td>\n",
       "      <td>R</td>\n",
       "      <td>1987-05-20</td>\n",
       "      <td>100</td>\n",
       "      <td>...</td>\n",
       "      <td>6.9</td>\n",
       "      <td>6.9</td>\n",
       "      <td>6.2</td>\n",
       "      <td>6.20000</td>\n",
       "      <td>5.9</td>\n",
       "      <td>5.900000</td>\n",
       "      <td>6.245455</td>\n",
       "      <td>6.557347</td>\n",
       "      <td>6.311364</td>\n",
       "      <td>6.389337</td>\n",
       "    </tr>\n",
       "    <tr>\n",
       "      <th>139</th>\n",
       "      <td>16000000</td>\n",
       "      <td>Orion Pictures</td>\n",
       "      <td>USA</td>\n",
       "      <td>Woody Allen</td>\n",
       "      <td>Comedy</td>\n",
       "      <td>14792779</td>\n",
       "      <td>Radio Days</td>\n",
       "      <td>PG</td>\n",
       "      <td>1987-01-30</td>\n",
       "      <td>88</td>\n",
       "      <td>...</td>\n",
       "      <td>8.0</td>\n",
       "      <td>8.0</td>\n",
       "      <td>8.0</td>\n",
       "      <td>8.00000</td>\n",
       "      <td>8.0</td>\n",
       "      <td>8.000000</td>\n",
       "      <td>7.100000</td>\n",
       "      <td>6.755443</td>\n",
       "      <td>7.775000</td>\n",
       "      <td>7.688861</td>\n",
       "    </tr>\n",
       "    <tr>\n",
       "      <th>151</th>\n",
       "      <td>350000</td>\n",
       "      <td>Cannon Group</td>\n",
       "      <td>USA</td>\n",
       "      <td>Sam Firstenberg</td>\n",
       "      <td>Action</td>\n",
       "      <td>4000000</td>\n",
       "      <td>American Ninja 2: The Confrontation</td>\n",
       "      <td>R</td>\n",
       "      <td>1987-05-01</td>\n",
       "      <td>90</td>\n",
       "      <td>...</td>\n",
       "      <td>5.9</td>\n",
       "      <td>5.9</td>\n",
       "      <td>5.7</td>\n",
       "      <td>5.70000</td>\n",
       "      <td>5.9</td>\n",
       "      <td>5.900000</td>\n",
       "      <td>5.350000</td>\n",
       "      <td>5.034146</td>\n",
       "      <td>5.712500</td>\n",
       "      <td>5.633537</td>\n",
       "    </tr>\n",
       "    <tr>\n",
       "      <th>213</th>\n",
       "      <td>6000000</td>\n",
       "      <td>Paramount Pictures</td>\n",
       "      <td>Canada</td>\n",
       "      <td>Jonathan Kaplan</td>\n",
       "      <td>Drama</td>\n",
       "      <td>32069318</td>\n",
       "      <td>Acusados</td>\n",
       "      <td>R</td>\n",
       "      <td>1988-10-14</td>\n",
       "      <td>111</td>\n",
       "      <td>...</td>\n",
       "      <td>6.1</td>\n",
       "      <td>6.1</td>\n",
       "      <td>6.7</td>\n",
       "      <td>6.70000</td>\n",
       "      <td>6.2</td>\n",
       "      <td>6.200000</td>\n",
       "      <td>6.377778</td>\n",
       "      <td>6.546875</td>\n",
       "      <td>6.344444</td>\n",
       "      <td>6.386719</td>\n",
       "    </tr>\n",
       "  </tbody>\n",
       "</table>\n",
       "<p>5 rows × 29 columns</p>\n",
       "</div>"
      ],
      "text/plain": [
       "       budget             company country         director   genre      gross  \\\n",
       "110  30000000  Paramount Pictures     USA      John Hughes  Comedy   49530280   \n",
       "116  28000000  Paramount Pictures     USA       Tony Scott  Action  153665000   \n",
       "139  16000000      Orion Pictures     USA      Woody Allen  Comedy   14792779   \n",
       "151    350000        Cannon Group     USA  Sam Firstenberg  Action    4000000   \n",
       "213   6000000  Paramount Pictures  Canada  Jonathan Kaplan   Drama   32069318   \n",
       "\n",
       "                                    name rating   released  runtime  ...  \\\n",
       "110         Planes, Trains & Automobiles      R 1987-11-25       93  ...   \n",
       "116                 Beverly Hills Cop II      R 1987-05-20      100  ...   \n",
       "139                           Radio Days     PG 1987-01-30       88  ...   \n",
       "151  American Ninja 2: The Confrontation      R 1987-05-01       90  ...   \n",
       "213                             Acusados      R 1988-10-14      111  ...   \n",
       "\n",
       "     cumulative_mean_director exp_mean_director  cumulative_mean_writer  \\\n",
       "110                       7.8               7.8                     7.3   \n",
       "116                       6.9               6.9                     6.2   \n",
       "139                       8.0               8.0                     8.0   \n",
       "151                       5.9               5.9                     5.7   \n",
       "213                       6.1               6.1                     6.7   \n",
       "\n",
       "    exp_mean_writer  cumulative_mean_star exp_mean_star  \\\n",
       "110         6.84878                   6.5      6.409756   \n",
       "116         6.20000                   5.9      5.900000   \n",
       "139         8.00000                   8.0      8.000000   \n",
       "151         5.70000                   5.9      5.900000   \n",
       "213         6.70000                   6.2      6.200000   \n",
       "\n",
       "     cumulative_mean_company  exp_mean_company  cumulative_mean_avg  \\\n",
       "110                 6.428571          6.633831             7.007143   \n",
       "116                 6.245455          6.557347             6.311364   \n",
       "139                 7.100000          6.755443             7.775000   \n",
       "151                 5.350000          5.034146             5.712500   \n",
       "213                 6.377778          6.546875             6.344444   \n",
       "\n",
       "     exp_mean_avg  \n",
       "110      6.923092  \n",
       "116      6.389337  \n",
       "139      7.688861  \n",
       "151      5.633537  \n",
       "213      6.386719  \n",
       "\n",
       "[5 rows x 29 columns]"
      ]
     },
     "execution_count": 34,
     "metadata": {},
     "output_type": "execute_result"
    }
   ],
   "source": [
    "movies.head()"
   ]
  },
  {
   "cell_type": "code",
   "execution_count": 35,
   "metadata": {},
   "outputs": [],
   "source": [
    "#What is the breakdown of genre in our df?\n",
    "\n",
    "#Getting the count of movies for each genre in our df and saving it as a pandas df. \n",
    "#We are grouping by genre and then getting the count of the genre column in each group by \n",
    "#we could have used any column to get the count of... \n",
    "#We are using the groupby_count function that takes the following arguments (df, groupby_column, count_column)\n",
    "movies_genre = groupby_count(movies, \"genre\", \"genre\")"
   ]
  },
  {
   "cell_type": "code",
   "execution_count": 36,
   "metadata": {},
   "outputs": [
    {
     "data": {
      "text/html": [
       "<div>\n",
       "<style scoped>\n",
       "    .dataframe tbody tr th:only-of-type {\n",
       "        vertical-align: middle;\n",
       "    }\n",
       "\n",
       "    .dataframe tbody tr th {\n",
       "        vertical-align: top;\n",
       "    }\n",
       "\n",
       "    .dataframe thead th {\n",
       "        text-align: right;\n",
       "    }\n",
       "</style>\n",
       "<table border=\"1\" class=\"dataframe\">\n",
       "  <thead>\n",
       "    <tr style=\"text-align: right;\">\n",
       "      <th></th>\n",
       "      <th>count</th>\n",
       "      <th>genre</th>\n",
       "    </tr>\n",
       "  </thead>\n",
       "  <tbody>\n",
       "    <tr>\n",
       "      <th>0</th>\n",
       "      <td>301</td>\n",
       "      <td>Action</td>\n",
       "    </tr>\n",
       "    <tr>\n",
       "      <th>1</th>\n",
       "      <td>54</td>\n",
       "      <td>Adventure</td>\n",
       "    </tr>\n",
       "    <tr>\n",
       "      <th>2</th>\n",
       "      <td>33</td>\n",
       "      <td>Animation</td>\n",
       "    </tr>\n",
       "    <tr>\n",
       "      <th>3</th>\n",
       "      <td>38</td>\n",
       "      <td>Biography</td>\n",
       "    </tr>\n",
       "    <tr>\n",
       "      <th>4</th>\n",
       "      <td>233</td>\n",
       "      <td>Comedy</td>\n",
       "    </tr>\n",
       "    <tr>\n",
       "      <th>5</th>\n",
       "      <td>69</td>\n",
       "      <td>Crime</td>\n",
       "    </tr>\n",
       "    <tr>\n",
       "      <th>6</th>\n",
       "      <td>116</td>\n",
       "      <td>Drama</td>\n",
       "    </tr>\n",
       "    <tr>\n",
       "      <th>7</th>\n",
       "      <td>4</td>\n",
       "      <td>Fantasy</td>\n",
       "    </tr>\n",
       "    <tr>\n",
       "      <th>8</th>\n",
       "      <td>27</td>\n",
       "      <td>Horror</td>\n",
       "    </tr>\n",
       "    <tr>\n",
       "      <th>9</th>\n",
       "      <td>7</td>\n",
       "      <td>Mystery</td>\n",
       "    </tr>\n",
       "    <tr>\n",
       "      <th>10</th>\n",
       "      <td>1</td>\n",
       "      <td>Romance</td>\n",
       "    </tr>\n",
       "  </tbody>\n",
       "</table>\n",
       "</div>"
      ],
      "text/plain": [
       "    count      genre\n",
       "0     301     Action\n",
       "1      54  Adventure\n",
       "2      33  Animation\n",
       "3      38  Biography\n",
       "4     233     Comedy\n",
       "5      69      Crime\n",
       "6     116      Drama\n",
       "7       4    Fantasy\n",
       "8      27     Horror\n",
       "9       7    Mystery\n",
       "10      1    Romance"
      ]
     },
     "execution_count": 36,
     "metadata": {},
     "output_type": "execute_result"
    }
   ],
   "source": [
    "movies_genre"
   ]
  },
  {
   "cell_type": "code",
   "execution_count": 37,
   "metadata": {},
   "outputs": [
    {
     "data": {
      "text/plain": [
       "Text(0.5, 0, 'genre')"
      ]
     },
     "execution_count": 37,
     "metadata": {},
     "output_type": "execute_result"
    },
    {
     "data": {
      "image/png": "[encoded data removed]",
      "text/plain": [
       "<Figure size 432x288 with 1 Axes>"
      ]
     },
     "metadata": {
      "needs_background": "light"
     },
     "output_type": "display_data"
    }
   ],
   "source": [
    "#Sorting the df, so the bar graph will be in descending order\n",
    "movies_genre.sort_values(['count'], ascending=[False], inplace = True)\n",
    "#Creating a graph of the movies_genre df using our bar_graph_count function. It takes the following inputs: \n",
    "# df, x-column, y_column, and title \n",
    "bar_graph_count(movies_genre, \"genre\", \"count\", \"Visualization of Number of Movies Per Genre\")\n"
   ]
  },
  {
   "cell_type": "code",
   "execution_count": 38,
   "metadata": {},
   "outputs": [],
   "source": [
    "#Creating a data frame of the movies star count \n",
    "movies_star = groupby_count(movies, \"star\", \"genre\") "
   ]
  },
  {
   "cell_type": "code",
   "execution_count": 39,
   "metadata": {},
   "outputs": [
    {
     "data": {
      "text/html": [
       "<div>\n",
       "<style scoped>\n",
       "    .dataframe tbody tr th:only-of-type {\n",
       "        vertical-align: middle;\n",
       "    }\n",
       "\n",
       "    .dataframe tbody tr th {\n",
       "        vertical-align: top;\n",
       "    }\n",
       "\n",
       "    .dataframe thead th {\n",
       "        text-align: right;\n",
       "    }\n",
       "</style>\n",
       "<table border=\"1\" class=\"dataframe\">\n",
       "  <thead>\n",
       "    <tr style=\"text-align: right;\">\n",
       "      <th></th>\n",
       "      <th>count</th>\n",
       "      <th>star</th>\n",
       "    </tr>\n",
       "  </thead>\n",
       "  <tbody>\n",
       "    <tr>\n",
       "      <th>0</th>\n",
       "      <td>2</td>\n",
       "      <td>Aaron Eckhart</td>\n",
       "    </tr>\n",
       "    <tr>\n",
       "      <th>1</th>\n",
       "      <td>2</td>\n",
       "      <td>Aaron Taylor-Johnson</td>\n",
       "    </tr>\n",
       "    <tr>\n",
       "      <th>2</th>\n",
       "      <td>12</td>\n",
       "      <td>Adam Sandler</td>\n",
       "    </tr>\n",
       "    <tr>\n",
       "      <th>3</th>\n",
       "      <td>3</td>\n",
       "      <td>Al Pacino</td>\n",
       "    </tr>\n",
       "    <tr>\n",
       "      <th>4</th>\n",
       "      <td>1</td>\n",
       "      <td>Albert Brooks</td>\n",
       "    </tr>\n",
       "  </tbody>\n",
       "</table>\n",
       "</div>"
      ],
      "text/plain": [
       "   count                  star\n",
       "0      2         Aaron Eckhart\n",
       "1      2  Aaron Taylor-Johnson\n",
       "2     12          Adam Sandler\n",
       "3      3             Al Pacino\n",
       "4      1         Albert Brooks"
      ]
     },
     "execution_count": 39,
     "metadata": {},
     "output_type": "execute_result"
    }
   ],
   "source": [
    "movies_star.head()"
   ]
  },
  {
   "cell_type": "code",
   "execution_count": 40,
   "metadata": {},
   "outputs": [],
   "source": [
    "# #Creating a subset of the movies_star df that contains only stars that have 2+ movies in our df \n",
    "# movies_star = movies_star[movies_star[\"count\"] > 1]\n",
    "# #Creating a list of the stars that are in our subsetted df\n",
    "# movies_star_list = list(movies_star[\"star\"])\n",
    "# movies_star_list\n",
    "# #Subsetting our movies df to include only stars who are listed in our movies_star_list\n",
    "# movies = movies[movies.star.isin(movies_star_list)]\n"
   ]
  },
  {
   "cell_type": "code",
   "execution_count": 41,
   "metadata": {},
   "outputs": [
    {
     "data": {
      "text/html": [
       "<div>\n",
       "<style scoped>\n",
       "    .dataframe tbody tr th:only-of-type {\n",
       "        vertical-align: middle;\n",
       "    }\n",
       "\n",
       "    .dataframe tbody tr th {\n",
       "        vertical-align: top;\n",
       "    }\n",
       "\n",
       "    .dataframe thead th {\n",
       "        text-align: right;\n",
       "    }\n",
       "</style>\n",
       "<table border=\"1\" class=\"dataframe\">\n",
       "  <thead>\n",
       "    <tr style=\"text-align: right;\">\n",
       "      <th></th>\n",
       "      <th>count</th>\n",
       "    </tr>\n",
       "  </thead>\n",
       "  <tbody>\n",
       "    <tr>\n",
       "      <th>count</th>\n",
       "      <td>356.000000</td>\n",
       "    </tr>\n",
       "    <tr>\n",
       "      <th>mean</th>\n",
       "      <td>2.480337</td>\n",
       "    </tr>\n",
       "    <tr>\n",
       "      <th>std</th>\n",
       "      <td>2.290742</td>\n",
       "    </tr>\n",
       "    <tr>\n",
       "      <th>min</th>\n",
       "      <td>1.000000</td>\n",
       "    </tr>\n",
       "    <tr>\n",
       "      <th>25%</th>\n",
       "      <td>1.000000</td>\n",
       "    </tr>\n",
       "    <tr>\n",
       "      <th>50%</th>\n",
       "      <td>2.000000</td>\n",
       "    </tr>\n",
       "    <tr>\n",
       "      <th>75%</th>\n",
       "      <td>3.000000</td>\n",
       "    </tr>\n",
       "    <tr>\n",
       "      <th>max</th>\n",
       "      <td>12.000000</td>\n",
       "    </tr>\n",
       "  </tbody>\n",
       "</table>\n",
       "</div>"
      ],
      "text/plain": [
       "            count\n",
       "count  356.000000\n",
       "mean     2.480337\n",
       "std      2.290742\n",
       "min      1.000000\n",
       "25%      1.000000\n",
       "50%      2.000000\n",
       "75%      3.000000\n",
       "max     12.000000"
      ]
     },
     "execution_count": 41,
     "metadata": {},
     "output_type": "execute_result"
    }
   ],
   "source": [
    "movies_star.describe()\n",
    "#The majority of our 356 stars.  Only 25% of our stars in 3 or more movies. \n",
    "# We have 649 stars in our newly reduced df "
   ]
  },
  {
   "cell_type": "code",
   "execution_count": 42,
   "metadata": {},
   "outputs": [],
   "source": [
    "# How many movies have each star in our df starred in? \n",
    "\n",
    "#Looking to see how many stars have starred in 1, 2, 3, 4+ movies \n",
    "movies_star = groupby_count(movies, \"star\", \"genre\")"
   ]
  },
  {
   "cell_type": "code",
   "execution_count": 43,
   "metadata": {},
   "outputs": [],
   "source": [
    "#Changing the column names for our movies_star\n",
    "movies_star.columns = [\"number_of_movies\", \"star\"]\n",
    "movies_star = groupby_count(movies_star, \"number_of_movies\", \"star\")"
   ]
  },
  {
   "cell_type": "code",
   "execution_count": 44,
   "metadata": {},
   "outputs": [
    {
     "data": {
      "text/html": [
       "<div>\n",
       "<style scoped>\n",
       "    .dataframe tbody tr th:only-of-type {\n",
       "        vertical-align: middle;\n",
       "    }\n",
       "\n",
       "    .dataframe tbody tr th {\n",
       "        vertical-align: top;\n",
       "    }\n",
       "\n",
       "    .dataframe thead th {\n",
       "        text-align: right;\n",
       "    }\n",
       "</style>\n",
       "<table border=\"1\" class=\"dataframe\">\n",
       "  <thead>\n",
       "    <tr style=\"text-align: right;\">\n",
       "      <th></th>\n",
       "      <th>count</th>\n",
       "      <th>number_of_movies</th>\n",
       "    </tr>\n",
       "  </thead>\n",
       "  <tbody>\n",
       "    <tr>\n",
       "      <th>0</th>\n",
       "      <td>170</td>\n",
       "      <td>1</td>\n",
       "    </tr>\n",
       "    <tr>\n",
       "      <th>1</th>\n",
       "      <td>78</td>\n",
       "      <td>2</td>\n",
       "    </tr>\n",
       "    <tr>\n",
       "      <th>2</th>\n",
       "      <td>40</td>\n",
       "      <td>3</td>\n",
       "    </tr>\n",
       "    <tr>\n",
       "      <th>3</th>\n",
       "      <td>19</td>\n",
       "      <td>4</td>\n",
       "    </tr>\n",
       "    <tr>\n",
       "      <th>4</th>\n",
       "      <td>9</td>\n",
       "      <td>5</td>\n",
       "    </tr>\n",
       "    <tr>\n",
       "      <th>5</th>\n",
       "      <td>17</td>\n",
       "      <td>6</td>\n",
       "    </tr>\n",
       "    <tr>\n",
       "      <th>6</th>\n",
       "      <td>5</td>\n",
       "      <td>7</td>\n",
       "    </tr>\n",
       "    <tr>\n",
       "      <th>7</th>\n",
       "      <td>5</td>\n",
       "      <td>8</td>\n",
       "    </tr>\n",
       "    <tr>\n",
       "      <th>8</th>\n",
       "      <td>3</td>\n",
       "      <td>9</td>\n",
       "    </tr>\n",
       "    <tr>\n",
       "      <th>9</th>\n",
       "      <td>3</td>\n",
       "      <td>10</td>\n",
       "    </tr>\n",
       "    <tr>\n",
       "      <th>10</th>\n",
       "      <td>2</td>\n",
       "      <td>11</td>\n",
       "    </tr>\n",
       "    <tr>\n",
       "      <th>11</th>\n",
       "      <td>5</td>\n",
       "      <td>12</td>\n",
       "    </tr>\n",
       "  </tbody>\n",
       "</table>\n",
       "</div>"
      ],
      "text/plain": [
       "    count  number_of_movies\n",
       "0     170                 1\n",
       "1      78                 2\n",
       "2      40                 3\n",
       "3      19                 4\n",
       "4       9                 5\n",
       "5      17                 6\n",
       "6       5                 7\n",
       "7       5                 8\n",
       "8       3                 9\n",
       "9       3                10\n",
       "10      2                11\n",
       "11      5                12"
      ]
     },
     "execution_count": 44,
     "metadata": {},
     "output_type": "execute_result"
    }
   ],
   "source": [
    "movies_star"
   ]
  },
  {
   "cell_type": "code",
   "execution_count": 45,
   "metadata": {},
   "outputs": [],
   "source": [
    "#Changing the column names \n",
    "movies_star.columns = [\"number_of_stars\", \"number_of_movies\"]"
   ]
  },
  {
   "cell_type": "code",
   "execution_count": 46,
   "metadata": {},
   "outputs": [
    {
     "data": {
      "text/plain": [
       "Text(0.5, 0, 'number_of_movies')"
      ]
     },
     "execution_count": 46,
     "metadata": {},
     "output_type": "execute_result"
    },
    {
     "data": {
      "image/png": "[encoded data removed]",
      "text/plain": [
       "<Figure size 432x288 with 1 Axes>"
      ]
     },
     "metadata": {
      "needs_background": "light"
     },
     "output_type": "display_data"
    }
   ],
   "source": [
    "#Sorting the df, so the bar graph will be in descending order\n",
    "movies_star.sort_values(['number_of_movies'], ascending=[True], inplace = True)\n",
    "#Creating a graph of the movies_star df using our bar_graph_count function. It takes the following inputs: \n",
    "# df, x-column, y_column, and title \n",
    "bar_graph_count(movies_star, \"number_of_movies\", \"number_of_stars\", \"Visualization of the The Number of Movies each Star has in our DF\")"
   ]
  },
  {
   "cell_type": "code",
   "execution_count": 47,
   "metadata": {},
   "outputs": [],
   "source": [
    "#Creating a data frame of the movies director count \n",
    "movies_director = groupby_count(movies, \"director\", \"genre\")\n",
    "movies_director.columns = [\"director_count\", \"director\"]"
   ]
  },
  {
   "cell_type": "code",
   "execution_count": 48,
   "metadata": {},
   "outputs": [],
   "source": [
    "# #Creating a subset of the movies_director df that contains only directors that have 2 movies in our df \n",
    "# movies_director = movies_director[movies_director[\"director_count\"] > 1]\n",
    "# #Creating a list of the stars that are in our subsetted df\n",
    "# movies_director_list = list(movies_director[\"director\"])\n",
    "# movies_director_list\n",
    "# #Subsetting our movies df to include only stars who are listed in our movies_star_list\n",
    "# movies = movies[movies.director.isin(movies_director_list)]\n"
   ]
  },
  {
   "cell_type": "code",
   "execution_count": 49,
   "metadata": {},
   "outputs": [],
   "source": [
    "# How many movies have each director in our df produced? \n",
    "\n",
    "#Creating a new groupby to see how many directors we have that have produced 1, 2, 3, 4... movies \n",
    "movies_director = groupby_count(movies_director, \"director_count\", \"director\")"
   ]
  },
  {
   "cell_type": "code",
   "execution_count": 50,
   "metadata": {},
   "outputs": [
    {
     "data": {
      "text/html": [
       "<div>\n",
       "<style scoped>\n",
       "    .dataframe tbody tr th:only-of-type {\n",
       "        vertical-align: middle;\n",
       "    }\n",
       "\n",
       "    .dataframe tbody tr th {\n",
       "        vertical-align: top;\n",
       "    }\n",
       "\n",
       "    .dataframe thead th {\n",
       "        text-align: right;\n",
       "    }\n",
       "</style>\n",
       "<table border=\"1\" class=\"dataframe\">\n",
       "  <thead>\n",
       "    <tr style=\"text-align: right;\">\n",
       "      <th></th>\n",
       "      <th>number_of_movies</th>\n",
       "      <th>director_count</th>\n",
       "    </tr>\n",
       "  </thead>\n",
       "  <tbody>\n",
       "    <tr>\n",
       "      <th>0</th>\n",
       "      <td>257</td>\n",
       "      <td>1</td>\n",
       "    </tr>\n",
       "    <tr>\n",
       "      <th>1</th>\n",
       "      <td>94</td>\n",
       "      <td>2</td>\n",
       "    </tr>\n",
       "    <tr>\n",
       "      <th>2</th>\n",
       "      <td>48</td>\n",
       "      <td>3</td>\n",
       "    </tr>\n",
       "    <tr>\n",
       "      <th>3</th>\n",
       "      <td>22</td>\n",
       "      <td>4</td>\n",
       "    </tr>\n",
       "    <tr>\n",
       "      <th>4</th>\n",
       "      <td>15</td>\n",
       "      <td>5</td>\n",
       "    </tr>\n",
       "    <tr>\n",
       "      <th>5</th>\n",
       "      <td>11</td>\n",
       "      <td>6</td>\n",
       "    </tr>\n",
       "    <tr>\n",
       "      <th>6</th>\n",
       "      <td>4</td>\n",
       "      <td>7</td>\n",
       "    </tr>\n",
       "    <tr>\n",
       "      <th>7</th>\n",
       "      <td>2</td>\n",
       "      <td>9</td>\n",
       "    </tr>\n",
       "    <tr>\n",
       "      <th>8</th>\n",
       "      <td>1</td>\n",
       "      <td>19</td>\n",
       "    </tr>\n",
       "  </tbody>\n",
       "</table>\n",
       "</div>"
      ],
      "text/plain": [
       "   number_of_movies  director_count\n",
       "0               257               1\n",
       "1                94               2\n",
       "2                48               3\n",
       "3                22               4\n",
       "4                15               5\n",
       "5                11               6\n",
       "6                 4               7\n",
       "7                 2               9\n",
       "8                 1              19"
      ]
     },
     "execution_count": 50,
     "metadata": {},
     "output_type": "execute_result"
    }
   ],
   "source": [
    "#Getting a tally of the number of directors that have the same number of movies \n",
    "movies_director.columns = [\"number_of_movies\", \"director_count\"]\n",
    "movies_director"
   ]
  },
  {
   "cell_type": "code",
   "execution_count": 51,
   "metadata": {},
   "outputs": [
    {
     "data": {
      "text/plain": [
       "Text(0.5, 0, 'director_count')"
      ]
     },
     "execution_count": 51,
     "metadata": {},
     "output_type": "execute_result"
    },
    {
     "data": {
      "image/png": "[encoded data removed]",
      "text/plain": [
       "<Figure size 432x288 with 1 Axes>"
      ]
     },
     "metadata": {
      "needs_background": "light"
     },
     "output_type": "display_data"
    }
   ],
   "source": [
    "#Creating a graph of the movies_director df \n",
    "bar_graph_count(movies_director, \"director_count\", \"number_of_movies\", \"Visualization of the The Number of Movies each Director has in our DF\")\n"
   ]
  },
  {
   "cell_type": "code",
   "execution_count": 52,
   "metadata": {},
   "outputs": [
    {
     "data": {
      "text/html": [
       "<div>\n",
       "<style scoped>\n",
       "    .dataframe tbody tr th:only-of-type {\n",
       "        vertical-align: middle;\n",
       "    }\n",
       "\n",
       "    .dataframe tbody tr th {\n",
       "        vertical-align: top;\n",
       "    }\n",
       "\n",
       "    .dataframe thead th {\n",
       "        text-align: right;\n",
       "    }\n",
       "</style>\n",
       "<table border=\"1\" class=\"dataframe\">\n",
       "  <thead>\n",
       "    <tr style=\"text-align: right;\">\n",
       "      <th></th>\n",
       "      <th>number_of_companies</th>\n",
       "      <th>number_of_movies</th>\n",
       "    </tr>\n",
       "  </thead>\n",
       "  <tbody>\n",
       "    <tr>\n",
       "      <th>0</th>\n",
       "      <td>99</td>\n",
       "      <td>1</td>\n",
       "    </tr>\n",
       "    <tr>\n",
       "      <th>1</th>\n",
       "      <td>25</td>\n",
       "      <td>2</td>\n",
       "    </tr>\n",
       "    <tr>\n",
       "      <th>2</th>\n",
       "      <td>11</td>\n",
       "      <td>3</td>\n",
       "    </tr>\n",
       "    <tr>\n",
       "      <th>3</th>\n",
       "      <td>6</td>\n",
       "      <td>4</td>\n",
       "    </tr>\n",
       "    <tr>\n",
       "      <th>4</th>\n",
       "      <td>2</td>\n",
       "      <td>5</td>\n",
       "    </tr>\n",
       "    <tr>\n",
       "      <th>5</th>\n",
       "      <td>1</td>\n",
       "      <td>6</td>\n",
       "    </tr>\n",
       "    <tr>\n",
       "      <th>6</th>\n",
       "      <td>2</td>\n",
       "      <td>7</td>\n",
       "    </tr>\n",
       "    <tr>\n",
       "      <th>7</th>\n",
       "      <td>1</td>\n",
       "      <td>8</td>\n",
       "    </tr>\n",
       "    <tr>\n",
       "      <th>8</th>\n",
       "      <td>2</td>\n",
       "      <td>9</td>\n",
       "    </tr>\n",
       "    <tr>\n",
       "      <th>9</th>\n",
       "      <td>2</td>\n",
       "      <td>11</td>\n",
       "    </tr>\n",
       "    <tr>\n",
       "      <th>10</th>\n",
       "      <td>2</td>\n",
       "      <td>12</td>\n",
       "    </tr>\n",
       "    <tr>\n",
       "      <th>11</th>\n",
       "      <td>2</td>\n",
       "      <td>13</td>\n",
       "    </tr>\n",
       "    <tr>\n",
       "      <th>12</th>\n",
       "      <td>1</td>\n",
       "      <td>14</td>\n",
       "    </tr>\n",
       "    <tr>\n",
       "      <th>13</th>\n",
       "      <td>1</td>\n",
       "      <td>15</td>\n",
       "    </tr>\n",
       "    <tr>\n",
       "      <th>14</th>\n",
       "      <td>2</td>\n",
       "      <td>17</td>\n",
       "    </tr>\n",
       "    <tr>\n",
       "      <th>15</th>\n",
       "      <td>1</td>\n",
       "      <td>18</td>\n",
       "    </tr>\n",
       "    <tr>\n",
       "      <th>16</th>\n",
       "      <td>2</td>\n",
       "      <td>21</td>\n",
       "    </tr>\n",
       "    <tr>\n",
       "      <th>17</th>\n",
       "      <td>1</td>\n",
       "      <td>28</td>\n",
       "    </tr>\n",
       "    <tr>\n",
       "      <th>18</th>\n",
       "      <td>1</td>\n",
       "      <td>34</td>\n",
       "    </tr>\n",
       "    <tr>\n",
       "      <th>19</th>\n",
       "      <td>2</td>\n",
       "      <td>50</td>\n",
       "    </tr>\n",
       "    <tr>\n",
       "      <th>20</th>\n",
       "      <td>1</td>\n",
       "      <td>72</td>\n",
       "    </tr>\n",
       "    <tr>\n",
       "      <th>21</th>\n",
       "      <td>1</td>\n",
       "      <td>90</td>\n",
       "    </tr>\n",
       "    <tr>\n",
       "      <th>22</th>\n",
       "      <td>1</td>\n",
       "      <td>102</td>\n",
       "    </tr>\n",
       "  </tbody>\n",
       "</table>\n",
       "</div>"
      ],
      "text/plain": [
       "    number_of_companies  number_of_movies\n",
       "0                    99                 1\n",
       "1                    25                 2\n",
       "2                    11                 3\n",
       "3                     6                 4\n",
       "4                     2                 5\n",
       "5                     1                 6\n",
       "6                     2                 7\n",
       "7                     1                 8\n",
       "8                     2                 9\n",
       "9                     2                11\n",
       "10                    2                12\n",
       "11                    2                13\n",
       "12                    1                14\n",
       "13                    1                15\n",
       "14                    2                17\n",
       "15                    1                18\n",
       "16                    2                21\n",
       "17                    1                28\n",
       "18                    1                34\n",
       "19                    2                50\n",
       "20                    1                72\n",
       "21                    1                90\n",
       "22                    1               102"
      ]
     },
     "execution_count": 52,
     "metadata": {},
     "output_type": "execute_result"
    }
   ],
   "source": [
    "# How many movies have each company in our df produced? \n",
    "#Creating a new groupby to see how many company we have that have produced 1, 2, 3, 4... movies \n",
    "movies_company = groupby_count(movies, \"company\", \"star\")\n",
    "movies_company.columns = [\"number_of_movies\", \"company\"]\n",
    "movies_company = groupby_count(movies_company, \"number_of_movies\", \"company\")\n",
    "movies_company.columns = [\"number_of_companies\", \"number_of_movies\"]\n",
    "movies_company"
   ]
  },
  {
   "cell_type": "code",
   "execution_count": 53,
   "metadata": {},
   "outputs": [
    {
     "data": {
      "text/plain": [
       "Text(0.5, 0, 'number_of_movies')"
      ]
     },
     "execution_count": 53,
     "metadata": {},
     "output_type": "execute_result"
    },
    {
     "data": {
      "image/png": "[encoded data removed]",
      "text/plain": [
       "<Figure size 432x288 with 1 Axes>"
      ]
     },
     "metadata": {
      "needs_background": "light"
     },
     "output_type": "display_data"
    }
   ],
   "source": [
    "#Creating a graph of the movies_company df \n",
    "bar_graph_count(movies_company, \"number_of_movies\", \"number_of_companies\", \"Visualization of the The Number of Movies each Company has in our DF\")"
   ]
  },
  {
   "cell_type": "code",
   "execution_count": 54,
   "metadata": {},
   "outputs": [
    {
     "data": {
      "text/html": [
       "<div>\n",
       "<style scoped>\n",
       "    .dataframe tbody tr th:only-of-type {\n",
       "        vertical-align: middle;\n",
       "    }\n",
       "\n",
       "    .dataframe tbody tr th {\n",
       "        vertical-align: top;\n",
       "    }\n",
       "\n",
       "    .dataframe thead th {\n",
       "        text-align: right;\n",
       "    }\n",
       "</style>\n",
       "<table border=\"1\" class=\"dataframe\">\n",
       "  <thead>\n",
       "    <tr style=\"text-align: right;\">\n",
       "      <th></th>\n",
       "      <th>count</th>\n",
       "      <th>year</th>\n",
       "    </tr>\n",
       "  </thead>\n",
       "  <tbody>\n",
       "    <tr>\n",
       "      <th>0</th>\n",
       "      <td>4</td>\n",
       "      <td>1987</td>\n",
       "    </tr>\n",
       "    <tr>\n",
       "      <th>1</th>\n",
       "      <td>3</td>\n",
       "      <td>1988</td>\n",
       "    </tr>\n",
       "    <tr>\n",
       "      <th>2</th>\n",
       "      <td>5</td>\n",
       "      <td>1989</td>\n",
       "    </tr>\n",
       "    <tr>\n",
       "      <th>3</th>\n",
       "      <td>5</td>\n",
       "      <td>1990</td>\n",
       "    </tr>\n",
       "    <tr>\n",
       "      <th>4</th>\n",
       "      <td>10</td>\n",
       "      <td>1991</td>\n",
       "    </tr>\n",
       "    <tr>\n",
       "      <th>5</th>\n",
       "      <td>16</td>\n",
       "      <td>1992</td>\n",
       "    </tr>\n",
       "    <tr>\n",
       "      <th>6</th>\n",
       "      <td>18</td>\n",
       "      <td>1993</td>\n",
       "    </tr>\n",
       "    <tr>\n",
       "      <th>7</th>\n",
       "      <td>21</td>\n",
       "      <td>1994</td>\n",
       "    </tr>\n",
       "    <tr>\n",
       "      <th>8</th>\n",
       "      <td>17</td>\n",
       "      <td>1995</td>\n",
       "    </tr>\n",
       "    <tr>\n",
       "      <th>9</th>\n",
       "      <td>18</td>\n",
       "      <td>1996</td>\n",
       "    </tr>\n",
       "    <tr>\n",
       "      <th>10</th>\n",
       "      <td>18</td>\n",
       "      <td>1997</td>\n",
       "    </tr>\n",
       "    <tr>\n",
       "      <th>11</th>\n",
       "      <td>20</td>\n",
       "      <td>1998</td>\n",
       "    </tr>\n",
       "    <tr>\n",
       "      <th>12</th>\n",
       "      <td>26</td>\n",
       "      <td>1999</td>\n",
       "    </tr>\n",
       "    <tr>\n",
       "      <th>13</th>\n",
       "      <td>25</td>\n",
       "      <td>2000</td>\n",
       "    </tr>\n",
       "    <tr>\n",
       "      <th>14</th>\n",
       "      <td>30</td>\n",
       "      <td>2001</td>\n",
       "    </tr>\n",
       "    <tr>\n",
       "      <th>15</th>\n",
       "      <td>35</td>\n",
       "      <td>2002</td>\n",
       "    </tr>\n",
       "    <tr>\n",
       "      <th>16</th>\n",
       "      <td>32</td>\n",
       "      <td>2003</td>\n",
       "    </tr>\n",
       "    <tr>\n",
       "      <th>17</th>\n",
       "      <td>45</td>\n",
       "      <td>2004</td>\n",
       "    </tr>\n",
       "    <tr>\n",
       "      <th>18</th>\n",
       "      <td>38</td>\n",
       "      <td>2005</td>\n",
       "    </tr>\n",
       "    <tr>\n",
       "      <th>19</th>\n",
       "      <td>48</td>\n",
       "      <td>2006</td>\n",
       "    </tr>\n",
       "    <tr>\n",
       "      <th>20</th>\n",
       "      <td>42</td>\n",
       "      <td>2007</td>\n",
       "    </tr>\n",
       "    <tr>\n",
       "      <th>21</th>\n",
       "      <td>33</td>\n",
       "      <td>2008</td>\n",
       "    </tr>\n",
       "    <tr>\n",
       "      <th>22</th>\n",
       "      <td>47</td>\n",
       "      <td>2009</td>\n",
       "    </tr>\n",
       "    <tr>\n",
       "      <th>23</th>\n",
       "      <td>49</td>\n",
       "      <td>2010</td>\n",
       "    </tr>\n",
       "    <tr>\n",
       "      <th>24</th>\n",
       "      <td>51</td>\n",
       "      <td>2011</td>\n",
       "    </tr>\n",
       "    <tr>\n",
       "      <th>25</th>\n",
       "      <td>43</td>\n",
       "      <td>2012</td>\n",
       "    </tr>\n",
       "    <tr>\n",
       "      <th>26</th>\n",
       "      <td>50</td>\n",
       "      <td>2013</td>\n",
       "    </tr>\n",
       "    <tr>\n",
       "      <th>27</th>\n",
       "      <td>38</td>\n",
       "      <td>2014</td>\n",
       "    </tr>\n",
       "    <tr>\n",
       "      <th>28</th>\n",
       "      <td>42</td>\n",
       "      <td>2015</td>\n",
       "    </tr>\n",
       "    <tr>\n",
       "      <th>29</th>\n",
       "      <td>54</td>\n",
       "      <td>2016</td>\n",
       "    </tr>\n",
       "  </tbody>\n",
       "</table>\n",
       "</div>"
      ],
      "text/plain": [
       "    count  year\n",
       "0       4  1987\n",
       "1       3  1988\n",
       "2       5  1989\n",
       "3       5  1990\n",
       "4      10  1991\n",
       "5      16  1992\n",
       "6      18  1993\n",
       "7      21  1994\n",
       "8      17  1995\n",
       "9      18  1996\n",
       "10     18  1997\n",
       "11     20  1998\n",
       "12     26  1999\n",
       "13     25  2000\n",
       "14     30  2001\n",
       "15     35  2002\n",
       "16     32  2003\n",
       "17     45  2004\n",
       "18     38  2005\n",
       "19     48  2006\n",
       "20     42  2007\n",
       "21     33  2008\n",
       "22     47  2009\n",
       "23     49  2010\n",
       "24     51  2011\n",
       "25     43  2012\n",
       "26     50  2013\n",
       "27     38  2014\n",
       "28     42  2015\n",
       "29     54  2016"
      ]
     },
     "execution_count": 54,
     "metadata": {},
     "output_type": "execute_result"
    }
   ],
   "source": [
    "#How are the movies in our df distributed by year?\n",
    "\n",
    "#Looking to see how the movies are distributed by year \n",
    "movies_year = groupby_count(movies, \"year\", \"star\")\n",
    "movies_year"
   ]
  },
  {
   "cell_type": "code",
   "execution_count": 55,
   "metadata": {},
   "outputs": [
    {
     "data": {
      "text/plain": [
       "Text(0.5, 0, 'year')"
      ]
     },
     "execution_count": 55,
     "metadata": {},
     "output_type": "execute_result"
    },
    {
     "data": {
      "image/png": "[encoded data removed]",
      "text/plain": [
       "<Figure size 432x288 with 1 Axes>"
      ]
     },
     "metadata": {
      "needs_background": "light"
     },
     "output_type": "display_data"
    }
   ],
   "source": [
    "#Creating a graph of the movies_year df \n",
    "bar_graph_count(movies_year, \"year\", \"count\", \"Visualization of Number of Movies Per Year\")"
   ]
  },
  {
   "cell_type": "code",
   "execution_count": 56,
   "metadata": {},
   "outputs": [],
   "source": [
    "# What is the breakdown of the number of movies per genre per year?\n",
    "\n",
    "#Looking at the number of movies per genre per year \n",
    "#Looking to see how the movies are distributed by year \n",
    "#We are using the groupby_2 function that takes the following arguements: \n",
    "#(df, groupby_column1, groupby_column2, agg_column)\n",
    "movies_year_genre = groupby_2_count(movies, \"year\", \"genre\", \"star\")"
   ]
  },
  {
   "cell_type": "code",
   "execution_count": 57,
   "metadata": {},
   "outputs": [
    {
     "data": {
      "text/html": [
       "<div>\n",
       "<style scoped>\n",
       "    .dataframe tbody tr th:only-of-type {\n",
       "        vertical-align: middle;\n",
       "    }\n",
       "\n",
       "    .dataframe tbody tr th {\n",
       "        vertical-align: top;\n",
       "    }\n",
       "\n",
       "    .dataframe thead th {\n",
       "        text-align: right;\n",
       "    }\n",
       "</style>\n",
       "<table border=\"1\" class=\"dataframe\">\n",
       "  <thead>\n",
       "    <tr style=\"text-align: right;\">\n",
       "      <th></th>\n",
       "      <th>count</th>\n",
       "      <th>year</th>\n",
       "      <th>genre</th>\n",
       "    </tr>\n",
       "  </thead>\n",
       "  <tbody>\n",
       "    <tr>\n",
       "      <th>0</th>\n",
       "      <td>2</td>\n",
       "      <td>1987</td>\n",
       "      <td>Action</td>\n",
       "    </tr>\n",
       "    <tr>\n",
       "      <th>1</th>\n",
       "      <td>2</td>\n",
       "      <td>1987</td>\n",
       "      <td>Comedy</td>\n",
       "    </tr>\n",
       "    <tr>\n",
       "      <th>2</th>\n",
       "      <td>2</td>\n",
       "      <td>1988</td>\n",
       "      <td>Comedy</td>\n",
       "    </tr>\n",
       "    <tr>\n",
       "      <th>3</th>\n",
       "      <td>1</td>\n",
       "      <td>1988</td>\n",
       "      <td>Drama</td>\n",
       "    </tr>\n",
       "    <tr>\n",
       "      <th>4</th>\n",
       "      <td>2</td>\n",
       "      <td>1989</td>\n",
       "      <td>Action</td>\n",
       "    </tr>\n",
       "  </tbody>\n",
       "</table>\n",
       "</div>"
      ],
      "text/plain": [
       "   count  year   genre\n",
       "0      2  1987  Action\n",
       "1      2  1987  Comedy\n",
       "2      2  1988  Comedy\n",
       "3      1  1988   Drama\n",
       "4      2  1989  Action"
      ]
     },
     "execution_count": 57,
     "metadata": {},
     "output_type": "execute_result"
    }
   ],
   "source": [
    "movies_year_genre.head()"
   ]
  },
  {
   "cell_type": "code",
   "execution_count": 58,
   "metadata": {},
   "outputs": [
    {
     "data": {
      "text/plain": [
       "<matplotlib.legend.Legend at 0x27e096ac8d0>"
      ]
     },
     "execution_count": 58,
     "metadata": {},
     "output_type": "execute_result"
    },
    {
     "data": {
      "image/png": "[encoded data removed]",
      "text/plain": [
       "<Figure size 432x288 with 1 Axes>"
      ]
     },
     "metadata": {
      "needs_background": "light"
     },
     "output_type": "display_data"
    }
   ],
   "source": [
    "#To visualize this, we are going to use a grouped bar graph. Our bar_graph_count function does not apply to this \n",
    "#situation... We are going to use the pivot function \n",
    "# Attempting to graph this data using a grouped bar chart: \n",
    "# formula: df.pivot(columns, group, values).plot(kind = \"type of graph\", color = [\"color to use, can be a list of colors\"], \n",
    "# title = \"you can set the title of your graph here\")\n",
    "movies_year_genre.pivot(\"year\", \"genre\", \"count\").plot(kind=\"bar\", title = \"Visualization of Genre Breakdown by Year\")\n",
    "#Creating a y axis label \n",
    "plt.ylabel(\"Number of Movies\")\n",
    "#Changing the x axis label \n",
    "plt.xlabel(\"Year\")\n",
    "#Changing the label to display male and female instead of 0 and 1\n",
    "plt.legend(loc = \"lower center\", bbox_to_anchor = (.5, -.8), ncol = 4, title = \"Genre\")\n",
    "\n",
    "#This was not very helpful, we are going to subset the data by 5 year chunks and regraph"
   ]
  },
  {
   "cell_type": "code",
   "execution_count": 59,
   "metadata": {},
   "outputs": [
    {
     "data": {
      "text/plain": [
       "'Come back here if time prevails to do what is said above'"
      ]
     },
     "execution_count": 59,
     "metadata": {},
     "output_type": "execute_result"
    }
   ],
   "source": [
    "'''Come back here if time prevails to do what is said above'''"
   ]
  },
  {
   "cell_type": "code",
   "execution_count": 60,
   "metadata": {},
   "outputs": [
    {
     "data": {
      "text/html": [
       "<div>\n",
       "<style scoped>\n",
       "    .dataframe tbody tr th:only-of-type {\n",
       "        vertical-align: middle;\n",
       "    }\n",
       "\n",
       "    .dataframe tbody tr th {\n",
       "        vertical-align: top;\n",
       "    }\n",
       "\n",
       "    .dataframe thead th {\n",
       "        text-align: right;\n",
       "    }\n",
       "</style>\n",
       "<table border=\"1\" class=\"dataframe\">\n",
       "  <thead>\n",
       "    <tr style=\"text-align: right;\">\n",
       "      <th></th>\n",
       "      <th>count</th>\n",
       "      <th>month</th>\n",
       "    </tr>\n",
       "  </thead>\n",
       "  <tbody>\n",
       "    <tr>\n",
       "      <th>0</th>\n",
       "      <td>63</td>\n",
       "      <td>1</td>\n",
       "    </tr>\n",
       "    <tr>\n",
       "      <th>1</th>\n",
       "      <td>47</td>\n",
       "      <td>2</td>\n",
       "    </tr>\n",
       "    <tr>\n",
       "      <th>2</th>\n",
       "      <td>55</td>\n",
       "      <td>3</td>\n",
       "    </tr>\n",
       "    <tr>\n",
       "      <th>3</th>\n",
       "      <td>58</td>\n",
       "      <td>4</td>\n",
       "    </tr>\n",
       "    <tr>\n",
       "      <th>4</th>\n",
       "      <td>81</td>\n",
       "      <td>5</td>\n",
       "    </tr>\n",
       "    <tr>\n",
       "      <th>5</th>\n",
       "      <td>79</td>\n",
       "      <td>6</td>\n",
       "    </tr>\n",
       "    <tr>\n",
       "      <th>6</th>\n",
       "      <td>78</td>\n",
       "      <td>7</td>\n",
       "    </tr>\n",
       "    <tr>\n",
       "      <th>7</th>\n",
       "      <td>81</td>\n",
       "      <td>8</td>\n",
       "    </tr>\n",
       "    <tr>\n",
       "      <th>8</th>\n",
       "      <td>57</td>\n",
       "      <td>9</td>\n",
       "    </tr>\n",
       "    <tr>\n",
       "      <th>9</th>\n",
       "      <td>86</td>\n",
       "      <td>10</td>\n",
       "    </tr>\n",
       "    <tr>\n",
       "      <th>10</th>\n",
       "      <td>96</td>\n",
       "      <td>11</td>\n",
       "    </tr>\n",
       "    <tr>\n",
       "      <th>11</th>\n",
       "      <td>102</td>\n",
       "      <td>12</td>\n",
       "    </tr>\n",
       "  </tbody>\n",
       "</table>\n",
       "</div>"
      ],
      "text/plain": [
       "    count month\n",
       "0      63     1\n",
       "1      47     2\n",
       "2      55     3\n",
       "3      58     4\n",
       "4      81     5\n",
       "5      79     6\n",
       "6      78     7\n",
       "7      81     8\n",
       "8      57     9\n",
       "9      86    10\n",
       "10     96    11\n",
       "11    102    12"
      ]
     },
     "execution_count": 60,
     "metadata": {},
     "output_type": "execute_result"
    }
   ],
   "source": [
    "#What are the most prolific months for movies to be released in our dataset?\n",
    "\n",
    "#Looking at month \n",
    "movies_month = groupby_count(movies, \"month\", \"star\")\n",
    "movies_month"
   ]
  },
  {
   "cell_type": "code",
   "execution_count": 61,
   "metadata": {},
   "outputs": [],
   "source": [
    "#Creating a new column called month with the names of the month of the year, since the df is ordered, we know that \n",
    "#the months of the year can be added this way \n",
    "movies_month[\"month\"] = [\"Jan\", \"Feb\", \"Mar\", \"Apr\", \"May\", \"Jun\", \"Jul\", \"Aug\", \"Sept\", \"Oct\", \"Nov\", \"Dec\"]"
   ]
  },
  {
   "cell_type": "code",
   "execution_count": 62,
   "metadata": {},
   "outputs": [],
   "source": [
    "#Changing the data type of the month column to ordered categorical \n",
    "cat = [\"Jan\", \"Feb\", \"Mar\", \"Apr\", \"May\", \"Jun\", \"Jul\", \"Aug\", \"Sept\", \"Oct\", \"Nov\", \"Dec\"]\n",
    "movies_month[\"month\"] = pd.Categorical(movies_month[\"month\"], ordered = True, categories = cat)"
   ]
  },
  {
   "cell_type": "code",
   "execution_count": 63,
   "metadata": {},
   "outputs": [
    {
     "data": {
      "text/plain": [
       "CategoricalDtype(categories=['Jan', 'Feb', 'Mar', 'Apr', 'May', 'Jun', 'Jul', 'Aug',\n",
       "                  'Sept', 'Oct', 'Nov', 'Dec'],\n",
       "                 ordered=True)"
      ]
     },
     "execution_count": 63,
     "metadata": {},
     "output_type": "execute_result"
    }
   ],
   "source": [
    "movies_month.month.dtype"
   ]
  },
  {
   "cell_type": "code",
   "execution_count": 64,
   "metadata": {},
   "outputs": [
    {
     "data": {
      "text/html": [
       "<div>\n",
       "<style scoped>\n",
       "    .dataframe tbody tr th:only-of-type {\n",
       "        vertical-align: middle;\n",
       "    }\n",
       "\n",
       "    .dataframe tbody tr th {\n",
       "        vertical-align: top;\n",
       "    }\n",
       "\n",
       "    .dataframe thead th {\n",
       "        text-align: right;\n",
       "    }\n",
       "</style>\n",
       "<table border=\"1\" class=\"dataframe\">\n",
       "  <thead>\n",
       "    <tr style=\"text-align: right;\">\n",
       "      <th></th>\n",
       "      <th>count</th>\n",
       "      <th>month</th>\n",
       "    </tr>\n",
       "  </thead>\n",
       "  <tbody>\n",
       "    <tr>\n",
       "      <th>0</th>\n",
       "      <td>63</td>\n",
       "      <td>Jan</td>\n",
       "    </tr>\n",
       "    <tr>\n",
       "      <th>1</th>\n",
       "      <td>47</td>\n",
       "      <td>Feb</td>\n",
       "    </tr>\n",
       "    <tr>\n",
       "      <th>2</th>\n",
       "      <td>55</td>\n",
       "      <td>Mar</td>\n",
       "    </tr>\n",
       "    <tr>\n",
       "      <th>3</th>\n",
       "      <td>58</td>\n",
       "      <td>Apr</td>\n",
       "    </tr>\n",
       "    <tr>\n",
       "      <th>4</th>\n",
       "      <td>81</td>\n",
       "      <td>May</td>\n",
       "    </tr>\n",
       "    <tr>\n",
       "      <th>5</th>\n",
       "      <td>79</td>\n",
       "      <td>Jun</td>\n",
       "    </tr>\n",
       "    <tr>\n",
       "      <th>6</th>\n",
       "      <td>78</td>\n",
       "      <td>Jul</td>\n",
       "    </tr>\n",
       "    <tr>\n",
       "      <th>7</th>\n",
       "      <td>81</td>\n",
       "      <td>Aug</td>\n",
       "    </tr>\n",
       "    <tr>\n",
       "      <th>8</th>\n",
       "      <td>57</td>\n",
       "      <td>Sept</td>\n",
       "    </tr>\n",
       "    <tr>\n",
       "      <th>9</th>\n",
       "      <td>86</td>\n",
       "      <td>Oct</td>\n",
       "    </tr>\n",
       "    <tr>\n",
       "      <th>10</th>\n",
       "      <td>96</td>\n",
       "      <td>Nov</td>\n",
       "    </tr>\n",
       "    <tr>\n",
       "      <th>11</th>\n",
       "      <td>102</td>\n",
       "      <td>Dec</td>\n",
       "    </tr>\n",
       "  </tbody>\n",
       "</table>\n",
       "</div>"
      ],
      "text/plain": [
       "    count month\n",
       "0      63   Jan\n",
       "1      47   Feb\n",
       "2      55   Mar\n",
       "3      58   Apr\n",
       "4      81   May\n",
       "5      79   Jun\n",
       "6      78   Jul\n",
       "7      81   Aug\n",
       "8      57  Sept\n",
       "9      86   Oct\n",
       "10     96   Nov\n",
       "11    102   Dec"
      ]
     },
     "execution_count": 64,
     "metadata": {},
     "output_type": "execute_result"
    }
   ],
   "source": [
    "movies_month"
   ]
  },
  {
   "cell_type": "code",
   "execution_count": 65,
   "metadata": {},
   "outputs": [
    {
     "data": {
      "text/plain": [
       "Text(0.5, 0, 'month')"
      ]
     },
     "execution_count": 65,
     "metadata": {},
     "output_type": "execute_result"
    },
    {
     "data": {
      "image/png": "[encoded data removed]",
      "text/plain": [
       "<Figure size 432x288 with 1 Axes>"
      ]
     },
     "metadata": {
      "needs_background": "light"
     },
     "output_type": "display_data"
    }
   ],
   "source": [
    "bar_graph_count(movies_month, \"month\", \"count\", \"Visualization of Number of Movies by Month\")"
   ]
  },
  {
   "cell_type": "code",
   "execution_count": 66,
   "metadata": {},
   "outputs": [],
   "source": [
    "#Descritizing the df based on all of the numeric columns: \n",
    "#Creating a new df name movies_descritized \n",
    "movies_discretized = movies.copy()"
   ]
  },
  {
   "cell_type": "code",
   "execution_count": 67,
   "metadata": {},
   "outputs": [
    {
     "data": {
      "text/plain": [
       "Index(['budget', 'company', 'country', 'director', 'genre', 'gross', 'name',\n",
       "       'rating', 'released', 'runtime', 'score', 'star', 'votes', 'writer',\n",
       "       'year', 'month', 'day', 'profit', 'percent_profit',\n",
       "       'cumulative_mean_director', 'exp_mean_director',\n",
       "       'cumulative_mean_writer', 'exp_mean_writer', 'cumulative_mean_star',\n",
       "       'exp_mean_star', 'cumulative_mean_company', 'exp_mean_company',\n",
       "       'cumulative_mean_avg', 'exp_mean_avg'],\n",
       "      dtype='object')"
      ]
     },
     "execution_count": 67,
     "metadata": {},
     "output_type": "execute_result"
    }
   ],
   "source": [
    "movies_discretized.columns"
   ]
  },
  {
   "cell_type": "code",
   "execution_count": 68,
   "metadata": {},
   "outputs": [],
   "source": [
    "# We are going to descritize our data based on the quartiles. The categories are: \n",
    "# extremely_low, low, high, extremely_high\n",
    "# We are using our quartile_discretize function that takes the following arguments: \n",
    "#(df, column, category)\n",
    "categories = [\"extremely_low\", \"low\", \"high\", \"extremely_high\"]\n",
    "movies_discretized[\"budget\"] = quartile_discretize(movies_discretized, \"budget\", categories)"
   ]
  },
  {
   "cell_type": "code",
   "execution_count": 69,
   "metadata": {},
   "outputs": [
    {
     "data": {
      "text/plain": [
       "CategoricalDtype(categories=['extremely_low', 'low', 'high', 'extremely_high'], ordered=True)"
      ]
     },
     "execution_count": 69,
     "metadata": {},
     "output_type": "execute_result"
    }
   ],
   "source": [
    "#Checking to make sure it worked \n",
    "movies_discretized.budget.dtype"
   ]
  },
  {
   "cell_type": "code",
   "execution_count": 70,
   "metadata": {},
   "outputs": [],
   "source": [
    "#Gross: We are using the same categories and discretizing based on quantiles 25%, 50%, 75% 100%\n",
    "movies_discretized[\"gross\"] = quartile_discretize(movies_discretized, \"gross\", categories)"
   ]
  },
  {
   "cell_type": "code",
   "execution_count": 71,
   "metadata": {},
   "outputs": [
    {
     "data": {
      "text/plain": [
       "CategoricalDtype(categories=['extremely_low', 'low', 'high', 'extremely_high'], ordered=True)"
      ]
     },
     "execution_count": 71,
     "metadata": {},
     "output_type": "execute_result"
    }
   ],
   "source": [
    "#Checking to see that it worked \n",
    "movies_discretized.gross.dtype"
   ]
  },
  {
   "cell_type": "code",
   "execution_count": 72,
   "metadata": {},
   "outputs": [],
   "source": [
    "#Score: We are using the same categories and discretizing based on quantiles 25%, 50%, 75% 100%\n",
    "movies_discretized[\"score\"] = quartile_discretize(movies_discretized, \"score\", categories)"
   ]
  },
  {
   "cell_type": "code",
   "execution_count": 73,
   "metadata": {},
   "outputs": [
    {
     "data": {
      "text/plain": [
       "CategoricalDtype(categories=['extremely_low', 'low', 'high', 'extremely_high'], ordered=True)"
      ]
     },
     "execution_count": 73,
     "metadata": {},
     "output_type": "execute_result"
    }
   ],
   "source": [
    "#Checking to see that it worked \n",
    "movies_discretized.score.dtype"
   ]
  },
  {
   "cell_type": "code",
   "execution_count": 74,
   "metadata": {},
   "outputs": [],
   "source": [
    "#Votes: We are using the same categories and discretizing based on quantiles 25%, 50%, 75% 100%\n",
    "movies_discretized[\"votes\"] = quartile_discretize(movies_discretized, \"votes\", categories)"
   ]
  },
  {
   "cell_type": "code",
   "execution_count": 75,
   "metadata": {},
   "outputs": [
    {
     "data": {
      "text/plain": [
       "CategoricalDtype(categories=['extremely_low', 'low', 'high', 'extremely_high'], ordered=True)"
      ]
     },
     "execution_count": 75,
     "metadata": {},
     "output_type": "execute_result"
    }
   ],
   "source": [
    "movies_discretized.votes.dtype"
   ]
  },
  {
   "cell_type": "code",
   "execution_count": 76,
   "metadata": {},
   "outputs": [],
   "source": [
    "#writer_mean: We are using the same categories and discretizing based on quantiles 25%, 50%, 75% 100%\n",
    "movies_discretized[\"cumulative_mean_writer\"] = quartile_discretize(movies_discretized,\"cumulative_mean_writer\", categories)\n",
    "movies_discretized[\"exp_mean_writer\"] = quartile_discretize(movies_discretized,\"exp_mean_writer\", categories)\n",
    "movies_discretized[\"cumulative_mean_director\"] = quartile_discretize(movies_discretized, \"cumulative_mean_director\", categories)\n",
    "movies_discretized[\"exp_mean_director\"] = quartile_discretize(movies_discretized,\"exp_mean_director\", categories)\n",
    "movies_discretized[\"cumulative_mean_star\"] = quartile_discretize(movies_discretized, \"cumulative_mean_star\", categories)\n",
    "movies_discretized[\"exp_mean_star\"] = quartile_discretize(movies_discretized, \"exp_mean_star\", categories)\n",
    "movies_discretized[\"cumulative_mean_company\"] = quartile_discretize(movies_discretized, \"cumulative_mean_company\", categories)\n",
    "movies_discretized[\"exp_mean_company\"] = quartile_discretize(movies_discretized, \"exp_mean_company\", categories)"
   ]
  },
  {
   "cell_type": "code",
   "execution_count": 77,
   "metadata": {},
   "outputs": [],
   "source": [
    "#We are creating new label categories \n",
    "categories = [\"extremely_short\", \"short\", \"long\", \"extremely_long\"]\n",
    "movies_discretized[\"runtime\"] = quartile_discretize(movies_discretized, \"runtime\", categories)"
   ]
  },
  {
   "cell_type": "code",
   "execution_count": 78,
   "metadata": {},
   "outputs": [
    {
     "data": {
      "text/plain": [
       "CategoricalDtype(categories=['extremely_short', 'short', 'long', 'extremely_long'], ordered=True)"
      ]
     },
     "execution_count": 78,
     "metadata": {},
     "output_type": "execute_result"
    }
   ],
   "source": [
    "#Checking to see if that worked \n",
    "movies_discretized.runtime.dtype"
   ]
  },
  {
   "cell_type": "code",
   "execution_count": 79,
   "metadata": {},
   "outputs": [
    {
     "data": {
      "text/plain": [
       "count     883.000000\n",
       "mean       47.168989\n",
       "std       171.138287\n",
       "min       -99.976634\n",
       "25%       -44.219378\n",
       "50%         6.505111\n",
       "75%        80.332174\n",
       "max      1707.844444\n",
       "Name: percent_profit, dtype: float64"
      ]
     },
     "execution_count": 79,
     "metadata": {},
     "output_type": "execute_result"
    }
   ],
   "source": [
    "movies_discretized.percent_profit.describe()"
   ]
  },
  {
   "cell_type": "code",
   "execution_count": 80,
   "metadata": {},
   "outputs": [],
   "source": [
    "#We are creating new label categories ; Discretized Percent Profit \n",
    "#We cannot use our function on this, because we are not discretizing by quartiles\n",
    "categories = [\"negative\", \"low\", \"high\", \"extremely_high\"]\n",
    "movies_discretized[\"percent_profit\"] = pd.cut(movies_discretized[\"percent_profit\"], [-100, 0, 50, 150, 999999], labels = categories)"
   ]
  },
  {
   "cell_type": "code",
   "execution_count": 81,
   "metadata": {},
   "outputs": [
    {
     "data": {
      "text/plain": [
       "CategoricalDtype(categories=['negative', 'low', 'high', 'extremely_high'], ordered=True)"
      ]
     },
     "execution_count": 81,
     "metadata": {},
     "output_type": "execute_result"
    }
   ],
   "source": [
    "#Checking to see if it worked \n",
    "movies_discretized.percent_profit.dtype"
   ]
  },
  {
   "cell_type": "code",
   "execution_count": 82,
   "metadata": {},
   "outputs": [
    {
     "data": {
      "text/plain": [
       "count    8.830000e+02\n",
       "mean     1.691477e+07\n",
       "std      6.503097e+07\n",
       "min     -1.286123e+08\n",
       "25%     -1.660067e+07\n",
       "50%      2.697999e+06\n",
       "75%      3.387665e+07\n",
       "max      5.022706e+08\n",
       "Name: profit, dtype: float64"
      ]
     },
     "execution_count": 82,
     "metadata": {},
     "output_type": "execute_result"
    }
   ],
   "source": [
    "movies_discretized.profit.describe()"
   ]
  },
  {
   "cell_type": "code",
   "execution_count": 83,
   "metadata": {},
   "outputs": [],
   "source": [
    "#Profit\n",
    "#We cannot use our function on this, because we are not discretizing by quartiles\n",
    "movies_discretized[\"profit\"] = pd.cut(movies_discretized[\"profit\"], [-9999999999, 0, 1000000, 50000000, 999999999], labels = categories)"
   ]
  },
  {
   "cell_type": "code",
   "execution_count": 84,
   "metadata": {},
   "outputs": [
    {
     "data": {
      "text/html": [
       "<div>\n",
       "<style scoped>\n",
       "    .dataframe tbody tr th:only-of-type {\n",
       "        vertical-align: middle;\n",
       "    }\n",
       "\n",
       "    .dataframe tbody tr th {\n",
       "        vertical-align: top;\n",
       "    }\n",
       "\n",
       "    .dataframe thead th {\n",
       "        text-align: right;\n",
       "    }\n",
       "</style>\n",
       "<table border=\"1\" class=\"dataframe\">\n",
       "  <thead>\n",
       "    <tr style=\"text-align: right;\">\n",
       "      <th></th>\n",
       "      <th>budget</th>\n",
       "      <th>company</th>\n",
       "      <th>country</th>\n",
       "      <th>director</th>\n",
       "      <th>genre</th>\n",
       "      <th>gross</th>\n",
       "      <th>name</th>\n",
       "      <th>rating</th>\n",
       "      <th>released</th>\n",
       "      <th>runtime</th>\n",
       "      <th>...</th>\n",
       "      <th>cumulative_mean_director</th>\n",
       "      <th>exp_mean_director</th>\n",
       "      <th>cumulative_mean_writer</th>\n",
       "      <th>exp_mean_writer</th>\n",
       "      <th>cumulative_mean_star</th>\n",
       "      <th>exp_mean_star</th>\n",
       "      <th>cumulative_mean_company</th>\n",
       "      <th>exp_mean_company</th>\n",
       "      <th>cumulative_mean_avg</th>\n",
       "      <th>exp_mean_avg</th>\n",
       "    </tr>\n",
       "  </thead>\n",
       "  <tbody>\n",
       "    <tr>\n",
       "      <th>110</th>\n",
       "      <td>low</td>\n",
       "      <td>Paramount Pictures</td>\n",
       "      <td>USA</td>\n",
       "      <td>John Hughes</td>\n",
       "      <td>Comedy</td>\n",
       "      <td>low</td>\n",
       "      <td>Planes, Trains &amp; Automobiles</td>\n",
       "      <td>R</td>\n",
       "      <td>1987-11-25</td>\n",
       "      <td>extremely_short</td>\n",
       "      <td>...</td>\n",
       "      <td>extremely_high</td>\n",
       "      <td>extremely_high</td>\n",
       "      <td>extremely_high</td>\n",
       "      <td>high</td>\n",
       "      <td>low</td>\n",
       "      <td>low</td>\n",
       "      <td>high</td>\n",
       "      <td>extremely_high</td>\n",
       "      <td>7.007143</td>\n",
       "      <td>6.923092</td>\n",
       "    </tr>\n",
       "    <tr>\n",
       "      <th>116</th>\n",
       "      <td>low</td>\n",
       "      <td>Paramount Pictures</td>\n",
       "      <td>USA</td>\n",
       "      <td>Tony Scott</td>\n",
       "      <td>Action</td>\n",
       "      <td>extremely_high</td>\n",
       "      <td>Beverly Hills Cop II</td>\n",
       "      <td>R</td>\n",
       "      <td>1987-05-20</td>\n",
       "      <td>extremely_short</td>\n",
       "      <td>...</td>\n",
       "      <td>high</td>\n",
       "      <td>high</td>\n",
       "      <td>low</td>\n",
       "      <td>low</td>\n",
       "      <td>extremely_low</td>\n",
       "      <td>extremely_low</td>\n",
       "      <td>low</td>\n",
       "      <td>high</td>\n",
       "      <td>6.311364</td>\n",
       "      <td>6.389337</td>\n",
       "    </tr>\n",
       "    <tr>\n",
       "      <th>139</th>\n",
       "      <td>extremely_low</td>\n",
       "      <td>Orion Pictures</td>\n",
       "      <td>USA</td>\n",
       "      <td>Woody Allen</td>\n",
       "      <td>Comedy</td>\n",
       "      <td>extremely_low</td>\n",
       "      <td>Radio Days</td>\n",
       "      <td>PG</td>\n",
       "      <td>1987-01-30</td>\n",
       "      <td>extremely_short</td>\n",
       "      <td>...</td>\n",
       "      <td>extremely_high</td>\n",
       "      <td>extremely_high</td>\n",
       "      <td>extremely_high</td>\n",
       "      <td>extremely_high</td>\n",
       "      <td>extremely_high</td>\n",
       "      <td>extremely_high</td>\n",
       "      <td>extremely_high</td>\n",
       "      <td>extremely_high</td>\n",
       "      <td>7.775000</td>\n",
       "      <td>7.688861</td>\n",
       "    </tr>\n",
       "    <tr>\n",
       "      <th>151</th>\n",
       "      <td>extremely_low</td>\n",
       "      <td>Cannon Group</td>\n",
       "      <td>USA</td>\n",
       "      <td>Sam Firstenberg</td>\n",
       "      <td>Action</td>\n",
       "      <td>extremely_low</td>\n",
       "      <td>American Ninja 2: The Confrontation</td>\n",
       "      <td>R</td>\n",
       "      <td>1987-05-01</td>\n",
       "      <td>extremely_short</td>\n",
       "      <td>...</td>\n",
       "      <td>extremely_low</td>\n",
       "      <td>extremely_low</td>\n",
       "      <td>extremely_low</td>\n",
       "      <td>extremely_low</td>\n",
       "      <td>extremely_low</td>\n",
       "      <td>extremely_low</td>\n",
       "      <td>extremely_low</td>\n",
       "      <td>extremely_low</td>\n",
       "      <td>5.712500</td>\n",
       "      <td>5.633537</td>\n",
       "    </tr>\n",
       "    <tr>\n",
       "      <th>213</th>\n",
       "      <td>extremely_low</td>\n",
       "      <td>Paramount Pictures</td>\n",
       "      <td>Canada</td>\n",
       "      <td>Jonathan Kaplan</td>\n",
       "      <td>Drama</td>\n",
       "      <td>low</td>\n",
       "      <td>Acusados</td>\n",
       "      <td>R</td>\n",
       "      <td>1988-10-14</td>\n",
       "      <td>long</td>\n",
       "      <td>...</td>\n",
       "      <td>extremely_low</td>\n",
       "      <td>extremely_low</td>\n",
       "      <td>high</td>\n",
       "      <td>low</td>\n",
       "      <td>extremely_low</td>\n",
       "      <td>extremely_low</td>\n",
       "      <td>high</td>\n",
       "      <td>high</td>\n",
       "      <td>6.344444</td>\n",
       "      <td>6.386719</td>\n",
       "    </tr>\n",
       "  </tbody>\n",
       "</table>\n",
       "<p>5 rows × 29 columns</p>\n",
       "</div>"
      ],
      "text/plain": [
       "            budget             company country         director   genre  \\\n",
       "110            low  Paramount Pictures     USA      John Hughes  Comedy   \n",
       "116            low  Paramount Pictures     USA       Tony Scott  Action   \n",
       "139  extremely_low      Orion Pictures     USA      Woody Allen  Comedy   \n",
       "151  extremely_low        Cannon Group     USA  Sam Firstenberg  Action   \n",
       "213  extremely_low  Paramount Pictures  Canada  Jonathan Kaplan   Drama   \n",
       "\n",
       "              gross                                 name rating   released  \\\n",
       "110             low         Planes, Trains & Automobiles      R 1987-11-25   \n",
       "116  extremely_high                 Beverly Hills Cop II      R 1987-05-20   \n",
       "139   extremely_low                           Radio Days     PG 1987-01-30   \n",
       "151   extremely_low  American Ninja 2: The Confrontation      R 1987-05-01   \n",
       "213             low                             Acusados      R 1988-10-14   \n",
       "\n",
       "             runtime  ... cumulative_mean_director exp_mean_director  \\\n",
       "110  extremely_short  ...           extremely_high    extremely_high   \n",
       "116  extremely_short  ...                     high              high   \n",
       "139  extremely_short  ...           extremely_high    extremely_high   \n",
       "151  extremely_short  ...            extremely_low     extremely_low   \n",
       "213             long  ...            extremely_low     extremely_low   \n",
       "\n",
       "    cumulative_mean_writer exp_mean_writer  cumulative_mean_star  \\\n",
       "110         extremely_high            high                   low   \n",
       "116                    low             low         extremely_low   \n",
       "139         extremely_high  extremely_high        extremely_high   \n",
       "151          extremely_low   extremely_low         extremely_low   \n",
       "213                   high             low         extremely_low   \n",
       "\n",
       "      exp_mean_star  cumulative_mean_company exp_mean_company  \\\n",
       "110             low                     high   extremely_high   \n",
       "116   extremely_low                      low             high   \n",
       "139  extremely_high           extremely_high   extremely_high   \n",
       "151   extremely_low            extremely_low    extremely_low   \n",
       "213   extremely_low                     high             high   \n",
       "\n",
       "    cumulative_mean_avg exp_mean_avg  \n",
       "110            7.007143     6.923092  \n",
       "116            6.311364     6.389337  \n",
       "139            7.775000     7.688861  \n",
       "151            5.712500     5.633537  \n",
       "213            6.344444     6.386719  \n",
       "\n",
       "[5 rows x 29 columns]"
      ]
     },
     "execution_count": 84,
     "metadata": {},
     "output_type": "execute_result"
    }
   ],
   "source": [
    "movies_discretized.head()"
   ]
  },
  {
   "cell_type": "code",
   "execution_count": 85,
   "metadata": {},
   "outputs": [],
   "source": [
    "#We are setting new categories for the day column by creating a new column for week \n",
    "# week_1 is the first 7 days of the month, week_2 is days 8 - 14, week_3 is days 15 - 21, and week_4 are the \n",
    "# rest of the days\n",
    "categories = [\"week_1\", \"week_2\", \"week_3\", \"week_4\"]\n",
    "\n",
    "movies_discretized[\"week\"] = pd.cut(movies_discretized[\"day\"], [0, 8, 15, 22, 32], labels = categories)"
   ]
  },
  {
   "cell_type": "code",
   "execution_count": 86,
   "metadata": {},
   "outputs": [
    {
     "data": {
      "text/plain": [
       "CategoricalDtype(categories=['week_1', 'week_2', 'week_3', 'week_4'], ordered=True)"
      ]
     },
     "execution_count": 86,
     "metadata": {},
     "output_type": "execute_result"
    }
   ],
   "source": [
    "movies_discretized.week.dtype"
   ]
  },
  {
   "cell_type": "code",
   "execution_count": 87,
   "metadata": {},
   "outputs": [],
   "source": [
    "#Looking at the relationship between genre and percent profit \n",
    "movies_discretized_genre_pp = groupby_2_count(movies_discretized, \"genre\", \"percent_profit\", \"score\")"
   ]
  },
  {
   "cell_type": "code",
   "execution_count": 88,
   "metadata": {},
   "outputs": [
    {
     "data": {
      "text/html": [
       "<div>\n",
       "<style scoped>\n",
       "    .dataframe tbody tr th:only-of-type {\n",
       "        vertical-align: middle;\n",
       "    }\n",
       "\n",
       "    .dataframe tbody tr th {\n",
       "        vertical-align: top;\n",
       "    }\n",
       "\n",
       "    .dataframe thead th {\n",
       "        text-align: right;\n",
       "    }\n",
       "</style>\n",
       "<table border=\"1\" class=\"dataframe\">\n",
       "  <thead>\n",
       "    <tr style=\"text-align: right;\">\n",
       "      <th></th>\n",
       "      <th>count</th>\n",
       "      <th>genre</th>\n",
       "      <th>percent_profit</th>\n",
       "    </tr>\n",
       "  </thead>\n",
       "  <tbody>\n",
       "    <tr>\n",
       "      <th>0</th>\n",
       "      <td>150</td>\n",
       "      <td>Action</td>\n",
       "      <td>negative</td>\n",
       "    </tr>\n",
       "    <tr>\n",
       "      <th>1</th>\n",
       "      <td>60</td>\n",
       "      <td>Action</td>\n",
       "      <td>low</td>\n",
       "    </tr>\n",
       "    <tr>\n",
       "      <th>2</th>\n",
       "      <td>62</td>\n",
       "      <td>Action</td>\n",
       "      <td>high</td>\n",
       "    </tr>\n",
       "    <tr>\n",
       "      <th>3</th>\n",
       "      <td>29</td>\n",
       "      <td>Action</td>\n",
       "      <td>extremely_high</td>\n",
       "    </tr>\n",
       "    <tr>\n",
       "      <th>4</th>\n",
       "      <td>16</td>\n",
       "      <td>Adventure</td>\n",
       "      <td>negative</td>\n",
       "    </tr>\n",
       "  </tbody>\n",
       "</table>\n",
       "</div>"
      ],
      "text/plain": [
       "   count      genre  percent_profit\n",
       "0    150     Action        negative\n",
       "1     60     Action             low\n",
       "2     62     Action            high\n",
       "3     29     Action  extremely_high\n",
       "4     16  Adventure        negative"
      ]
     },
     "execution_count": 88,
     "metadata": {},
     "output_type": "execute_result"
    }
   ],
   "source": [
    "movies_discretized_genre_pp.head()"
   ]
  },
  {
   "cell_type": "code",
   "execution_count": 89,
   "metadata": {},
   "outputs": [
    {
     "data": {
      "text/plain": [
       "genre\n",
       "Action       301\n",
       "Adventure     54\n",
       "Animation     33\n",
       "Biography     38\n",
       "Comedy       233\n",
       "Crime         69\n",
       "Drama        116\n",
       "Fantasy        4\n",
       "Horror        27\n",
       "Mystery        7\n",
       "Romance        1\n",
       "Name: count, dtype: int64"
      ]
     },
     "execution_count": 89,
     "metadata": {},
     "output_type": "execute_result"
    }
   ],
   "source": [
    "#Now we are getting the sum of each genre category... We do not have a function for sum... we could go back and rework \n",
    "#our function.\n",
    "movies_discretized_genre_pp.groupby(\"genre\")[\"count\"].sum()"
   ]
  },
  {
   "cell_type": "code",
   "execution_count": 90,
   "metadata": {},
   "outputs": [],
   "source": [
    "movies_discretized_genre_pp[\"genre_count\"] = movies_discretized_genre_pp[\"genre\"]"
   ]
  },
  {
   "cell_type": "code",
   "execution_count": 91,
   "metadata": {},
   "outputs": [],
   "source": [
    "'''We ultimately want a column that contains the total counts for each genre group. We are probably doing this in \n",
    "a roundabout way, but as I am extremely new to python this is the best way I can think of doing it. We are going to create \n",
    "a new column that replicates the genre column called genre_count and then we will use the replace function to \n",
    "replace the genre names with their total count '''\n",
    "#First, replicating the income level column in a column named budget_category_count\n",
    "movies_discretized_genre_pp[\"genre_count\"] = movies_discretized_genre_pp[\"genre\"] \n",
    "#Now replacing the income level with the total count for each income level \n",
    "movies_discretized_genre_pp[\"genre_count\"] = movies_discretized_genre_pp[\"genre_count\"].replace([\"Action\"], 301 )\n",
    "movies_discretized_genre_pp[\"genre_count\"] = movies_discretized_genre_pp[\"genre_count\"].replace([\"Adventure\"], 54)\n",
    "movies_discretized_genre_pp[\"genre_count\"] = movies_discretized_genre_pp[\"genre_count\"].replace([\"Animation\"], 33)\n",
    "movies_discretized_genre_pp[\"genre_count\"] = movies_discretized_genre_pp[\"genre_count\"].replace([\"Biography\"], 38)\n",
    "movies_discretized_genre_pp[\"genre_count\"] = movies_discretized_genre_pp[\"genre_count\"].replace([\"Comedy\"], 233)\n",
    "movies_discretized_genre_pp[\"genre_count\"] = movies_discretized_genre_pp[\"genre_count\"].replace([\"Crime\"], 69)\n",
    "movies_discretized_genre_pp[\"genre_count\"] = movies_discretized_genre_pp[\"genre_count\"].replace([\"Drama\"], 116)\n",
    "movies_discretized_genre_pp[\"genre_count\"] = movies_discretized_genre_pp[\"genre_count\"].replace([\"Fantasy\"], 4)\n",
    "movies_discretized_genre_pp[\"genre_count\"] = movies_discretized_genre_pp[\"genre_count\"].replace([\"Horror\"], 27)\n",
    "movies_discretized_genre_pp[\"genre_count\"] = movies_discretized_genre_pp[\"genre_count\"].replace([\"Mystery\"], 7)\n",
    "movies_discretized_genre_pp[\"genre_count\"] = movies_discretized_genre_pp[\"genre_count\"].replace([\"Romance\"], 1)\n"
   ]
  },
  {
   "cell_type": "code",
   "execution_count": 92,
   "metadata": {},
   "outputs": [
    {
     "data": {
      "text/html": [
       "<div>\n",
       "<style scoped>\n",
       "    .dataframe tbody tr th:only-of-type {\n",
       "        vertical-align: middle;\n",
       "    }\n",
       "\n",
       "    .dataframe tbody tr th {\n",
       "        vertical-align: top;\n",
       "    }\n",
       "\n",
       "    .dataframe thead th {\n",
       "        text-align: right;\n",
       "    }\n",
       "</style>\n",
       "<table border=\"1\" class=\"dataframe\">\n",
       "  <thead>\n",
       "    <tr style=\"text-align: right;\">\n",
       "      <th></th>\n",
       "      <th>count</th>\n",
       "      <th>genre</th>\n",
       "      <th>percent_profit</th>\n",
       "      <th>genre_count</th>\n",
       "    </tr>\n",
       "  </thead>\n",
       "  <tbody>\n",
       "    <tr>\n",
       "      <th>0</th>\n",
       "      <td>150</td>\n",
       "      <td>Action</td>\n",
       "      <td>negative</td>\n",
       "      <td>301</td>\n",
       "    </tr>\n",
       "    <tr>\n",
       "      <th>1</th>\n",
       "      <td>60</td>\n",
       "      <td>Action</td>\n",
       "      <td>low</td>\n",
       "      <td>301</td>\n",
       "    </tr>\n",
       "    <tr>\n",
       "      <th>2</th>\n",
       "      <td>62</td>\n",
       "      <td>Action</td>\n",
       "      <td>high</td>\n",
       "      <td>301</td>\n",
       "    </tr>\n",
       "    <tr>\n",
       "      <th>3</th>\n",
       "      <td>29</td>\n",
       "      <td>Action</td>\n",
       "      <td>extremely_high</td>\n",
       "      <td>301</td>\n",
       "    </tr>\n",
       "    <tr>\n",
       "      <th>4</th>\n",
       "      <td>16</td>\n",
       "      <td>Adventure</td>\n",
       "      <td>negative</td>\n",
       "      <td>54</td>\n",
       "    </tr>\n",
       "  </tbody>\n",
       "</table>\n",
       "</div>"
      ],
      "text/plain": [
       "   count      genre  percent_profit  genre_count\n",
       "0    150     Action        negative          301\n",
       "1     60     Action             low          301\n",
       "2     62     Action            high          301\n",
       "3     29     Action  extremely_high          301\n",
       "4     16  Adventure        negative           54"
      ]
     },
     "execution_count": 92,
     "metadata": {},
     "output_type": "execute_result"
    }
   ],
   "source": [
    "movies_discretized_genre_pp.head()"
   ]
  },
  {
   "cell_type": "code",
   "execution_count": 93,
   "metadata": {},
   "outputs": [],
   "source": [
    "movies_discretized_genre_pp[\"genre_count\"] = pd.to_numeric(movies_discretized_genre_pp[\"genre_count\"])"
   ]
  },
  {
   "cell_type": "code",
   "execution_count": 94,
   "metadata": {},
   "outputs": [],
   "source": [
    "#Okay, we are one step closer... Now, we need to create a column that takes the counts/genre_counts * 100 \n",
    "movies_discretized_genre_pp[\"percent\"] = movies_discretized_genre_pp[\"count\"]/movies_discretized_genre_pp[\"genre_count\"] *100"
   ]
  },
  {
   "cell_type": "code",
   "execution_count": 95,
   "metadata": {},
   "outputs": [
    {
     "data": {
      "text/html": [
       "<div>\n",
       "<style scoped>\n",
       "    .dataframe tbody tr th:only-of-type {\n",
       "        vertical-align: middle;\n",
       "    }\n",
       "\n",
       "    .dataframe tbody tr th {\n",
       "        vertical-align: top;\n",
       "    }\n",
       "\n",
       "    .dataframe thead th {\n",
       "        text-align: right;\n",
       "    }\n",
       "</style>\n",
       "<table border=\"1\" class=\"dataframe\">\n",
       "  <thead>\n",
       "    <tr style=\"text-align: right;\">\n",
       "      <th></th>\n",
       "      <th>count</th>\n",
       "      <th>genre</th>\n",
       "      <th>percent_profit</th>\n",
       "      <th>genre_count</th>\n",
       "      <th>percent</th>\n",
       "    </tr>\n",
       "  </thead>\n",
       "  <tbody>\n",
       "    <tr>\n",
       "      <th>0</th>\n",
       "      <td>150</td>\n",
       "      <td>Action</td>\n",
       "      <td>negative</td>\n",
       "      <td>301</td>\n",
       "      <td>49.833887</td>\n",
       "    </tr>\n",
       "    <tr>\n",
       "      <th>1</th>\n",
       "      <td>60</td>\n",
       "      <td>Action</td>\n",
       "      <td>low</td>\n",
       "      <td>301</td>\n",
       "      <td>19.933555</td>\n",
       "    </tr>\n",
       "    <tr>\n",
       "      <th>2</th>\n",
       "      <td>62</td>\n",
       "      <td>Action</td>\n",
       "      <td>high</td>\n",
       "      <td>301</td>\n",
       "      <td>20.598007</td>\n",
       "    </tr>\n",
       "    <tr>\n",
       "      <th>3</th>\n",
       "      <td>29</td>\n",
       "      <td>Action</td>\n",
       "      <td>extremely_high</td>\n",
       "      <td>301</td>\n",
       "      <td>9.634551</td>\n",
       "    </tr>\n",
       "    <tr>\n",
       "      <th>4</th>\n",
       "      <td>16</td>\n",
       "      <td>Adventure</td>\n",
       "      <td>negative</td>\n",
       "      <td>54</td>\n",
       "      <td>29.629630</td>\n",
       "    </tr>\n",
       "  </tbody>\n",
       "</table>\n",
       "</div>"
      ],
      "text/plain": [
       "   count      genre  percent_profit  genre_count    percent\n",
       "0    150     Action        negative          301  49.833887\n",
       "1     60     Action             low          301  19.933555\n",
       "2     62     Action            high          301  20.598007\n",
       "3     29     Action  extremely_high          301   9.634551\n",
       "4     16  Adventure        negative           54  29.629630"
      ]
     },
     "execution_count": 95,
     "metadata": {},
     "output_type": "execute_result"
    }
   ],
   "source": [
    "movies_discretized_genre_pp.head()"
   ]
  },
  {
   "cell_type": "code",
   "execution_count": 96,
   "metadata": {},
   "outputs": [
    {
     "data": {
      "text/plain": [
       "<matplotlib.legend.Legend at 0x27e0abb4c18>"
      ]
     },
     "execution_count": 96,
     "metadata": {},
     "output_type": "execute_result"
    },
    {
     "data": {
      "image/png": "[encoded data removed]",
      "text/plain": [
       "<Figure size 432x288 with 1 Axes>"
      ]
     },
     "metadata": {
      "needs_background": "light"
     },
     "output_type": "display_data"
    }
   ],
   "source": [
    "# Attempting to graph this data using a grouped bar chart: \n",
    "# formula: df.pivot(columns, group, values).plot(kind = \"type of graph\", color = [\"color to use, can be a list of colors\"], \n",
    "# title = \"you can set the title of your graph here\")\n",
    "graph = movies_discretized_genre_pp.pivot(\"genre\", \"percent_profit\", \n",
    "                                                \"percent\").plot(kind=\"bar\", color = [\"crimson\", \"salmon\", \"palegreen\", \"darkgreen\"],\n",
    "                                                               title = \"Percent of Percent Profit to Genre Category\")\n",
    "#Changing the y label of our graph to Percent\n",
    "plt.ylabel(\"Percent\")\n",
    "#Changing the x axis label of our graph to Budget Category \n",
    "plt.xlabel(\"Genre\")\n",
    "#How to change the tick labels (we ended up not needing this, but want to keep for future reference)\n",
    "#plt.Axes.set_xticklabels(graph, labels = ['extremely low', 'low', 'high', 'extremely high'])\n",
    "#moving the legend position to underneath the graph, also setting it to have 4 columns so the legend is in a \n",
    "#straight single line and adding a legend title\n",
    "plt.legend( loc = \"lower center\", bbox_to_anchor = (.5, -.6), ncol = 4, title = \"Percent Makeup of Genre Category\")\n"
   ]
  },
  {
   "cell_type": "code",
   "execution_count": 97,
   "metadata": {},
   "outputs": [],
   "source": [
    "##############################################################################################################\n",
    "# We are going to implement machine learning to see if we can predict either tmdb score or percent profit\n",
    "##############################################################################################################\n",
    "#\n",
    "##############################################################################################################\n",
    "# We are going to create an all numeric df, that does not contain the profit, percent profit, votes, and gross. \n",
    "# This information would give us an unfair look when trying to predict either score or percent profit, as these \n",
    "# metrics would not be available prior to the release of the movie. \n",
    "################################################################################################################\n",
    "# Potential Machine Learning algorithms we can use on our all numeric df: \n",
    "# logistic regression\n",
    "# Naive Bayes \n",
    "# k-means \n",
    "# Decision Tree \n",
    "# knn \n",
    "# svm\n",
    "################################################################################################################\n",
    "#\n",
    "#\n",
    "################################################################################################################\n",
    "# We are also going to create an all discretized df\n",
    "################################################################################################################\n",
    "################################################################################################################\n",
    "# Potential Machine Learning algorithms we can use on our discretized df: \n",
    "# Decision Tree\n",
    "# Association Rule Mining \n",
    "# Random Forest \n",
    "################################################################################################################\n"
   ]
  },
  {
   "cell_type": "code",
   "execution_count": 98,
   "metadata": {},
   "outputs": [],
   "source": [
    "#################################################################\n",
    "#Naive Bayes \n",
    "#**All Numerica Data *** \n",
    "#################################################################"
   ]
  },
  {
   "cell_type": "code",
   "execution_count": 99,
   "metadata": {},
   "outputs": [],
   "source": [
    "#Creating testing and training datasets comprised of all numeric data for score\n",
    "test_train_movies = movies.copy()"
   ]
  },
  {
   "cell_type": "code",
   "execution_count": 100,
   "metadata": {},
   "outputs": [],
   "source": [
    "test_train_movies_score = test_train_movies.copy()"
   ]
  },
  {
   "cell_type": "code",
   "execution_count": 101,
   "metadata": {},
   "outputs": [
    {
     "data": {
      "text/plain": [
       "count    883.000000\n",
       "mean       6.461608\n",
       "std        0.946882\n",
       "min        2.600000\n",
       "25%        5.900000\n",
       "50%        6.500000\n",
       "75%        7.100000\n",
       "max        9.000000\n",
       "Name: score, dtype: float64"
      ]
     },
     "execution_count": 101,
     "metadata": {},
     "output_type": "execute_result"
    }
   ],
   "source": [
    "test_train_movies_score.score.describe()"
   ]
  },
  {
   "cell_type": "code",
   "execution_count": 102,
   "metadata": {},
   "outputs": [],
   "source": [
    "#We believe that people will be most interested in if they will get a high imdb score and not if they will have an \n",
    "#average or low score... Due to this, we have decided to discretize score in 2 categories: high and not_high. \n",
    "#We have decided that a high score is 7+. \n",
    "test_train_movies_score = test_train_movies_score.copy()\n",
    "categories = [\"not_high\", \"high\"]\n",
    "# not_high = 0 - 7 \n",
    "# high = 7 - 10\n",
    "test_train_movies_score[\"score\"] = pd.cut(test_train_movies_score[\"score\"], [0, 7, 10], labels = categories)"
   ]
  },
  {
   "cell_type": "code",
   "execution_count": 103,
   "metadata": {},
   "outputs": [
    {
     "data": {
      "text/plain": [
       "score\n",
       "not_high    641\n",
       "high        242\n",
       "Name: score, dtype: int64"
      ]
     },
     "execution_count": 103,
     "metadata": {},
     "output_type": "execute_result"
    }
   ],
   "source": [
    "#Getting a count of the number of movies that are classified as high and not high in our df. \n",
    "test_train_movies_score_count = test_train_movies_score.groupby(\"score\")[\"score\"].count()\n",
    "test_train_movies_score_count"
   ]
  },
  {
   "cell_type": "code",
   "execution_count": 104,
   "metadata": {},
   "outputs": [
    {
     "data": {
      "text/plain": [
       "641"
      ]
     },
     "execution_count": 104,
     "metadata": {},
     "output_type": "execute_result"
    }
   ],
   "source": [
    "# We are going to create a testing and training df that contains 242 not_high entries and 242 high entries \n",
    "#First we are going to subset the not_high scores and the high scores \n",
    "not_high = test_train_movies_score[test_train_movies_score[\"score\"] == \"not_high\"]\n",
    "test_train_movies_score = test_train_movies_score[test_train_movies_score[\"score\"] == \"high\"]\n",
    "#Getting the length to make sure that we have 641 movies\n",
    "len(not_high)"
   ]
  },
  {
   "cell_type": "code",
   "execution_count": 105,
   "metadata": {},
   "outputs": [
    {
     "data": {
      "text/plain": [
       "242"
      ]
     },
     "execution_count": 105,
     "metadata": {},
     "output_type": "execute_result"
    }
   ],
   "source": [
    "#Checking to make sure that the test_train_movies_score is equal to the 242 high movies \n",
    "len(test_train_movies_score)"
   ]
  },
  {
   "cell_type": "code",
   "execution_count": 106,
   "metadata": {},
   "outputs": [
    {
     "data": {
      "text/plain": [
       "242"
      ]
     },
     "execution_count": 106,
     "metadata": {},
     "output_type": "execute_result"
    }
   ],
   "source": [
    "#Now getting a random sample of 242 entries in the not_high df and setting the seed to 123 to reproduce the results \n",
    "not_high = not_high.sample(n = 242, random_state = 123)\n",
    "#Getting the length to make sure that it worked \n",
    "len(not_high)"
   ]
  },
  {
   "cell_type": "code",
   "execution_count": 107,
   "metadata": {},
   "outputs": [
    {
     "data": {
      "text/plain": [
       "484"
      ]
     },
     "execution_count": 107,
     "metadata": {},
     "output_type": "execute_result"
    }
   ],
   "source": [
    "#Adding the not_high movies back to the test_train_movies_score df \n",
    "test_train_movies_score = pd.concat([test_train_movies_score, not_high])\n",
    "len(test_train_movies_score)"
   ]
  },
  {
   "cell_type": "code",
   "execution_count": 108,
   "metadata": {},
   "outputs": [],
   "source": [
    "#Changing the data type of month day and year to numeric\n",
    "columns = [\"month\", \"day\"]\n",
    "test_train_movies_score[columns] = test_train_movies_score[columns].apply(pd.to_numeric)"
   ]
  },
  {
   "cell_type": "code",
   "execution_count": 109,
   "metadata": {},
   "outputs": [],
   "source": [
    "# We need to remove gross, votes, profit, and percent profit (these columns give an unfair look at the potential \n",
    "# imdb rating) and all non numeric data \n",
    "\n",
    "#We are creating a test_train_movies_score_exp df that includes the exponential moving averages. We are interested to \n",
    "#see if the cumulative or exponential moving averages will help our algorithm the most. \n",
    "\n",
    "#Using the exponential moving average to try to predict score first \n",
    "columns = list(test_train_movies_score.columns)\n",
    "columns = ['budget', 'runtime', 'score', 'month', 'day', 'exp_mean_writer', 'exp_mean_director',\n",
    " 'exp_mean_star',  'exp_mean_company', 'exp_mean_avg']\n",
    "test_train_movies_score_exp = test_train_movies_score[columns].copy()"
   ]
  },
  {
   "cell_type": "code",
   "execution_count": 110,
   "metadata": {},
   "outputs": [],
   "source": [
    "#Creating a test_train_movies_score_cumulative df \n",
    "\n",
    "#We need to remove gross, votes, profit, and percent profit (these columns give an unfair look at the potential imdb rating) and all non numeric data \n",
    "#Getting a list of column names, so we can copy and paste it to select the columns we want. \n",
    "columns = list(test_train_movies_score.columns)\n",
    "columns = ['budget', 'runtime', 'score', \"month\", 'day', 'cumulative_mean_writer', 'cumulative_mean_director',\n",
    " 'cumulative_mean_star',  'cumulative_mean_company', 'cumulative_mean_avg']\n",
    "test_train_movies_score_cumulative = test_train_movies_score[columns].copy()"
   ]
  },
  {
   "cell_type": "code",
   "execution_count": 111,
   "metadata": {},
   "outputs": [],
   "source": [
    "#Creating a df that contains both the cumulative and exponential moving averages \n",
    "columns = ['budget',  'runtime', 'score', \"month\", 'day', 'cumulative_mean_writer', 'cumulative_mean_director',\n",
    " 'cumulative_mean_star',  'cumulative_mean_company', 'cumulative_mean_avg', 'exp_mean_writer', 'exp_mean_director',\n",
    " 'exp_mean_star',  'exp_mean_company', 'exp_mean_avg']\n",
    "test_train_movies_score_cumulative_exp = test_train_movies_score[columns].copy()"
   ]
  },
  {
   "cell_type": "code",
   "execution_count": 112,
   "metadata": {},
   "outputs": [],
   "source": [
    "# #removing the label from the test_train_movies_score_exp df and saving it in a label df\n",
    "test_train_movies_score_exp_label = test_train_movies_score_exp[\"score\"]\n",
    "test_train_movies_score_exp.drop(\"score\", axis = 1, inplace = True)\n",
    "#repeating the process for cumulative \n",
    "test_train_movies_score_cumulative_label = test_train_movies_score_cumulative[\"score\"]\n",
    "test_train_movies_score_cumulative.drop(\"score\", axis = 1, inplace = True)\n",
    "# #repeating the process for the cumulative and exp combined dfs\n",
    "test_train_movies_score_cumulative_exp_label = test_train_movies_score_cumulative_exp[\"score\"]\n",
    "test_train_movies_score_cumulative_exp.drop(\"score\", axis = 1, inplace = True)"
   ]
  },
  {
   "cell_type": "code",
   "execution_count": 113,
   "metadata": {},
   "outputs": [],
   "source": [
    "#Creating 4 dfs: 1: the training df with label removed, 2: the testing df with label removed, 3: the training label, 4: testing label\n",
    "#For each test_train df\n",
    "from sklearn.model_selection import train_test_split \n",
    "score_exp_train, score_exp_test, score_exp_train_label, score_exp_test_label = train_test_split(test_train_movies_score_exp, test_train_movies_score_exp_label, test_size = .3, random_state = 123)\n",
    "score_cumulative_train, score_cumulative_test, score_cumulative_train_label, score_cumulative_test_label = train_test_split(test_train_movies_score_cumulative, test_train_movies_score_cumulative_label, test_size = .3, random_state = 123)\n",
    "score_cumulative_exp_train, score_cumulative_exp_test, score_cumulative_exp_train_label, score_cumulative_exp_test_label = train_test_split(test_train_movies_score_cumulative_exp, test_train_movies_score_cumulative_exp_label, test_size = .3, random_state = 123)"
   ]
  },
  {
   "cell_type": "code",
   "execution_count": 114,
   "metadata": {},
   "outputs": [
    {
     "data": {
      "text/plain": [
       "Counter({'not_high': 72, 'high': 74})"
      ]
     },
     "execution_count": 114,
     "metadata": {},
     "output_type": "execute_result"
    }
   ],
   "source": [
    "#Getting a count of high scores in our test label and not_high scores in out test label\n",
    "#We would prefer to have an equal or almost equal number of movies classified as high and not high in our test set \n",
    "\n",
    "Counter(score_exp_test_label)"
   ]
  },
  {
   "cell_type": "code",
   "execution_count": 115,
   "metadata": {},
   "outputs": [],
   "source": [
    "#Using the standard scale to help preprocess and normalize the data \n",
    "# performing preprocessing part \n",
    "sc = StandardScaler()\n",
    "score_exp_train = sc.fit_transform(score_exp_train)\n",
    "score_exp_test = sc.transform(score_exp_test)\n",
    "score_cumulative_train = sc.fit_transform(score_cumulative_train)\n",
    "score_cumulative_test = sc.transform(score_cumulative_test)\n",
    "score_cumulative_exp_train = sc.fit_transform(score_cumulative_exp_train)\n",
    "score_cumulative_exp_test = sc.transform(score_cumulative_exp_test)"
   ]
  },
  {
   "cell_type": "code",
   "execution_count": 116,
   "metadata": {},
   "outputs": [],
   "source": [
    "#Attempt 1: all variables\n",
    "clf = GaussianNB()\n",
    "clf.fit(score_exp_train, score_exp_train_label)\n",
    "test_predicted_exp_nb = clf.predict(score_exp_test)\n",
    "\n",
    "clf.fit(score_cumulative_train, score_cumulative_train_label)\n",
    "test_predicted_cumulative_nb = clf.predict(score_cumulative_test)\n",
    "\n",
    "clf.fit(score_cumulative_exp_train, score_cumulative_exp_train_label)\n",
    "test_predicted_cumulative_exp_nb = clf.predict(score_cumulative_exp_test)"
   ]
  },
  {
   "cell_type": "code",
   "execution_count": 117,
   "metadata": {},
   "outputs": [
    {
     "data": {
      "text/plain": [
       "Text(0.5, 1, 'Exp Accuracy Score: 0.7123')"
      ]
     },
     "execution_count": 117,
     "metadata": {},
     "output_type": "execute_result"
    },
    {
     "data": {
      "image/png": "[encoded data removed]",
      "text/plain": [
       "<Figure size 144x144 with 1 Axes>"
      ]
     },
     "metadata": {
      "needs_background": "light"
     },
     "output_type": "display_data"
    }
   ],
   "source": [
    "#Accuracy for exp \n",
    "exp_accuracy_nb = accuracy_score(score_exp_test_label, test_predicted_exp_nb, normalize = True)\n",
    "cm = confusion_matrix(score_exp_test_label, test_predicted_exp_nb)\n",
    "confusion_matrix_graph(cm, exp_accuracy_nb, \"Exp\")"
   ]
  },
  {
   "cell_type": "code",
   "execution_count": 118,
   "metadata": {},
   "outputs": [
    {
     "name": "stdout",
     "output_type": "stream",
     "text": [
      "              precision    recall  f1-score   support\n",
      "\n",
      "        high       0.72      0.70      0.71        74\n",
      "    not_high       0.70      0.72      0.71        72\n",
      "\n",
      "    accuracy                           0.71       146\n",
      "   macro avg       0.71      0.71      0.71       146\n",
      "weighted avg       0.71      0.71      0.71       146\n",
      "\n"
     ]
    }
   ],
   "source": [
    "print(classification_report(score_exp_test_label, test_predicted_exp_nb))"
   ]
  },
  {
   "cell_type": "code",
   "execution_count": 119,
   "metadata": {},
   "outputs": [
    {
     "data": {
      "text/plain": [
       "Text(0.5, 1, 'Cumulative Accuracy Score: 0.7466')"
      ]
     },
     "execution_count": 119,
     "metadata": {},
     "output_type": "execute_result"
    },
    {
     "data": {
      "image/png": "[encoded data removed]",
      "text/plain": [
       "<Figure size 144x144 with 1 Axes>"
      ]
     },
     "metadata": {
      "needs_background": "light"
     },
     "output_type": "display_data"
    }
   ],
   "source": [
    "#Accuracy for cumulative \n",
    "cum_accuracy_nb = accuracy_score(score_cumulative_test_label, test_predicted_cumulative_nb, normalize = True)\n",
    "cm = confusion_matrix(score_cumulative_test_label, test_predicted_cumulative_nb)\n",
    "confusion_matrix_graph(cm, cum_accuracy_nb, \"Cumulative\")"
   ]
  },
  {
   "cell_type": "code",
   "execution_count": 120,
   "metadata": {},
   "outputs": [
    {
     "name": "stdout",
     "output_type": "stream",
     "text": [
      "              precision    recall  f1-score   support\n",
      "\n",
      "        high       0.74      0.77      0.75        74\n",
      "    not_high       0.75      0.72      0.74        72\n",
      "\n",
      "    accuracy                           0.75       146\n",
      "   macro avg       0.75      0.75      0.75       146\n",
      "weighted avg       0.75      0.75      0.75       146\n",
      "\n"
     ]
    }
   ],
   "source": [
    "print(classification_report(score_cumulative_test_label, test_predicted_cumulative_nb))"
   ]
  },
  {
   "cell_type": "code",
   "execution_count": 121,
   "metadata": {},
   "outputs": [
    {
     "data": {
      "text/plain": [
       "Text(0.5, 1, 'Cumulative & Exp Accuracy Score: 0.7123')"
      ]
     },
     "execution_count": 121,
     "metadata": {},
     "output_type": "execute_result"
    },
    {
     "data": {
      "image/png": "[encoded data removed]",
      "text/plain": [
       "<Figure size 144x144 with 1 Axes>"
      ]
     },
     "metadata": {
      "needs_background": "light"
     },
     "output_type": "display_data"
    }
   ],
   "source": [
    "#Accuracy for cumulative and exp\n",
    "cum_exp_accuracy_nb = accuracy_score(score_cumulative_exp_test_label, test_predicted_cumulative_exp_nb, \n",
    "                                     normalize = True)\n",
    "cm = confusion_matrix(score_cumulative_exp_test_label, test_predicted_cumulative_exp_nb)\n",
    "confusion_matrix_graph(cm, cum_exp_accuracy_nb, \"Cumulative & Exp\")"
   ]
  },
  {
   "cell_type": "code",
   "execution_count": 122,
   "metadata": {},
   "outputs": [
    {
     "name": "stdout",
     "output_type": "stream",
     "text": [
      "              precision    recall  f1-score   support\n",
      "\n",
      "        high       0.71      0.74      0.72        74\n",
      "    not_high       0.72      0.68      0.70        72\n",
      "\n",
      "    accuracy                           0.71       146\n",
      "   macro avg       0.71      0.71      0.71       146\n",
      "weighted avg       0.71      0.71      0.71       146\n",
      "\n"
     ]
    }
   ],
   "source": [
    "print(classification_report(score_cumulative_exp_test_label, test_predicted_cumulative_exp_nb))"
   ]
  },
  {
   "cell_type": "code",
   "execution_count": 123,
   "metadata": {},
   "outputs": [],
   "source": [
    "#The Naive Bayes with the cumulative mean, proved better than the other options... While, it did correctly classify \n",
    "# less high scores than the other two models. It had a much better accuracy classifying low scores as well as high \n",
    "#scores. It correctly classifying 57 out of 74 high scores and 52 out of 72 not high scores... The other models \n",
    "#suffered when classifying not high scores... "
   ]
  },
  {
   "cell_type": "code",
   "execution_count": 124,
   "metadata": {},
   "outputs": [],
   "source": [
    "###########################################################################################\n",
    "# PCA and Logistic Regression \n",
    "###########################################################################################\n",
    "#Running PCA (Principal Component Analysis) to see which variables are the most beneficial for our prediction \n",
    "# pca = PCA(n_components = 2)\n",
    "# score_exp_train_pca = pca.fit_transform(score_exp_train)\n",
    "# score_exp_test_pca = pca.transform(score_exp_test)"
   ]
  },
  {
   "cell_type": "code",
   "execution_count": 125,
   "metadata": {},
   "outputs": [],
   "source": [
    "# explained_variance = pca.explained_variance_ratio_\n",
    "# explained_variance"
   ]
  },
  {
   "cell_type": "code",
   "execution_count": 126,
   "metadata": {},
   "outputs": [
    {
     "data": {
      "text/plain": [
       "Text(0.5, 1, 'LG Exp Accuracy Score: 0.726')"
      ]
     },
     "execution_count": 126,
     "metadata": {},
     "output_type": "execute_result"
    },
    {
     "data": {
      "image/png": "[encoded data removed]",
      "text/plain": [
       "<Figure size 144x144 with 1 Axes>"
      ]
     },
     "metadata": {
      "needs_background": "light"
     },
     "output_type": "display_data"
    }
   ],
   "source": [
    "#Fitting Logistic Regression \n",
    "classifier = LogisticRegression(random_state = 723)\n",
    "\n",
    "classifier.fit(score_exp_train, score_exp_train_label)\n",
    "\n",
    "#Predicting the test labels \n",
    "test_predicted_exp_lg = classifier.predict(score_exp_test)\n",
    "\n",
    "#getting the accuracy \n",
    "exp_accuracy_lg = accuracy_score(score_exp_test_label, test_predicted_exp_lg, normalize = True)\n",
    "cm = confusion_matrix(score_exp_test_label, test_predicted_exp_lg)\n",
    "confusion_matrix_graph(cm, exp_accuracy_lg, \"LG Exp\")"
   ]
  },
  {
   "cell_type": "code",
   "execution_count": 127,
   "metadata": {},
   "outputs": [
    {
     "name": "stdout",
     "output_type": "stream",
     "text": [
      "              precision    recall  f1-score   support\n",
      "\n",
      "        high       0.72      0.76      0.74        74\n",
      "    not_high       0.74      0.69      0.71        72\n",
      "\n",
      "    accuracy                           0.73       146\n",
      "   macro avg       0.73      0.73      0.73       146\n",
      "weighted avg       0.73      0.73      0.73       146\n",
      "\n"
     ]
    }
   ],
   "source": [
    "print(classification_report(score_exp_test_label, test_predicted_exp_lg))"
   ]
  },
  {
   "cell_type": "code",
   "execution_count": 128,
   "metadata": {},
   "outputs": [
    {
     "data": {
      "text/plain": [
       "Text(0.5, 1, 'LG Cumulative Accuracy Score: 0.726')"
      ]
     },
     "execution_count": 128,
     "metadata": {},
     "output_type": "execute_result"
    },
    {
     "data": {
      "image/png": "[encoded data removed]",
      "text/plain": [
       "<Figure size 144x144 with 1 Axes>"
      ]
     },
     "metadata": {
      "needs_background": "light"
     },
     "output_type": "display_data"
    }
   ],
   "source": [
    "#For the cumulative avg \n",
    "classifier.fit(score_cumulative_train, score_cumulative_train_label)\n",
    "\n",
    "#Predicting the test labels \n",
    "test_predicted_cumulative_lg = classifier.predict(score_cumulative_test)\n",
    "\n",
    "#getting the accuracy \n",
    "cum_accuracy_lg =accuracy_score(score_cumulative_test_label, test_predicted_cumulative_lg, normalize = True)\n",
    "\n",
    "#Looking at the confusion matrix \n",
    "cm = confusion_matrix(score_cumulative_test_label, test_predicted_cumulative_lg)\n",
    "confusion_matrix_graph(cm, cum_accuracy_lg, \"LG Cumulative\")"
   ]
  },
  {
   "cell_type": "code",
   "execution_count": 129,
   "metadata": {},
   "outputs": [
    {
     "name": "stdout",
     "output_type": "stream",
     "text": [
      "              precision    recall  f1-score   support\n",
      "\n",
      "        high       0.71      0.77      0.74        74\n",
      "    not_high       0.74      0.68      0.71        72\n",
      "\n",
      "    accuracy                           0.73       146\n",
      "   macro avg       0.73      0.73      0.73       146\n",
      "weighted avg       0.73      0.73      0.73       146\n",
      "\n"
     ]
    }
   ],
   "source": [
    "print(classification_report(score_cumulative_test_label, test_predicted_cumulative_lg))"
   ]
  },
  {
   "cell_type": "code",
   "execution_count": 130,
   "metadata": {},
   "outputs": [
    {
     "data": {
      "text/plain": [
       "Text(0.5, 1, 'LG Cumulative & Exp Accuracy Score: 0.7192')"
      ]
     },
     "execution_count": 130,
     "metadata": {},
     "output_type": "execute_result"
    },
    {
     "data": {
      "image/png": "[encoded data removed]",
      "text/plain": [
       "<Figure size 144x144 with 1 Axes>"
      ]
     },
     "metadata": {
      "needs_background": "light"
     },
     "output_type": "display_data"
    }
   ],
   "source": [
    "#For the cumulative avg \n",
    "classifier.fit(score_cumulative_exp_train, score_cumulative_exp_train_label)\n",
    "\n",
    "#Predicting the test labels \n",
    "test_predicted_cumulative_exp_lg = classifier.predict(score_cumulative_exp_test)\n",
    "\n",
    "#getting the accuracy \n",
    "cum_exp_accuracy_lg = accuracy_score(score_cumulative_exp_test_label, test_predicted_cumulative_exp_lg, normalize = True)\n",
    "cm = confusion_matrix(score_cumulative_exp_test_label, test_predicted_cumulative_exp_lg)\n",
    "confusion_matrix_graph(cm, cum_exp_accuracy_lg, \"LG Cumulative & Exp\")"
   ]
  },
  {
   "cell_type": "code",
   "execution_count": 131,
   "metadata": {},
   "outputs": [
    {
     "name": "stdout",
     "output_type": "stream",
     "text": [
      "              precision    recall  f1-score   support\n",
      "\n",
      "        high       0.71      0.76      0.73        74\n",
      "    not_high       0.73      0.68      0.71        72\n",
      "\n",
      "    accuracy                           0.72       146\n",
      "   macro avg       0.72      0.72      0.72       146\n",
      "weighted avg       0.72      0.72      0.72       146\n",
      "\n"
     ]
    }
   ],
   "source": [
    "print(classification_report(score_cumulative_exp_test_label,test_predicted_cumulative_exp_lg))"
   ]
  },
  {
   "cell_type": "code",
   "execution_count": 132,
   "metadata": {},
   "outputs": [],
   "source": [
    "#Out of the 3 different testing and training dfs the df with the exponential moving averages proved best for our \n",
    "# logistic regression models. We had an overall accuracy of 72.6% and accurately classified high scores 74.4% and \n",
    "# not_high scores 64.1% of the time... "
   ]
  },
  {
   "cell_type": "code",
   "execution_count": 133,
   "metadata": {},
   "outputs": [],
   "source": [
    "###########################################################################################\n",
    "# SVMS\n",
    "###########################################################################################\n"
   ]
  },
  {
   "cell_type": "code",
   "execution_count": 134,
   "metadata": {},
   "outputs": [
    {
     "data": {
      "text/plain": [
       "Text(0.5, 1, 'SVM Cumulative Accuracy Score: 0.7466')"
      ]
     },
     "execution_count": 134,
     "metadata": {},
     "output_type": "execute_result"
    },
    {
     "data": {
      "image/png": "[encoded data removed]",
      "text/plain": [
       "<Figure size 144x144 with 1 Axes>"
      ]
     },
     "metadata": {
      "needs_background": "light"
     },
     "output_type": "display_data"
    }
   ],
   "source": [
    "#Cumulative SVM - Fitting the classifier \n",
    "svclassifier = SVC(kernel='sigmoid')\n",
    "svclassifier.fit(score_cumulative_train, score_cumulative_train_label)\n",
    "#Making the predictions \n",
    "test_predicted_cum_svm = svclassifier.predict(score_cumulative_test)\n",
    "#Creating my confusion matrix \n",
    "cum_accuracy_svm = accuracy_score(score_cumulative_test_label, test_predicted_cum_svm, normalize = True)\n",
    "cm = confusion_matrix(score_cumulative_test_label, test_predicted_cum_svm)\n",
    "confusion_matrix_graph(cm, cum_accuracy_svm, \"SVM Cumulative\")"
   ]
  },
  {
   "cell_type": "code",
   "execution_count": 135,
   "metadata": {},
   "outputs": [
    {
     "name": "stdout",
     "output_type": "stream",
     "text": [
      "              precision    recall  f1-score   support\n",
      "\n",
      "        high       0.73      0.80      0.76        74\n",
      "    not_high       0.77      0.69      0.73        72\n",
      "\n",
      "    accuracy                           0.75       146\n",
      "   macro avg       0.75      0.75      0.75       146\n",
      "weighted avg       0.75      0.75      0.75       146\n",
      "\n"
     ]
    }
   ],
   "source": [
    "print(classification_report(score_cumulative_test_label, test_predicted_cum_svm))"
   ]
  },
  {
   "cell_type": "code",
   "execution_count": 136,
   "metadata": {},
   "outputs": [
    {
     "data": {
      "text/plain": [
       "Text(0.5, 1, 'SVM Exp Accuracy Score: 0.726')"
      ]
     },
     "execution_count": 136,
     "metadata": {},
     "output_type": "execute_result"
    },
    {
     "data": {
      "image/png": "[encoded data removed]",
      "text/plain": [
       "<Figure size 144x144 with 1 Axes>"
      ]
     },
     "metadata": {
      "needs_background": "light"
     },
     "output_type": "display_data"
    }
   ],
   "source": [
    "#Exp SVM - Fitting the classifier \n",
    "svclassifier = SVC(kernel='linear')\n",
    "svclassifier.fit(score_exp_train, score_exp_train_label)\n",
    "#Making the predictions \n",
    "test_predicted_exp_svm = svclassifier.predict(score_exp_test)\n",
    "#Creating my confusion matrix \n",
    "exp_accuracy_svm = accuracy_score(score_exp_test_label, test_predicted_exp_svm, normalize = True)\n",
    "cm = confusion_matrix(score_exp_test_label, test_predicted_exp_svm)\n",
    "confusion_matrix_graph(cm, exp_accuracy_svm, \"SVM Exp\")"
   ]
  },
  {
   "cell_type": "code",
   "execution_count": 137,
   "metadata": {},
   "outputs": [
    {
     "name": "stdout",
     "output_type": "stream",
     "text": [
      "              precision    recall  f1-score   support\n",
      "\n",
      "        high       0.73      0.73      0.73        74\n",
      "    not_high       0.72      0.72      0.72        72\n",
      "\n",
      "    accuracy                           0.73       146\n",
      "   macro avg       0.73      0.73      0.73       146\n",
      "weighted avg       0.73      0.73      0.73       146\n",
      "\n"
     ]
    }
   ],
   "source": [
    "print(classification_report(score_exp_test_label, test_predicted_exp_svm))"
   ]
  },
  {
   "cell_type": "code",
   "execution_count": 138,
   "metadata": {},
   "outputs": [
    {
     "data": {
      "text/plain": [
       "Text(0.5, 1, 'SVM Exp & Cumulative Accuracy Score: 0.7192')"
      ]
     },
     "execution_count": 138,
     "metadata": {},
     "output_type": "execute_result"
    },
    {
     "data": {
      "image/png": "[encoded data removed]",
      "text/plain": [
       "<Figure size 144x144 with 1 Axes>"
      ]
     },
     "metadata": {
      "needs_background": "light"
     },
     "output_type": "display_data"
    }
   ],
   "source": [
    "#Exp & Cum SVM - Fitting the classifier \n",
    "svclassifier = SVC(kernel='sigmoid')\n",
    "svclassifier.fit(score_cumulative_exp_train, score_cumulative_exp_train_label)\n",
    "#Making the predictions \n",
    "test_predicted_cum_exp_svm = svclassifier.predict(score_cumulative_exp_test)\n",
    "#Creating my confusion matrix \n",
    "cum_exp_accuracy_svm = accuracy_score(score_cumulative_exp_test_label, test_predicted_cum_exp_svm, \n",
    "                                      normalize = True)\n",
    "cm = confusion_matrix(score_cumulative_exp_test_label, test_predicted_cum_exp_svm)\n",
    "confusion_matrix_graph(cm, cum_exp_accuracy_svm, \"SVM Exp & Cumulative\")"
   ]
  },
  {
   "cell_type": "code",
   "execution_count": 139,
   "metadata": {},
   "outputs": [
    {
     "name": "stdout",
     "output_type": "stream",
     "text": [
      "              precision    recall  f1-score   support\n",
      "\n",
      "        high       0.71      0.76      0.73        74\n",
      "    not_high       0.73      0.68      0.71        72\n",
      "\n",
      "    accuracy                           0.72       146\n",
      "   macro avg       0.72      0.72      0.72       146\n",
      "weighted avg       0.72      0.72      0.72       146\n",
      "\n"
     ]
    }
   ],
   "source": [
    "print(classification_report(score_cumulative_exp_test_label, test_predicted_cum_exp_svm))"
   ]
  },
  {
   "cell_type": "code",
   "execution_count": 140,
   "metadata": {},
   "outputs": [],
   "source": [
    "################################################################################################\n",
    "#\n",
    "# Now looking to see if we can predict percent profit\n",
    "#\n",
    "################################################################################################\n",
    "\n",
    "#We will be using the same columns, but instead of having score, we will have percent_profit. "
   ]
  },
  {
   "cell_type": "code",
   "execution_count": 141,
   "metadata": {},
   "outputs": [],
   "source": [
    "#We are interested in if a movie will make a profit or not. Therefore, we are only discretizing into 2 categories: \n",
    "#negative and postive. \n",
    "test_train_movies_pp = test_train_movies_score.copy()\n",
    "categories = [\"negative\", \"positive\"]\n",
    "# Negative anything less than 0 \n",
    "#positive anything greater than 0 \n",
    "test_train_movies_pp[\"percent_profit\"] = pd.cut(test_train_movies_pp[\"percent_profit\"], [-101, 0, 999999], labels = categories)"
   ]
  },
  {
   "cell_type": "code",
   "execution_count": 142,
   "metadata": {},
   "outputs": [
    {
     "data": {
      "text/plain": [
       "percent_profit\n",
       "negative    198\n",
       "positive    286\n",
       "Name: percent_profit, dtype: int64"
      ]
     },
     "execution_count": 142,
     "metadata": {},
     "output_type": "execute_result"
    }
   ],
   "source": [
    "#Getting the count of each category in our df\n",
    "test_train_movies_pp_count = test_train_movies_pp.groupby(\"percent_profit\")[\"percent_profit\"].count()\n",
    "test_train_movies_pp_count"
   ]
  },
  {
   "cell_type": "code",
   "execution_count": 143,
   "metadata": {},
   "outputs": [
    {
     "name": "stdout",
     "output_type": "stream",
     "text": [
      "286\n",
      "198\n"
     ]
    }
   ],
   "source": [
    "# We are going to create a testing and training df that contains 198 negative, 198 positive percent_profits  \n",
    "#First we are going to subset the positive percent profits and the negative per+cent_profits \n",
    "positive = test_train_movies_pp[test_train_movies_pp[\"percent_profit\"] == \"positive\"]\n",
    "test_train_movies_pp = test_train_movies_pp[test_train_movies_pp[\"percent_profit\"] == \"negative\"]\n",
    "#Getting the length to make sure that we have 198 negative, 286 postive in our df \n",
    "print(len(positive))\n",
    "print(len(test_train_movies_pp))"
   ]
  },
  {
   "cell_type": "code",
   "execution_count": 144,
   "metadata": {},
   "outputs": [
    {
     "name": "stdout",
     "output_type": "stream",
     "text": [
      "198\n"
     ]
    }
   ],
   "source": [
    "#Now getting a random sample of 198 entries in the positive df and setting the seed to 123\n",
    "#to reproduce the results \n",
    "positive = positive.sample(n = 198, random_state = 123)\n",
    "#Getting the length to make sure that it worked \n",
    "print(len(positive))"
   ]
  },
  {
   "cell_type": "code",
   "execution_count": 145,
   "metadata": {},
   "outputs": [
    {
     "data": {
      "text/plain": [
       "396"
      ]
     },
     "execution_count": 145,
     "metadata": {},
     "output_type": "execute_result"
    }
   ],
   "source": [
    "#Adding the positive movies back to the test_train_movies_pp df \n",
    "test_train_movies_pp = pd.concat([test_train_movies_pp, positive])\n",
    "#Getting the length to make sure that the 2 df were combined correctly and if it did we would have 396 movies in our df\n",
    "len(test_train_movies_pp)"
   ]
  },
  {
   "cell_type": "code",
   "execution_count": 146,
   "metadata": {},
   "outputs": [],
   "source": [
    "#Changing the data type of month day and year to numeric\n",
    "columns = [\"month\", \"day\"]\n",
    "test_train_movies_pp[columns] = test_train_movies_pp[columns].apply(pd.to_numeric)"
   ]
  },
  {
   "cell_type": "code",
   "execution_count": 147,
   "metadata": {},
   "outputs": [],
   "source": [
    "'''We need to remove gross, votes, profit, and score (these columns give an unfair look at the potential \n",
    "imdb rating) and all non numeric data \n",
    "'''\n",
    "#Using the exponential moving average to try to predict score first \n",
    "columns = list(test_train_movies_pp.columns)\n",
    "columns = ['budget', 'runtime', 'percent_profit', 'month', 'day', 'exp_mean_writer', 'exp_mean_director',\n",
    " 'exp_mean_star',  'exp_mean_company', 'exp_mean_avg']\n",
    "test_train_movies_pp_exp = test_train_movies_pp[columns].copy()"
   ]
  },
  {
   "cell_type": "code",
   "execution_count": 148,
   "metadata": {},
   "outputs": [],
   "source": [
    "#We need to remove gross, votes, profit, and percent profit (these columns give an unfair look at the potential imdb rating) and all non numeric data \n",
    "#Getting a list of column names, so we can copy and paste it to select the columns we want. \n",
    "columns = list(test_train_movies_pp.columns)\n",
    "columns = ['budget', 'runtime', 'percent_profit', \"month\", 'day', 'cumulative_mean_writer', 'cumulative_mean_director',\n",
    " 'cumulative_mean_star',  'cumulative_mean_company', 'cumulative_mean_avg']\n",
    "test_train_movies_pp_cumulative = test_train_movies_pp[columns].copy()"
   ]
  },
  {
   "cell_type": "code",
   "execution_count": 149,
   "metadata": {},
   "outputs": [],
   "source": [
    " columns = ['percent_profit', \"month\", 'day', 'cumulative_mean_writer', 'cumulative_mean_director',\n",
    " 'cumulative_mean_star',  'cumulative_mean_company', 'cumulative_mean_avg', 'exp_mean_writer', 'exp_mean_director',\n",
    " 'exp_mean_star',  'exp_mean_company', 'exp_mean_avg']\n",
    "test_train_movies_pp_cumulative_exp = test_train_movies_pp[columns].copy()"
   ]
  },
  {
   "cell_type": "code",
   "execution_count": 150,
   "metadata": {},
   "outputs": [],
   "source": [
    "# #removing the label from the test_train_movies_spp df and saving it in a label df\n",
    "test_train_movies_pp_exp_label = test_train_movies_pp_exp[\"percent_profit\"]\n",
    "test_train_movies_pp_exp.drop(\"percent_profit\", axis = 1, inplace = True)\n",
    "#repeating the process for cumulative \n",
    "test_train_movies_pp_cumulative_label = test_train_movies_pp_cumulative[\"percent_profit\"]\n",
    "test_train_movies_pp_cumulative.drop(\"percent_profit\", axis = 1, inplace = True)\n",
    "# #repeating the process for the cumulative and exp combined dfs\n",
    "test_train_movies_pp_cumulative_exp_label = test_train_movies_pp_cumulative_exp[\"percent_profit\"]\n",
    "test_train_movies_pp_cumulative_exp.drop(\"percent_profit\", axis = 1, inplace = True)"
   ]
  },
  {
   "cell_type": "code",
   "execution_count": 151,
   "metadata": {},
   "outputs": [],
   "source": [
    "#Creating 4 df: 1: the training df with label removed, 2: the testing df with label removed, 3: the training label, 4: testing label\n",
    "from sklearn.model_selection import train_test_split \n",
    "pp_exp_train, pp_exp_test, pp_exp_train_label, pp_exp_test_label = train_test_split(test_train_movies_pp_exp, test_train_movies_pp_exp_label, test_size = .3, random_state = 123)\n",
    "pp_cumulative_train, pp_cumulative_test, pp_cumulative_train_label, pp_cumulative_test_label = train_test_split(test_train_movies_pp_cumulative, test_train_movies_pp_cumulative_label, test_size = .3, random_state = 123)\n",
    "pp_cumulative_exp_train, pp_cumulative_exp_test, pp_cumulative_exp_train_label, pp_cumulative_exp_test_label = train_test_split(test_train_movies_pp_cumulative_exp, test_train_movies_pp_cumulative_exp_label, test_size = .3, random_state = 123)"
   ]
  },
  {
   "cell_type": "code",
   "execution_count": 152,
   "metadata": {},
   "outputs": [
    {
     "data": {
      "text/plain": [
       "Counter({'negative': 61, 'positive': 58})"
      ]
     },
     "execution_count": 152,
     "metadata": {},
     "output_type": "execute_result"
    }
   ],
   "source": [
    "#Getting a count of percent_profit in our test label  scores in out test label\n",
    "#We want to have roughly the same number of positive and negative movies in our test df\n",
    "Counter(pp_exp_test_label)"
   ]
  },
  {
   "cell_type": "code",
   "execution_count": 153,
   "metadata": {},
   "outputs": [],
   "source": [
    "#Using the standard scale to help preprocess and normalize the data \n",
    "# performing preprocessing part \n",
    "sc = StandardScaler()\n",
    "pp_exp_train = sc.fit_transform(pp_exp_train)\n",
    "pp_exp_test = sc.transform(pp_exp_test)\n",
    "pp_cumulative_train = sc.fit_transform(pp_cumulative_train)\n",
    "pp_cumulative_test = sc.transform(pp_cumulative_test)\n",
    "pp_cumulative_exp_train = sc.fit_transform(pp_cumulative_exp_train)\n",
    "pp_cumulative_exp_test = sc.transform(pp_cumulative_exp_test)"
   ]
  },
  {
   "cell_type": "code",
   "execution_count": 154,
   "metadata": {},
   "outputs": [],
   "source": [
    "#Attempt 1: all variables\n",
    "clf = GaussianNB()\n",
    "clf.fit(pp_exp_train, pp_exp_train_label)\n",
    "test_predicted_exp_svm = clf.predict(pp_exp_test)\n",
    "\n",
    "clf.fit(pp_cumulative_train, pp_cumulative_train_label)\n",
    "test_predicted_cumulative_svm = clf.predict(pp_cumulative_test)\n",
    "\n",
    "clf.fit(pp_cumulative_exp_train, pp_cumulative_exp_train_label)\n",
    "test_predicted_cumulative_exp_svm = clf.predict(pp_cumulative_exp_test)"
   ]
  },
  {
   "cell_type": "code",
   "execution_count": 155,
   "metadata": {},
   "outputs": [
    {
     "data": {
      "text/plain": [
       "Text(0.5, 1, 'SVM Exp Accuracy Score: 0.5294')"
      ]
     },
     "execution_count": 155,
     "metadata": {},
     "output_type": "execute_result"
    },
    {
     "data": {
      "image/png": "[encoded data removed]",
      "text/plain": [
       "<Figure size 144x144 with 1 Axes>"
      ]
     },
     "metadata": {
      "needs_background": "light"
     },
     "output_type": "display_data"
    }
   ],
   "source": [
    "#Accuracy for exp \n",
    "exp_accuracy_svm = accuracy_score(pp_exp_test_label, test_predicted_exp_svm, normalize = True)\n",
    "cm = confusion_matrix(pp_exp_test_label, test_predicted_exp_svm)\n",
    "confusion_matrix_graph(cm, exp_accuracy_svm, \"SVM Exp\")"
   ]
  },
  {
   "cell_type": "code",
   "execution_count": 156,
   "metadata": {},
   "outputs": [
    {
     "name": "stdout",
     "output_type": "stream",
     "text": [
      "              precision    recall  f1-score   support\n",
      "\n",
      "    negative       0.54      0.56      0.55        61\n",
      "    positive       0.52      0.50      0.51        58\n",
      "\n",
      "    accuracy                           0.53       119\n",
      "   macro avg       0.53      0.53      0.53       119\n",
      "weighted avg       0.53      0.53      0.53       119\n",
      "\n"
     ]
    }
   ],
   "source": [
    "print(classification_report(pp_exp_test_label, test_predicted_exp_svm))"
   ]
  },
  {
   "cell_type": "code",
   "execution_count": 157,
   "metadata": {},
   "outputs": [
    {
     "data": {
      "text/plain": [
       "Text(0.5, 1, 'SVM Cumulative Accuracy Score: 0.521')"
      ]
     },
     "execution_count": 157,
     "metadata": {},
     "output_type": "execute_result"
    },
    {
     "data": {
      "image/png": "[encoded data removed]",
      "text/plain": [
       "<Figure size 144x144 with 1 Axes>"
      ]
     },
     "metadata": {
      "needs_background": "light"
     },
     "output_type": "display_data"
    }
   ],
   "source": [
    "#Accuracy for cumulative\n",
    "cum_accuracy_svm = accuracy_score(pp_cumulative_test_label, test_predicted_cumulative_svm, normalize = True)\n",
    "cm = confusion_matrix(pp_cumulative_test_label, test_predicted_cumulative_svm)\n",
    "confusion_matrix_graph(cm, cum_accuracy_svm, \"SVM Cumulative\")"
   ]
  },
  {
   "cell_type": "code",
   "execution_count": 158,
   "metadata": {},
   "outputs": [
    {
     "data": {
      "text/plain": [
       "Text(0.5, 1, 'SVM Exp & Cumulative Accuracy Score: 0.4874')"
      ]
     },
     "execution_count": 158,
     "metadata": {},
     "output_type": "execute_result"
    },
    {
     "data": {
      "image/png": "[encoded data removed]",
      "text/plain": [
       "<Figure size 144x144 with 1 Axes>"
      ]
     },
     "metadata": {
      "needs_background": "light"
     },
     "output_type": "display_data"
    }
   ],
   "source": [
    "#Accuracy for cumulative and exp \n",
    "exp_cum_accuracy_svm = accuracy_score(pp_cumulative_exp_test_label, test_predicted_cumulative_exp_svm, normalize = True)\n",
    "cm = confusion_matrix(pp_cumulative_exp_test_label, test_predicted_cumulative_exp_svm)\n",
    "confusion_matrix_graph(cm, exp_cum_accuracy_svm, \"SVM Exp & Cumulative\")"
   ]
  },
  {
   "cell_type": "code",
   "execution_count": 159,
   "metadata": {},
   "outputs": [],
   "source": [
    "###########################################################################################\n",
    "# PCA and Logistic Regression \n",
    "###########################################################################################"
   ]
  },
  {
   "cell_type": "code",
   "execution_count": 160,
   "metadata": {},
   "outputs": [
    {
     "data": {
      "text/plain": [
       "Text(0.5, 1, 'LG Exp Accuracy Score: 0.5126')"
      ]
     },
     "execution_count": 160,
     "metadata": {},
     "output_type": "execute_result"
    },
    {
     "data": {
      "image/png": "[encoded data removed]",
      "text/plain": [
       "<Figure size 144x144 with 1 Axes>"
      ]
     },
     "metadata": {
      "needs_background": "light"
     },
     "output_type": "display_data"
    }
   ],
   "source": [
    "#Fitting Logistic Regression \n",
    "classifier = LogisticRegression(random_state = 723)\n",
    "\n",
    "classifier.fit(pp_exp_train, pp_exp_train_label)\n",
    "\n",
    "#Predicting the test labels \n",
    "test_predicted_exp_lg = classifier.predict(pp_exp_test)\n",
    "\n",
    "#getting the accuracy \n",
    "exp_accuracy_lg = accuracy_score(pp_exp_test_label, test_predicted_exp_lg, normalize = True)\n",
    "cm = confusion_matrix(pp_exp_test_label, test_predicted_exp_lg)\n",
    "confusion_matrix_graph(cm, exp_accuracy_lg, \"LG Exp\")"
   ]
  },
  {
   "cell_type": "code",
   "execution_count": 161,
   "metadata": {},
   "outputs": [
    {
     "name": "stdout",
     "output_type": "stream",
     "text": [
      "              precision    recall  f1-score   support\n",
      "\n",
      "    negative       0.53      0.51      0.52        61\n",
      "    positive       0.50      0.52      0.51        58\n",
      "\n",
      "    accuracy                           0.51       119\n",
      "   macro avg       0.51      0.51      0.51       119\n",
      "weighted avg       0.51      0.51      0.51       119\n",
      "\n"
     ]
    }
   ],
   "source": [
    "print(classification_report(pp_exp_test_label, test_predicted_exp_lg))"
   ]
  },
  {
   "cell_type": "code",
   "execution_count": 162,
   "metadata": {},
   "outputs": [
    {
     "data": {
      "text/plain": [
       "Text(0.5, 1, 'LG Cumulative Accuracy Score: 0.5378')"
      ]
     },
     "execution_count": 162,
     "metadata": {},
     "output_type": "execute_result"
    },
    {
     "data": {
      "image/png": "[encoded data removed]",
      "text/plain": [
       "<Figure size 144x144 with 1 Axes>"
      ]
     },
     "metadata": {
      "needs_background": "light"
     },
     "output_type": "display_data"
    }
   ],
   "source": [
    "#Fitting Logistic Regression \n",
    "classifier = LogisticRegression(random_state = 723)\n",
    "\n",
    "classifier.fit(pp_cumulative_train, pp_cumulative_train_label)\n",
    "\n",
    "#Predicting the test labels \n",
    "test_predicted_cum_lg = classifier.predict(pp_exp_test)\n",
    "\n",
    "#getting the accuracy \n",
    "cum_accuracy_lg = accuracy_score(pp_cumulative_test_label, test_predicted_cum_lg, normalize = True)\n",
    "cm = confusion_matrix(pp_cumulative_test_label, test_predicted_cum_lg)\n",
    "confusion_matrix_graph(cm, cum_accuracy_lg, \"LG Cumulative\")"
   ]
  },
  {
   "cell_type": "code",
   "execution_count": 163,
   "metadata": {},
   "outputs": [
    {
     "name": "stdout",
     "output_type": "stream",
     "text": [
      "              precision    recall  f1-score   support\n",
      "\n",
      "    negative       0.55      0.51      0.53        61\n",
      "    positive       0.52      0.57      0.55        58\n",
      "\n",
      "    accuracy                           0.54       119\n",
      "   macro avg       0.54      0.54      0.54       119\n",
      "weighted avg       0.54      0.54      0.54       119\n",
      "\n"
     ]
    }
   ],
   "source": [
    "print(classification_report(pp_cumulative_test_label, test_predicted_cum_lg))"
   ]
  },
  {
   "cell_type": "code",
   "execution_count": 164,
   "metadata": {},
   "outputs": [
    {
     "data": {
      "text/plain": [
       "Text(0.5, 1, 'LG Exp & Cumulative Accuracy Score: 0.4454')"
      ]
     },
     "execution_count": 164,
     "metadata": {},
     "output_type": "execute_result"
    },
    {
     "data": {
      "image/png": "[encoded data removed]",
      "text/plain": [
       "<Figure size 144x144 with 1 Axes>"
      ]
     },
     "metadata": {
      "needs_background": "light"
     },
     "output_type": "display_data"
    }
   ],
   "source": [
    "#Fitting Logistic Regression \n",
    "classifier = LogisticRegression(random_state = 723)\n",
    "\n",
    "classifier.fit(pp_cumulative_exp_train, pp_cumulative_exp_train_label)\n",
    "\n",
    "#Predicting the test labels \n",
    "test_predicted_cum_exp_lg = classifier.predict(pp_cumulative_exp_test)\n",
    "\n",
    "#getting the accuracy \n",
    "cum_exp_accuracy_lg = accuracy_score(pp_cumulative_exp_test_label, test_predicted_cum_exp_lg, normalize = True)\n",
    "cm = confusion_matrix(pp_cumulative_exp_test_label, test_predicted_cum_exp_lg)\n",
    "confusion_matrix_graph(cm, cum_exp_accuracy_lg, \"LG Exp & Cumulative\")"
   ]
  },
  {
   "cell_type": "code",
   "execution_count": 165,
   "metadata": {},
   "outputs": [
    {
     "name": "stdout",
     "output_type": "stream",
     "text": [
      "              precision    recall  f1-score   support\n",
      "\n",
      "    negative       0.45      0.38      0.41        61\n",
      "    positive       0.44      0.52      0.48        58\n",
      "\n",
      "    accuracy                           0.45       119\n",
      "   macro avg       0.45      0.45      0.44       119\n",
      "weighted avg       0.45      0.45      0.44       119\n",
      "\n"
     ]
    }
   ],
   "source": [
    "print(classification_report(pp_cumulative_exp_test_label, test_predicted_cum_exp_lg))"
   ]
  },
  {
   "cell_type": "code",
   "execution_count": 166,
   "metadata": {},
   "outputs": [],
   "source": [
    "###########################################################################################\n",
    "# SVMS\n",
    "###########################################################################################\n"
   ]
  },
  {
   "cell_type": "code",
   "execution_count": 167,
   "metadata": {},
   "outputs": [
    {
     "data": {
      "text/plain": [
       "Text(0.5, 1, 'SVM Cumulative Accuracy Score: 0.5042')"
      ]
     },
     "execution_count": 167,
     "metadata": {},
     "output_type": "execute_result"
    },
    {
     "data": {
      "image/png": "[encoded data removed]",
      "text/plain": [
       "<Figure size 144x144 with 1 Axes>"
      ]
     },
     "metadata": {
      "needs_background": "light"
     },
     "output_type": "display_data"
    }
   ],
   "source": [
    "#Cumulative SVM - Fitting the classifier \n",
    "svclassifier = SVC(kernel='rbf')\n",
    "svclassifier.fit(pp_cumulative_train, pp_cumulative_train_label)\n",
    "#Making the predictions \n",
    "test_predicted_cum_svm = svclassifier.predict(pp_cumulative_test)\n",
    "#Creating my confusion matrix \n",
    "cum_accuracy_svm = accuracy_score(pp_cumulative_test_label, test_predicted_cum_svm, normalize = True)\n",
    "cm = confusion_matrix(pp_cumulative_test_label, test_predicted_cum_svm)\n",
    "confusion_matrix_graph(cm, cum_accuracy_svm, \"SVM Cumulative\")"
   ]
  },
  {
   "cell_type": "code",
   "execution_count": 168,
   "metadata": {},
   "outputs": [
    {
     "name": "stdout",
     "output_type": "stream",
     "text": [
      "              precision    recall  f1-score   support\n",
      "\n",
      "    negative       0.52      0.41      0.46        61\n",
      "    positive       0.49      0.60      0.54        58\n",
      "\n",
      "    accuracy                           0.50       119\n",
      "   macro avg       0.51      0.51      0.50       119\n",
      "weighted avg       0.51      0.50      0.50       119\n",
      "\n"
     ]
    }
   ],
   "source": [
    "print(classification_report(pp_cumulative_test_label, test_predicted_cum_svm))"
   ]
  },
  {
   "cell_type": "code",
   "execution_count": 169,
   "metadata": {},
   "outputs": [
    {
     "data": {
      "text/plain": [
       "Text(0.5, 1, 'SVM Exp Accuracy Score: 0.5714')"
      ]
     },
     "execution_count": 169,
     "metadata": {},
     "output_type": "execute_result"
    },
    {
     "data": {
      "image/png": "[encoded data removed]",
      "text/plain": [
       "<Figure size 144x144 with 1 Axes>"
      ]
     },
     "metadata": {
      "needs_background": "light"
     },
     "output_type": "display_data"
    }
   ],
   "source": [
    "#Exp SVM - Fitting the classifier \n",
    "svclassifier = SVC(kernel='linear')\n",
    "svclassifier.fit(pp_exp_train, pp_exp_train_label)\n",
    "#Making the predictions \n",
    "test_predicted_exp_svm = svclassifier.predict(pp_exp_test)\n",
    "#Creating my confusion matrix \n",
    "exp_accuracy_svm = accuracy_score(pp_exp_test_label, test_predicted_exp_svm, normalize = True)\n",
    "cm = confusion_matrix(pp_exp_test_label, test_predicted_exp_svm)\n",
    "confusion_matrix_graph(cm, exp_accuracy_svm, \"SVM Exp\")"
   ]
  },
  {
   "cell_type": "code",
   "execution_count": 170,
   "metadata": {},
   "outputs": [
    {
     "name": "stdout",
     "output_type": "stream",
     "text": [
      "              precision    recall  f1-score   support\n",
      "\n",
      "    negative       0.57      0.64      0.60        61\n",
      "    positive       0.57      0.50      0.53        58\n",
      "\n",
      "    accuracy                           0.57       119\n",
      "   macro avg       0.57      0.57      0.57       119\n",
      "weighted avg       0.57      0.57      0.57       119\n",
      "\n"
     ]
    }
   ],
   "source": [
    "print(classification_report(pp_exp_test_label, test_predicted_exp_svm))"
   ]
  },
  {
   "cell_type": "code",
   "execution_count": 182,
   "metadata": {},
   "outputs": [
    {
     "data": {
      "text/plain": [
       "Text(0.5, 1, 'SVM Exp & Cumulative Accuracy Score: 0.479')"
      ]
     },
     "execution_count": 182,
     "metadata": {},
     "output_type": "execute_result"
    },
    {
     "data": {
      "image/png": "[encoded data removed]",
      "text/plain": [
       "<Figure size 144x144 with 1 Axes>"
      ]
     },
     "metadata": {
      "needs_background": "light"
     },
     "output_type": "display_data"
    }
   ],
   "source": [
    "#Exp & Cum SVM - Fitting the classifier \n",
    "svclassifier = SVC(kernel='rbf')\n",
    "svclassifier.fit(pp_cumulative_exp_train, pp_cumulative_exp_train_label)\n",
    "#Making the predictions \n",
    "test_predicted_cum_exp_svm = svclassifier.predict(pp_cumulative_exp_test)\n",
    "#Creating my confusion matrix \n",
    "cum_exp_accuracy_svm = accuracy_score(pp_cumulative_exp_test_label, test_predicted_cum_exp_svm, \n",
    "                                      normalize = True)\n",
    "cm = confusion_matrix(pp_cumulative_exp_test_label, test_predicted_cum_exp_svm)\n",
    "confusion_matrix_graph(cm, cum_exp_accuracy_svm, \"SVM Exp & Cumulative\")"
   ]
  },
  {
   "cell_type": "code",
   "execution_count": 172,
   "metadata": {},
   "outputs": [
    {
     "name": "stdout",
     "output_type": "stream",
     "text": [
      "              precision    recall  f1-score   support\n",
      "\n",
      "    negative       0.43      0.38      0.40        61\n",
      "    positive       0.42      0.47      0.44        58\n",
      "\n",
      "    accuracy                           0.42       119\n",
      "   macro avg       0.42      0.42      0.42       119\n",
      "weighted avg       0.42      0.42      0.42       119\n",
      "\n"
     ]
    }
   ],
   "source": [
    "print(classification_report(pp_cumulative_exp_test_label, test_predicted_cum_exp_svm))"
   ]
  },
  {
   "cell_type": "code",
   "execution_count": 173,
   "metadata": {},
   "outputs": [],
   "source": [
    "# We had much more success when predicting score versus percent profit... However, the SVM with Linear Kernel on \n",
    "#the exponential df did have a 57% accuracy.\n",
    "#We believe that in order to have a better accuracy when predicting percent profit, we need to have more data. Our \n",
    "#next step is to find more data and then use the information gained from this analysis on our new data. "
   ]
  }
 ],
 "metadata": {
  "kernelspec": {
   "display_name": "Python 3",
   "language": "python",
   "name": "python3"
  },
  "language_info": {
   "codemirror_mode": {
    "name": "ipython",
    "version": 3
   },
   "file_extension": ".py",
   "mimetype": "text/x-python",
   "name": "python",
   "nbconvert_exporter": "python",
   "pygments_lexer": "ipython3",
   "version": "3.7.4"
  }
 },
 "nbformat": 4,
 "nbformat_minor": 2
}
