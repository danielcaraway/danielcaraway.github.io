{
  "nbformat": 4,
  "nbformat_minor": 0,
  "metadata": {
    "colab": {
      "name": "IST718_LAB6_NightFile.ipynb",
      "provenance": [],
      "collapsed_sections": []
    },
    "kernelspec": {
      "name": "python3",
      "display_name": "Python 3"
    }
  },
  "cells": [
    {
      "cell_type": "code",
      "metadata": {
        "id": "YukYq3XDuViL",
        "colab_type": "code",
        "colab": {}
      },
      "source": [
        "import pandas as pd\n",
        "from fbprophet import Prophet \n",
        "import warnings\n",
        "warnings.filterwarnings(\"ignore\", category=RuntimeWarning) \n",
        "\n",
        "df = pd.read_csv('https://raw.githubusercontent.com/danielcaraway/data/master/Zip_Zhvi_SingleFamilyResidence.csv', encoding='latin')"
      ],
      "execution_count": 0,
      "outputs": []
    },
    {
      "cell_type": "code",
      "metadata": {
        "id": "gE1sjaV1vaEB",
        "colab_type": "code",
        "colab": {
          "base_uri": "https://localhost:8080/",
          "height": 35
        },
        "outputId": "7e5ad5b3-d23e-4e43-d07d-2211734b6457"
      },
      "source": [
        "to_drop = \"1996-04\t1996-05\t1996-06\t1996-07\t1996-08\t1996-09\t1996-10\t1996-11\t1996-12\".split()\n",
        "df_97 = df.drop(to_drop, axis=1)\n",
        "df_97_nona = df_97.dropna(subset=['1997-01'])\n",
        "len(df_97_nona)"
      ],
      "execution_count": 5,
      "outputs": [
        {
          "output_type": "execute_result",
          "data": {
            "text/plain": [
              "13916"
            ]
          },
          "metadata": {
            "tags": []
          },
          "execution_count": 5
        }
      ]
    },
    {
      "cell_type": "code",
      "metadata": {
        "id": "6j4xGmXhug05",
        "colab_type": "code",
        "colab": {}
      },
      "source": [
        "df = df_97_nona.copy()\n",
        "columns = df.columns[:7].values\n",
        "region_reference = pd.DataFrame(data=df, columns=columns)\n",
        "to_drop = ['RegionID',\n",
        " 'City',\n",
        " 'State',\n",
        " 'Metro',\n",
        " 'CountyName',\n",
        " 'SizeRank']\n",
        "just_numbers = df.drop(to_drop, axis=1)\n",
        "df_t = just_numbers.set_index('RegionName').T\n",
        "df_t.reset_index(inplace=True)\n",
        "df_t['year'] = df_t.apply(lambda x: x['index'].split('-')[0], axis=1)\n",
        "by_year = pd.DataFrame(df_t.groupby('year').mean())\n",
        "by_year_t = by_year.reset_index()\n",
        "by_year_t['year'] = by_year_t['year'].astype('datetime64[ns]') \n",
        "by_year_t.set_index('year', inplace=True)\n",
        "by_year_t2 = by_year_t.T\n",
        "by_year_t2.reset_index(inplace=True)"
      ],
      "execution_count": 0,
      "outputs": []
    },
    {
      "cell_type": "code",
      "metadata": {
        "id": "8XkmbkqivDGj",
        "colab_type": "code",
        "colab": {}
      },
      "source": [
        "df = by_year_t2.copy()\n",
        "df_sm = df[:5]\n",
        "zip_table = []\n",
        "def get_prophet_predictions(row):\n",
        "  mini = pd.DataFrame(row)\n",
        "  mini['ds'] = row.index\n",
        "  mini['y'] = row.values\n",
        "  df = mini.iloc[1:]\n",
        "\n",
        "  m = Prophet()\n",
        "  m.fit(df)\n",
        "  invest_price = df.tail(1)\n",
        "  future = m.make_future_dataframe(periods=60, freq='M')\n",
        "  fcst = m.predict(future)\n",
        "  sell_price = fcst.tail(1)\n",
        "\n",
        "  roi = sell_price['trend'].values[0] - invest_price['y'].values[0]\n",
        "  return pd.Series((fcst, roi))"
      ],
      "execution_count": 0,
      "outputs": []
    },
    {
      "cell_type": "code",
      "metadata": {
        "id": "o39t7Cj1vF7J",
        "colab_type": "code",
        "colab": {
          "base_uri": "https://localhost:8080/",
          "height": 472
        },
        "outputId": "09bdf72b-b701-4f9d-c403-e1f9cfbee59f"
      },
      "source": [
        "df_sm[['forecast','roi']] = df_sm.apply(lambda x: get_prophet_predictions(x), axis=1)\n",
        "# df[['forecast','roi']] = df.apply(lambda x: get_prophet_predictions(x), axis=1)"
      ],
      "execution_count": 10,
      "outputs": [
        {
          "output_type": "stream",
          "text": [
            "INFO:fbprophet:Disabling weekly seasonality. Run prophet with weekly_seasonality=True to override this.\n",
            "INFO:fbprophet:Disabling daily seasonality. Run prophet with daily_seasonality=True to override this.\n",
            "INFO:fbprophet:n_changepoints greater than number of observations.Using 17.\n",
            "INFO:fbprophet:Disabling weekly seasonality. Run prophet with weekly_seasonality=True to override this.\n",
            "INFO:fbprophet:Disabling daily seasonality. Run prophet with daily_seasonality=True to override this.\n",
            "INFO:fbprophet:n_changepoints greater than number of observations.Using 17.\n",
            "INFO:fbprophet:Disabling weekly seasonality. Run prophet with weekly_seasonality=True to override this.\n",
            "INFO:fbprophet:Disabling daily seasonality. Run prophet with daily_seasonality=True to override this.\n",
            "INFO:fbprophet:n_changepoints greater than number of observations.Using 17.\n",
            "INFO:fbprophet:Disabling weekly seasonality. Run prophet with weekly_seasonality=True to override this.\n",
            "INFO:fbprophet:Disabling daily seasonality. Run prophet with daily_seasonality=True to override this.\n",
            "INFO:fbprophet:n_changepoints greater than number of observations.Using 17.\n",
            "INFO:fbprophet:Disabling weekly seasonality. Run prophet with weekly_seasonality=True to override this.\n",
            "INFO:fbprophet:Disabling daily seasonality. Run prophet with daily_seasonality=True to override this.\n",
            "INFO:fbprophet:n_changepoints greater than number of observations.Using 17.\n",
            "INFO:fbprophet:Disabling weekly seasonality. Run prophet with weekly_seasonality=True to override this.\n",
            "INFO:fbprophet:Disabling daily seasonality. Run prophet with daily_seasonality=True to override this.\n",
            "INFO:fbprophet:n_changepoints greater than number of observations.Using 17.\n",
            "/usr/local/lib/python3.6/dist-packages/pandas/core/frame.py:3509: SettingWithCopyWarning:\n",
            "\n",
            "\n",
            "A value is trying to be set on a copy of a slice from a DataFrame.\n",
            "Try using .loc[row_indexer,col_indexer] = value instead\n",
            "\n",
            "See the caveats in the documentation: http://pandas.pydata.org/pandas-docs/stable/user_guide/indexing.html#returning-a-view-versus-a-copy\n",
            "\n"
          ],
          "name": "stderr"
        }
      ]
    },
    {
      "cell_type": "code",
      "metadata": {
        "id": "OoQdz29awe8o",
        "colab_type": "code",
        "colab": {
          "base_uri": "https://localhost:8080/",
          "height": 308
        },
        "outputId": "d19e70af-d34c-49fb-cc10-eefe6c91c62f"
      },
      "source": [
        "# df.to_csv('prophet_df.csv')"
      ],
      "execution_count": 11,
      "outputs": [
        {
          "output_type": "execute_result",
          "data": {
            "text/html": [
              "<div>\n",
              "<style scoped>\n",
              "    .dataframe tbody tr th:only-of-type {\n",
              "        vertical-align: middle;\n",
              "    }\n",
              "\n",
              "    .dataframe tbody tr th {\n",
              "        vertical-align: top;\n",
              "    }\n",
              "\n",
              "    .dataframe thead th {\n",
              "        text-align: right;\n",
              "    }\n",
              "</style>\n",
              "<table border=\"1\" class=\"dataframe\">\n",
              "  <thead>\n",
              "    <tr style=\"text-align: right;\">\n",
              "      <th>year</th>\n",
              "      <th>RegionName</th>\n",
              "      <th>1997-01-01 00:00:00</th>\n",
              "      <th>1998-01-01 00:00:00</th>\n",
              "      <th>1999-01-01 00:00:00</th>\n",
              "      <th>2000-01-01 00:00:00</th>\n",
              "      <th>2001-01-01 00:00:00</th>\n",
              "      <th>2002-01-01 00:00:00</th>\n",
              "      <th>2003-01-01 00:00:00</th>\n",
              "      <th>2004-01-01 00:00:00</th>\n",
              "      <th>2005-01-01 00:00:00</th>\n",
              "      <th>2006-01-01 00:00:00</th>\n",
              "      <th>2007-01-01 00:00:00</th>\n",
              "      <th>2008-01-01 00:00:00</th>\n",
              "      <th>2009-01-01 00:00:00</th>\n",
              "      <th>2010-01-01 00:00:00</th>\n",
              "      <th>2011-01-01 00:00:00</th>\n",
              "      <th>2012-01-01 00:00:00</th>\n",
              "      <th>2013-01-01 00:00:00</th>\n",
              "      <th>2014-01-01 00:00:00</th>\n",
              "      <th>2015-01-01 00:00:00</th>\n",
              "      <th>2016-01-01 00:00:00</th>\n",
              "      <th>2017-01-01 00:00:00</th>\n",
              "      <th>2018-01-01 00:00:00</th>\n",
              "      <th>2019-01-01 00:00:00</th>\n",
              "      <th>forecast</th>\n",
              "      <th>roi</th>\n",
              "    </tr>\n",
              "  </thead>\n",
              "  <tbody>\n",
              "    <tr>\n",
              "      <th>0</th>\n",
              "      <td>60657</td>\n",
              "      <td>378192.833333</td>\n",
              "      <td>389723.833333</td>\n",
              "      <td>453431.500000</td>\n",
              "      <td>521798.916667</td>\n",
              "      <td>586183.833333</td>\n",
              "      <td>628344.916667</td>\n",
              "      <td>6.691198e+05</td>\n",
              "      <td>7.073292e+05</td>\n",
              "      <td>7.562488e+05</td>\n",
              "      <td>8.070008e+05</td>\n",
              "      <td>8.102088e+05</td>\n",
              "      <td>8.231563e+05</td>\n",
              "      <td>7.720613e+05</td>\n",
              "      <td>746086.833333</td>\n",
              "      <td>709742.416667</td>\n",
              "      <td>710565.666667</td>\n",
              "      <td>791568.166667</td>\n",
              "      <td>8.466048e+05</td>\n",
              "      <td>8.935743e+05</td>\n",
              "      <td>9.266148e+05</td>\n",
              "      <td>9.397620e+05</td>\n",
              "      <td>9.536783e+05</td>\n",
              "      <td>9.566285e+05</td>\n",
              "      <td>ds          trend  ...  multiplicat...</td>\n",
              "      <td>-243313.774765</td>\n",
              "    </tr>\n",
              "    <tr>\n",
              "      <th>1</th>\n",
              "      <td>77494</td>\n",
              "      <td>209368.250000</td>\n",
              "      <td>206195.250000</td>\n",
              "      <td>212468.750000</td>\n",
              "      <td>223155.583333</td>\n",
              "      <td>226383.916667</td>\n",
              "      <td>226765.000000</td>\n",
              "      <td>2.311428e+05</td>\n",
              "      <td>2.401042e+05</td>\n",
              "      <td>2.466654e+05</td>\n",
              "      <td>2.498909e+05</td>\n",
              "      <td>2.580278e+05</td>\n",
              "      <td>2.607339e+05</td>\n",
              "      <td>2.610133e+05</td>\n",
              "      <td>267443.583333</td>\n",
              "      <td>260171.666667</td>\n",
              "      <td>264811.166667</td>\n",
              "      <td>283496.833333</td>\n",
              "      <td>3.155041e+05</td>\n",
              "      <td>3.351682e+05</td>\n",
              "      <td>3.324876e+05</td>\n",
              "      <td>3.300152e+05</td>\n",
              "      <td>3.334704e+05</td>\n",
              "      <td>3.347144e+05</td>\n",
              "      <td>ds          trend  ...  multiplicat...</td>\n",
              "      <td>-158187.740715</td>\n",
              "    </tr>\n",
              "    <tr>\n",
              "      <th>2</th>\n",
              "      <td>60614</td>\n",
              "      <td>573575.666667</td>\n",
              "      <td>616168.166667</td>\n",
              "      <td>706178.750000</td>\n",
              "      <td>804170.666667</td>\n",
              "      <td>905689.416667</td>\n",
              "      <td>983081.333333</td>\n",
              "      <td>1.042087e+06</td>\n",
              "      <td>1.086231e+06</td>\n",
              "      <td>1.164892e+06</td>\n",
              "      <td>1.234957e+06</td>\n",
              "      <td>1.246696e+06</td>\n",
              "      <td>1.179971e+06</td>\n",
              "      <td>1.070229e+06</td>\n",
              "      <td>984387.583333</td>\n",
              "      <td>909385.583333</td>\n",
              "      <td>868096.583333</td>\n",
              "      <td>959294.333333</td>\n",
              "      <td>1.032766e+06</td>\n",
              "      <td>1.095943e+06</td>\n",
              "      <td>1.142199e+06</td>\n",
              "      <td>1.175260e+06</td>\n",
              "      <td>1.194322e+06</td>\n",
              "      <td>1.190550e+06</td>\n",
              "      <td>ds          trend  ...  multiplicat...</td>\n",
              "      <td>-722240.584607</td>\n",
              "    </tr>\n",
              "    <tr>\n",
              "      <th>3</th>\n",
              "      <td>77449</td>\n",
              "      <td>97162.916667</td>\n",
              "      <td>99462.916667</td>\n",
              "      <td>102394.750000</td>\n",
              "      <td>105518.250000</td>\n",
              "      <td>106366.250000</td>\n",
              "      <td>109551.000000</td>\n",
              "      <td>1.137417e+05</td>\n",
              "      <td>1.198598e+05</td>\n",
              "      <td>1.240328e+05</td>\n",
              "      <td>1.242390e+05</td>\n",
              "      <td>1.289552e+05</td>\n",
              "      <td>1.259122e+05</td>\n",
              "      <td>1.204772e+05</td>\n",
              "      <td>120319.166667</td>\n",
              "      <td>112696.750000</td>\n",
              "      <td>111168.416667</td>\n",
              "      <td>123927.750000</td>\n",
              "      <td>1.402042e+05</td>\n",
              "      <td>1.548712e+05</td>\n",
              "      <td>1.644619e+05</td>\n",
              "      <td>1.702064e+05</td>\n",
              "      <td>1.769127e+05</td>\n",
              "      <td>1.842622e+05</td>\n",
              "      <td>ds         trend  ...  multiplicati...</td>\n",
              "      <td>-136073.190485</td>\n",
              "    </tr>\n",
              "    <tr>\n",
              "      <th>4</th>\n",
              "      <td>77084</td>\n",
              "      <td>96043.833333</td>\n",
              "      <td>97957.250000</td>\n",
              "      <td>101216.833333</td>\n",
              "      <td>104458.750000</td>\n",
              "      <td>105968.083333</td>\n",
              "      <td>109260.000000</td>\n",
              "      <td>1.127021e+05</td>\n",
              "      <td>1.193099e+05</td>\n",
              "      <td>1.231274e+05</td>\n",
              "      <td>1.239627e+05</td>\n",
              "      <td>1.281134e+05</td>\n",
              "      <td>1.262742e+05</td>\n",
              "      <td>1.232700e+05</td>\n",
              "      <td>122815.083333</td>\n",
              "      <td>115972.916667</td>\n",
              "      <td>114768.250000</td>\n",
              "      <td>125350.833333</td>\n",
              "      <td>1.396642e+05</td>\n",
              "      <td>1.535522e+05</td>\n",
              "      <td>1.617357e+05</td>\n",
              "      <td>1.673551e+05</td>\n",
              "      <td>1.741188e+05</td>\n",
              "      <td>1.823445e+05</td>\n",
              "      <td>ds         trend  ...  multiplicati...</td>\n",
              "      <td>-135463.986688</td>\n",
              "    </tr>\n",
              "  </tbody>\n",
              "</table>\n",
              "</div>"
            ],
            "text/plain": [
              "year  RegionName  ...            roi\n",
              "0          60657  ... -243313.774765\n",
              "1          77494  ... -158187.740715\n",
              "2          60614  ... -722240.584607\n",
              "3          77449  ... -136073.190485\n",
              "4          77084  ... -135463.986688\n",
              "\n",
              "[5 rows x 26 columns]"
            ]
          },
          "metadata": {
            "tags": []
          },
          "execution_count": 11
        }
      ]
    },
    {
      "cell_type": "code",
      "metadata": {
        "id": "6CzrGRUWwmkR",
        "colab_type": "code",
        "colab": {}
      },
      "source": [
        ""
      ],
      "execution_count": 0,
      "outputs": []
    }
  ]
}