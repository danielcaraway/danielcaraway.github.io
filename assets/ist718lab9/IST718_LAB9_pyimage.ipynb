{
  "nbformat": 4,
  "nbformat_minor": 0,
  "metadata": {
    "colab": {
      "name": "IST718_LAB9_pyimage.ipynb",
      "provenance": [],
      "collapsed_sections": []
    },
    "kernelspec": {
      "name": "python3",
      "display_name": "Python 3"
    }
  },
  "cells": [
    {
      "cell_type": "markdown",
      "metadata": {
        "id": "QH08wd2sFCaS",
        "colab_type": "text"
      },
      "source": [
        "\n",
        "# STEP 1: Import ALL the things!\n"
      ]
    },
    {
      "cell_type": "markdown",
      "metadata": {
        "id": "IzMBuqNjFLpW",
        "colab_type": "text"
      },
      "source": [
        "### The packages"
      ]
    },
    {
      "cell_type": "code",
      "metadata": {
        "id": "Fu4-ERnHNmsy",
        "colab_type": "code",
        "colab": {
          "base_uri": "https://localhost:8080/",
          "height": 175
        },
        "outputId": "07d021fd-c678-44eb-959c-58a9d8419bcb"
      },
      "source": [
        "!pip install ipython-autotime\n",
        "%load_ext autotime"
      ],
      "execution_count": 14,
      "outputs": [
        {
          "output_type": "stream",
          "text": [
            "Collecting ipython-autotime\n",
            "  Downloading https://files.pythonhosted.org/packages/e6/f9/0626bbdb322e3a078d968e87e3b01341e7890544de891d0cb613641220e6/ipython-autotime-0.1.tar.bz2\n",
            "Building wheels for collected packages: ipython-autotime\n",
            "  Building wheel for ipython-autotime (setup.py) ... \u001b[?25l\u001b[?25hdone\n",
            "  Created wheel for ipython-autotime: filename=ipython_autotime-0.1-cp36-none-any.whl size=1832 sha256=b99dbb80eedb7316d13d31df07c66ac1021233c76b6b2b641c2511e1b0f8ea8d\n",
            "  Stored in directory: /root/.cache/pip/wheels/d2/df/81/2db1e54bc91002cec40334629bc39cfa86dff540b304ebcd6e\n",
            "Successfully built ipython-autotime\n",
            "Installing collected packages: ipython-autotime\n",
            "Successfully installed ipython-autotime-0.1\n"
          ],
          "name": "stdout"
        }
      ]
    },
    {
      "cell_type": "code",
      "metadata": {
        "id": "OhxjztVAEzCO",
        "colab_type": "code",
        "colab": {
          "base_uri": "https://localhost:8080/",
          "height": 35
        },
        "outputId": "8122f93c-0ee9-4204-9b3f-ac8571367083"
      },
      "source": [
        "import matplotlib\n",
        "matplotlib.use(\"Agg\")\n",
        "from sklearn.preprocessing import LabelBinarizer\n",
        "from sklearn.model_selection import train_test_split\n",
        "from sklearn.metrics import classification_report\n",
        "from keras.models import Sequential\n",
        "from keras.layers.core import Dense\n",
        "from keras.optimizers import SGD\n",
        "from imutils import paths\n",
        "import matplotlib.pyplot as plt\n",
        "import numpy as np\n",
        "import argparse\n",
        "import random\n",
        "import pickle\n",
        "import cv2\n",
        "import os"
      ],
      "execution_count": 15,
      "outputs": [
        {
          "output_type": "stream",
          "text": [
            "time: 9.97 ms\n"
          ],
          "name": "stdout"
        }
      ]
    },
    {
      "cell_type": "markdown",
      "metadata": {
        "id": "xChZPBFMFNzU",
        "colab_type": "text"
      },
      "source": [
        "### The data"
      ]
    },
    {
      "cell_type": "code",
      "metadata": {
        "id": "wwQuv_fJFTYg",
        "colab_type": "code",
        "colab": {
          "base_uri": "https://localhost:8080/",
          "height": 52
        },
        "outputId": "0a3fd498-b5e8-436e-aaf3-678ec0df9c15"
      },
      "source": [
        "## mount your Google Drive folder\n",
        "from google.colab import drive\n",
        "drive.mount('/content/drive')"
      ],
      "execution_count": 16,
      "outputs": [
        {
          "output_type": "stream",
          "text": [
            "Drive already mounted at /content/drive; to attempt to forcibly remount, call drive.mount(\"/content/drive\", force_remount=True).\n",
            "time: 2.67 ms\n"
          ],
          "name": "stdout"
        }
      ]
    },
    {
      "cell_type": "code",
      "metadata": {
        "id": "kRb3TFWLFZAT",
        "colab_type": "code",
        "colab": {
          "base_uri": "https://localhost:8080/",
          "height": 185
        },
        "outputId": "72fb9d47-57d3-4247-9395-1815b5b72fd0"
      },
      "source": [
        "## change into the directory where your data is \n",
        "os.chdir(\"drive/My Drive/data\")"
      ],
      "execution_count": 17,
      "outputs": [
        {
          "output_type": "error",
          "ename": "FileNotFoundError",
          "evalue": "ignored",
          "traceback": [
            "\u001b[0;31m---------------------------------------------------------------------------\u001b[0m",
            "\u001b[0;31mFileNotFoundError\u001b[0m                         Traceback (most recent call last)",
            "\u001b[0;32m<ipython-input-17-14114c974572>\u001b[0m in \u001b[0;36m<module>\u001b[0;34m()\u001b[0m\n\u001b[0;32m----> 1\u001b[0;31m \u001b[0mos\u001b[0m\u001b[0;34m.\u001b[0m\u001b[0mchdir\u001b[0m\u001b[0;34m(\u001b[0m\u001b[0;34m\"drive/My Drive/data\"\u001b[0m\u001b[0;34m)\u001b[0m\u001b[0;34m\u001b[0m\u001b[0;34m\u001b[0m\u001b[0m\n\u001b[0m",
            "\u001b[0;31mFileNotFoundError\u001b[0m: [Errno 2] No such file or directory: 'drive/My Drive/data'"
          ]
        },
        {
          "output_type": "stream",
          "text": [
            "time: 1.86 s\n"
          ],
          "name": "stdout"
        }
      ]
    },
    {
      "cell_type": "markdown",
      "metadata": {
        "id": "WWoW6Hz-LH3e",
        "colab_type": "text"
      },
      "source": [
        "# STEP 2: Process the data"
      ]
    },
    {
      "cell_type": "markdown",
      "metadata": {
        "id": "dSeTQROULK21",
        "colab_type": "text"
      },
      "source": [
        "1. Get image paths. Shuffle them.\n",
        "2. Loop over the paths and and load the images\n",
        "\n",
        "Inside the loop (for each image)\n",
        "\n",
        "* resize the image\n",
        "* flatten the image\n",
        "* store the (newly flattened & resized) image in 'data' array\n",
        "* store the label in 'labels' array"
      ]
    },
    {
      "cell_type": "code",
      "metadata": {
        "id": "_rhoOyRLFtfd",
        "colab_type": "code",
        "colab": {
          "base_uri": "https://localhost:8080/",
          "height": 52
        },
        "outputId": "5494e6b3-bf31-4a6c-a387-fb71d0b56a55"
      },
      "source": [
        "print(\"[INFO] loading images...\")\n",
        "data = []\n",
        "labels = []\n",
        "\n",
        "# imagePaths = sorted(list(paths.list_images('animals')))\n",
        "imagePaths = sorted(list(paths.list_images('jcrew')))\n",
        "random.seed(42)\n",
        "random.shuffle(imagePaths)\n",
        "\n",
        "for imagePath in imagePaths:\n",
        "\timage = cv2.imread(imagePath)\n",
        "\timage = cv2.resize(image, (32, 32)).flatten()\n",
        "\tdata.append(image)\n",
        "\tlabel = imagePath.split(os.path.sep)[-2]\n",
        "\tlabels.append(label)"
      ],
      "execution_count": 19,
      "outputs": [
        {
          "output_type": "stream",
          "text": [
            "[INFO] loading images...\n",
            "time: 1min 43s\n"
          ],
          "name": "stdout"
        }
      ]
    },
    {
      "cell_type": "code",
      "metadata": {
        "id": "5uXx6ylGFw94",
        "colab_type": "code",
        "colab": {
          "base_uri": "https://localhost:8080/",
          "height": 35
        },
        "outputId": "7f9a171e-6182-4610-9b92-8d3e24f858f9"
      },
      "source": [
        "data = np.array(data, dtype=\"float\") / 255.0\n",
        "labels = np.array(labels)"
      ],
      "execution_count": 20,
      "outputs": [
        {
          "output_type": "stream",
          "text": [
            "time: 10.7 ms\n"
          ],
          "name": "stdout"
        }
      ]
    },
    {
      "cell_type": "code",
      "metadata": {
        "id": "1JgrNfIZF4DQ",
        "colab_type": "code",
        "colab": {
          "base_uri": "https://localhost:8080/",
          "height": 35
        },
        "outputId": "81fd2d1c-ef80-4428-eb61-95ece47a5a28"
      },
      "source": [
        "(trainX, testX, trainY, testY) = train_test_split(data,\n",
        "\tlabels, test_size=0.25, random_state=42)"
      ],
      "execution_count": 21,
      "outputs": [
        {
          "output_type": "stream",
          "text": [
            "time: 11.5 ms\n"
          ],
          "name": "stdout"
        }
      ]
    },
    {
      "cell_type": "markdown",
      "metadata": {
        "id": "3f1LlWpKMMrv",
        "colab_type": "text"
      },
      "source": [
        "## Convert the labels from integers to vectors \n",
        "\n",
        "NOTE: for 2-class, binary classification you should use Keras' to_categorical function instead as the scikit-learn's LabelBinarizer will not return a\n",
        "vector"
      ]
    },
    {
      "cell_type": "code",
      "metadata": {
        "id": "tdfDNXltF4xU",
        "colab_type": "code",
        "colab": {
          "base_uri": "https://localhost:8080/",
          "height": 35
        },
        "outputId": "302e69ef-498b-4e56-a525-8ba104e07398"
      },
      "source": [
        "lb = LabelBinarizer()\n",
        "trainY = lb.fit_transform(trainY)\n",
        "testY = lb.transform(testY)"
      ],
      "execution_count": 22,
      "outputs": [
        {
          "output_type": "stream",
          "text": [
            "time: 7.41 ms\n"
          ],
          "name": "stdout"
        }
      ]
    },
    {
      "cell_type": "markdown",
      "metadata": {
        "id": "qCPr5-TOMk13",
        "colab_type": "text"
      },
      "source": [
        "# STEP 3: MODEL"
      ]
    },
    {
      "cell_type": "code",
      "metadata": {
        "id": "dnSjL-I0F6aQ",
        "colab_type": "code",
        "colab": {
          "base_uri": "https://localhost:8080/",
          "height": 35
        },
        "outputId": "02e9eb9e-ac9c-4c7d-bc11-470df6e9f718"
      },
      "source": [
        "model = Sequential()\n",
        "model.add(Dense(1024, input_shape=(3072,), activation=\"sigmoid\"))\n",
        "model.add(Dense(512, activation=\"sigmoid\"))\n",
        "model.add(Dense(len(lb.classes_), activation=\"softmax\"))"
      ],
      "execution_count": 23,
      "outputs": [
        {
          "output_type": "stream",
          "text": [
            "time: 58 ms\n"
          ],
          "name": "stdout"
        }
      ]
    },
    {
      "cell_type": "markdown",
      "metadata": {
        "id": "dUQtkZu3Mop1",
        "colab_type": "text"
      },
      "source": [
        "1. Initialize learning rate and # of epochs\n",
        "2. Compile the model using:\n",
        "\n",
        "* OPTIMIZER: SGD\n",
        "* LOSS: categorical cross-entropy loss\n",
        "\n",
        "NOTE: use binary_crossentropy for 2-class classification"
      ]
    },
    {
      "cell_type": "code",
      "metadata": {
        "id": "Xoz2LYdfF7_b",
        "colab_type": "code",
        "colab": {
          "base_uri": "https://localhost:8080/",
          "height": 52
        },
        "outputId": "7a90f81e-e714-4678-df0d-70e62ef75c9b"
      },
      "source": [
        "INIT_LR = 0.01\n",
        "EPOCHS = 75\n",
        "\n",
        "print(\"[INFO] training network...\")\n",
        "opt = SGD(lr=INIT_LR)\n",
        "model.compile(loss=\"categorical_crossentropy\", optimizer=opt,\n",
        "\tmetrics=[\"accuracy\"])"
      ],
      "execution_count": 24,
      "outputs": [
        {
          "output_type": "stream",
          "text": [
            "[INFO] training network...\n",
            "time: 52.8 ms\n"
          ],
          "name": "stdout"
        }
      ]
    },
    {
      "cell_type": "markdown",
      "metadata": {
        "id": "PNjPPiCoNCwx",
        "colab_type": "text"
      },
      "source": [
        "# STEP 4: Train the neural network"
      ]
    },
    {
      "cell_type": "code",
      "metadata": {
        "id": "jit8j3crF-uJ",
        "colab_type": "code",
        "colab": {
          "base_uri": "https://localhost:8080/",
          "height": 1000
        },
        "outputId": "cb34e1fd-bf81-427e-fdb8-05a588b3ed81"
      },
      "source": [
        "H = model.fit(trainX, trainY, validation_data=(testX, testY),\n",
        "\tepochs=EPOCHS, batch_size=32)"
      ],
      "execution_count": 25,
      "outputs": [
        {
          "output_type": "stream",
          "text": [
            "Train on 341 samples, validate on 114 samples\n",
            "Epoch 1/75\n",
            "341/341 [==============================] - 1s 2ms/step - loss: 1.1165 - acc: 0.3695 - val_loss: 1.1075 - val_acc: 0.3596\n",
            "Epoch 2/75\n",
            "341/341 [==============================] - 0s 1ms/step - loss: 1.0861 - acc: 0.4252 - val_loss: 1.0684 - val_acc: 0.3509\n",
            "Epoch 3/75\n",
            "341/341 [==============================] - 0s 1ms/step - loss: 1.0697 - acc: 0.4370 - val_loss: 1.1091 - val_acc: 0.3596\n",
            "Epoch 4/75\n",
            "341/341 [==============================] - 0s 1ms/step - loss: 1.0495 - acc: 0.4457 - val_loss: 1.0706 - val_acc: 0.4211\n",
            "Epoch 5/75\n",
            "341/341 [==============================] - 0s 1ms/step - loss: 1.0429 - acc: 0.4692 - val_loss: 1.0699 - val_acc: 0.3596\n",
            "Epoch 6/75\n",
            "341/341 [==============================] - 0s 1ms/step - loss: 1.0180 - acc: 0.4663 - val_loss: 1.0424 - val_acc: 0.5088\n",
            "Epoch 7/75\n",
            "341/341 [==============================] - 0s 1ms/step - loss: 1.0139 - acc: 0.5718 - val_loss: 1.0202 - val_acc: 0.4474\n",
            "Epoch 8/75\n",
            "341/341 [==============================] - 0s 1ms/step - loss: 1.0080 - acc: 0.4985 - val_loss: 1.0259 - val_acc: 0.3596\n",
            "Epoch 9/75\n",
            "341/341 [==============================] - 0s 1ms/step - loss: 0.9903 - acc: 0.5455 - val_loss: 0.9959 - val_acc: 0.5351\n",
            "Epoch 10/75\n",
            "341/341 [==============================] - 0s 1ms/step - loss: 0.9698 - acc: 0.6364 - val_loss: 0.9801 - val_acc: 0.5614\n",
            "Epoch 11/75\n",
            "341/341 [==============================] - 0s 1ms/step - loss: 0.9674 - acc: 0.6305 - val_loss: 0.9609 - val_acc: 0.7368\n",
            "Epoch 12/75\n",
            "341/341 [==============================] - 0s 1ms/step - loss: 0.9521 - acc: 0.6510 - val_loss: 0.9498 - val_acc: 0.7368\n",
            "Epoch 13/75\n",
            "341/341 [==============================] - 0s 1ms/step - loss: 0.9418 - acc: 0.7009 - val_loss: 0.9430 - val_acc: 0.6667\n",
            "Epoch 14/75\n",
            "341/341 [==============================] - 0s 1ms/step - loss: 0.9224 - acc: 0.6833 - val_loss: 0.9413 - val_acc: 0.5702\n",
            "Epoch 15/75\n",
            "341/341 [==============================] - 0s 1ms/step - loss: 0.9137 - acc: 0.6804 - val_loss: 0.9358 - val_acc: 0.6404\n",
            "Epoch 16/75\n",
            "341/341 [==============================] - 0s 1ms/step - loss: 0.8939 - acc: 0.7126 - val_loss: 0.9098 - val_acc: 0.6930\n",
            "Epoch 17/75\n",
            "341/341 [==============================] - 0s 1ms/step - loss: 0.8826 - acc: 0.7214 - val_loss: 0.9010 - val_acc: 0.6228\n",
            "Epoch 18/75\n",
            "341/341 [==============================] - 0s 1ms/step - loss: 0.8627 - acc: 0.7390 - val_loss: 0.8884 - val_acc: 0.6754\n",
            "Epoch 19/75\n",
            "341/341 [==============================] - 0s 1ms/step - loss: 0.8402 - acc: 0.7155 - val_loss: 0.8712 - val_acc: 0.8070\n",
            "Epoch 20/75\n",
            "341/341 [==============================] - 0s 1ms/step - loss: 0.8372 - acc: 0.7155 - val_loss: 0.8541 - val_acc: 0.8070\n",
            "Epoch 21/75\n",
            "341/341 [==============================] - 0s 1ms/step - loss: 0.8160 - acc: 0.7889 - val_loss: 0.8458 - val_acc: 0.6842\n",
            "Epoch 22/75\n",
            "341/341 [==============================] - 0s 1ms/step - loss: 0.8024 - acc: 0.7771 - val_loss: 0.8341 - val_acc: 0.7105\n",
            "Epoch 23/75\n",
            "341/341 [==============================] - 0s 1ms/step - loss: 0.7999 - acc: 0.7595 - val_loss: 0.8153 - val_acc: 0.7544\n",
            "Epoch 24/75\n",
            "341/341 [==============================] - 0s 1ms/step - loss: 0.7731 - acc: 0.7771 - val_loss: 0.8048 - val_acc: 0.7281\n",
            "Epoch 25/75\n",
            "341/341 [==============================] - 0s 1ms/step - loss: 0.7544 - acc: 0.8240 - val_loss: 0.8132 - val_acc: 0.6316\n",
            "Epoch 26/75\n",
            "341/341 [==============================] - 0s 1ms/step - loss: 0.7438 - acc: 0.7859 - val_loss: 0.7948 - val_acc: 0.6842\n",
            "Epoch 27/75\n",
            "341/341 [==============================] - 0s 1ms/step - loss: 0.7299 - acc: 0.7859 - val_loss: 0.7909 - val_acc: 0.6754\n",
            "Epoch 28/75\n",
            "341/341 [==============================] - 0s 1ms/step - loss: 0.7181 - acc: 0.7918 - val_loss: 0.7551 - val_acc: 0.7544\n",
            "Epoch 29/75\n",
            "341/341 [==============================] - 0s 1ms/step - loss: 0.7017 - acc: 0.8240 - val_loss: 0.7749 - val_acc: 0.7719\n",
            "Epoch 30/75\n",
            "341/341 [==============================] - 0s 1ms/step - loss: 0.6974 - acc: 0.7947 - val_loss: 0.7382 - val_acc: 0.7281\n",
            "Epoch 31/75\n",
            "341/341 [==============================] - 0s 1ms/step - loss: 0.6790 - acc: 0.8240 - val_loss: 0.7244 - val_acc: 0.7456\n",
            "Epoch 32/75\n",
            "341/341 [==============================] - 0s 1ms/step - loss: 0.6669 - acc: 0.8182 - val_loss: 0.7111 - val_acc: 0.7719\n",
            "Epoch 33/75\n",
            "341/341 [==============================] - 0s 1ms/step - loss: 0.6704 - acc: 0.8211 - val_loss: 0.7091 - val_acc: 0.7368\n",
            "Epoch 34/75\n",
            "341/341 [==============================] - 0s 1ms/step - loss: 0.6371 - acc: 0.8299 - val_loss: 0.7077 - val_acc: 0.7018\n",
            "Epoch 35/75\n",
            "341/341 [==============================] - 0s 1ms/step - loss: 0.6254 - acc: 0.8328 - val_loss: 0.6930 - val_acc: 0.7281\n",
            "Epoch 36/75\n",
            "341/341 [==============================] - 0s 1ms/step - loss: 0.6193 - acc: 0.8328 - val_loss: 0.7136 - val_acc: 0.6842\n",
            "Epoch 37/75\n",
            "341/341 [==============================] - 0s 1ms/step - loss: 0.6176 - acc: 0.8240 - val_loss: 0.6626 - val_acc: 0.7544\n",
            "Epoch 38/75\n",
            "341/341 [==============================] - 0s 1ms/step - loss: 0.5951 - acc: 0.8387 - val_loss: 0.6641 - val_acc: 0.7456\n",
            "Epoch 39/75\n",
            "341/341 [==============================] - 0s 1ms/step - loss: 0.5837 - acc: 0.8328 - val_loss: 0.6366 - val_acc: 0.8070\n",
            "Epoch 40/75\n",
            "341/341 [==============================] - 0s 1ms/step - loss: 0.5616 - acc: 0.8710 - val_loss: 0.6285 - val_acc: 0.8684\n",
            "Epoch 41/75\n",
            "341/341 [==============================] - 0s 1ms/step - loss: 0.5610 - acc: 0.8856 - val_loss: 0.6261 - val_acc: 0.7544\n",
            "Epoch 42/75\n",
            "341/341 [==============================] - 0s 1ms/step - loss: 0.5525 - acc: 0.8768 - val_loss: 0.6807 - val_acc: 0.6491\n",
            "Epoch 43/75\n",
            "341/341 [==============================] - 0s 1ms/step - loss: 0.5460 - acc: 0.8387 - val_loss: 0.6123 - val_acc: 0.7719\n",
            "Epoch 44/75\n",
            "341/341 [==============================] - 0s 1ms/step - loss: 0.5306 - acc: 0.8856 - val_loss: 0.6086 - val_acc: 0.7456\n",
            "Epoch 45/75\n",
            "341/341 [==============================] - 0s 1ms/step - loss: 0.5192 - acc: 0.8886 - val_loss: 0.5962 - val_acc: 0.7544\n",
            "Epoch 46/75\n",
            "341/341 [==============================] - 0s 1ms/step - loss: 0.5092 - acc: 0.8798 - val_loss: 0.5774 - val_acc: 0.8333\n",
            "Epoch 47/75\n",
            "341/341 [==============================] - 0s 1ms/step - loss: 0.4955 - acc: 0.8915 - val_loss: 0.5655 - val_acc: 0.8684\n",
            "Epoch 48/75\n",
            "341/341 [==============================] - 0s 1ms/step - loss: 0.4908 - acc: 0.9267 - val_loss: 0.5831 - val_acc: 0.7456\n",
            "Epoch 49/75\n",
            "341/341 [==============================] - 0s 1ms/step - loss: 0.4768 - acc: 0.8915 - val_loss: 0.5710 - val_acc: 0.7544\n",
            "Epoch 50/75\n",
            "341/341 [==============================] - 0s 1ms/step - loss: 0.4682 - acc: 0.9003 - val_loss: 0.5419 - val_acc: 0.8860\n",
            "Epoch 51/75\n",
            "341/341 [==============================] - 0s 1ms/step - loss: 0.4574 - acc: 0.9384 - val_loss: 0.5484 - val_acc: 0.7895\n",
            "Epoch 52/75\n",
            "341/341 [==============================] - 0s 1ms/step - loss: 0.4495 - acc: 0.9179 - val_loss: 0.5265 - val_acc: 0.8772\n",
            "Epoch 53/75\n",
            "341/341 [==============================] - 0s 1ms/step - loss: 0.4402 - acc: 0.9267 - val_loss: 0.5202 - val_acc: 0.8947\n",
            "Epoch 54/75\n",
            "341/341 [==============================] - 0s 1ms/step - loss: 0.4426 - acc: 0.9296 - val_loss: 0.5186 - val_acc: 0.8421\n",
            "Epoch 55/75\n",
            "341/341 [==============================] - 0s 1ms/step - loss: 0.4266 - acc: 0.9384 - val_loss: 0.5158 - val_acc: 0.8684\n",
            "Epoch 56/75\n",
            "341/341 [==============================] - 0s 1ms/step - loss: 0.4182 - acc: 0.9326 - val_loss: 0.5002 - val_acc: 0.8860\n",
            "Epoch 57/75\n",
            "341/341 [==============================] - 0s 1ms/step - loss: 0.4084 - acc: 0.9296 - val_loss: 0.4996 - val_acc: 0.8596\n",
            "Epoch 58/75\n",
            "341/341 [==============================] - 0s 1ms/step - loss: 0.4058 - acc: 0.9413 - val_loss: 0.4962 - val_acc: 0.8333\n",
            "Epoch 59/75\n",
            "341/341 [==============================] - 0s 1ms/step - loss: 0.4000 - acc: 0.9355 - val_loss: 0.4833 - val_acc: 0.8772\n",
            "Epoch 60/75\n",
            "341/341 [==============================] - 0s 1ms/step - loss: 0.3961 - acc: 0.9296 - val_loss: 0.4751 - val_acc: 0.8860\n",
            "Epoch 61/75\n",
            "341/341 [==============================] - 0s 1ms/step - loss: 0.3845 - acc: 0.9531 - val_loss: 0.4839 - val_acc: 0.8246\n",
            "Epoch 62/75\n",
            "341/341 [==============================] - 0s 1ms/step - loss: 0.3787 - acc: 0.9355 - val_loss: 0.4811 - val_acc: 0.8509\n",
            "Epoch 63/75\n",
            "341/341 [==============================] - 0s 1ms/step - loss: 0.3708 - acc: 0.9413 - val_loss: 0.4610 - val_acc: 0.8772\n",
            "Epoch 64/75\n",
            "341/341 [==============================] - 0s 1ms/step - loss: 0.3656 - acc: 0.9560 - val_loss: 0.4635 - val_acc: 0.8596\n",
            "Epoch 65/75\n",
            "341/341 [==============================] - 0s 1ms/step - loss: 0.3605 - acc: 0.9472 - val_loss: 0.4484 - val_acc: 0.8860\n",
            "Epoch 66/75\n",
            "341/341 [==============================] - 0s 1ms/step - loss: 0.3551 - acc: 0.9648 - val_loss: 0.4452 - val_acc: 0.8772\n",
            "Epoch 67/75\n",
            "341/341 [==============================] - 0s 1ms/step - loss: 0.3458 - acc: 0.9560 - val_loss: 0.4423 - val_acc: 0.9123\n",
            "Epoch 68/75\n",
            "341/341 [==============================] - 0s 1ms/step - loss: 0.3443 - acc: 0.9560 - val_loss: 0.4363 - val_acc: 0.8860\n",
            "Epoch 69/75\n",
            "341/341 [==============================] - 0s 1ms/step - loss: 0.3385 - acc: 0.9472 - val_loss: 0.4305 - val_acc: 0.8947\n",
            "Epoch 70/75\n",
            "341/341 [==============================] - 0s 1ms/step - loss: 0.3357 - acc: 0.9501 - val_loss: 0.4268 - val_acc: 0.8860\n",
            "Epoch 71/75\n",
            "341/341 [==============================] - 0s 1ms/step - loss: 0.3315 - acc: 0.9531 - val_loss: 0.4195 - val_acc: 0.8860\n",
            "Epoch 72/75\n",
            "341/341 [==============================] - 0s 1ms/step - loss: 0.3208 - acc: 0.9560 - val_loss: 0.4303 - val_acc: 0.9386\n",
            "Epoch 73/75\n",
            "341/341 [==============================] - 0s 1ms/step - loss: 0.3170 - acc: 0.9824 - val_loss: 0.4134 - val_acc: 0.8860\n",
            "Epoch 74/75\n",
            "341/341 [==============================] - 0s 1ms/step - loss: 0.3135 - acc: 0.9589 - val_loss: 0.4178 - val_acc: 0.9035\n",
            "Epoch 75/75\n",
            "341/341 [==============================] - 0s 1ms/step - loss: 0.3154 - acc: 0.9472 - val_loss: 0.4045 - val_acc: 0.9123\n",
            "time: 34 s\n"
          ],
          "name": "stdout"
        }
      ]
    },
    {
      "cell_type": "markdown",
      "metadata": {
        "id": "05o03GCaNMJC",
        "colab_type": "text"
      },
      "source": [
        "# STEP 5: Evaluate the trained network"
      ]
    },
    {
      "cell_type": "code",
      "metadata": {
        "id": "thhhRpgtGAdF",
        "colab_type": "code",
        "colab": {
          "base_uri": "https://localhost:8080/",
          "height": 227
        },
        "outputId": "0922d01a-6402-401f-f908-f44558395604"
      },
      "source": [
        "\n",
        "print(\"[INFO] evaluating network...\")\n",
        "predictions = model.predict(testX, batch_size=32)\n",
        "print(classification_report(testY.argmax(axis=1),\n",
        "\tpredictions.argmax(axis=1), target_names=lb.classes_))\n",
        "\n",
        "N = np.arange(0, EPOCHS)\n",
        "plt.style.use(\"ggplot\")\n",
        "plt.figure()\n",
        "plt.plot(N, H.history[\"loss\"], label=\"train_loss\")\n",
        "plt.plot(N, H.history[\"val_loss\"], label=\"val_loss\")\n",
        "plt.plot(N, H.history[\"acc\"], label=\"train_acc\")\n",
        "plt.plot(N, H.history[\"val_acc\"], label=\"val_acc\")\n",
        "plt.title(\"Training Loss and Accuracy (Simple NN)\")\n",
        "plt.xlabel(\"Epoch #\")\n",
        "plt.ylabel(\"Loss/Accuracy\")\n",
        "plt.legend()\n",
        "plt.savefig('results.png')"
      ],
      "execution_count": 26,
      "outputs": [
        {
          "output_type": "stream",
          "text": [
            "[INFO] evaluating network...\n",
            "              precision    recall  f1-score   support\n",
            "\n",
            "       pants       0.90      0.82      0.86        33\n",
            " shirts_tops       0.86      0.95      0.90        40\n",
            "       shoes       0.97      0.95      0.96        41\n",
            "\n",
            "    accuracy                           0.91       114\n",
            "   macro avg       0.91      0.91      0.91       114\n",
            "weighted avg       0.91      0.91      0.91       114\n",
            "\n",
            "time: 242 ms\n"
          ],
          "name": "stdout"
        }
      ]
    },
    {
      "cell_type": "markdown",
      "metadata": {
        "id": "KFfOLWUHO23E",
        "colab_type": "text"
      },
      "source": [
        "# STEP 6: Test the model on new data"
      ]
    },
    {
      "cell_type": "code",
      "metadata": {
        "id": "BJzVn0GjGDbO",
        "colab_type": "code",
        "colab": {
          "base_uri": "https://localhost:8080/",
          "height": 35
        },
        "outputId": "8107f5cc-3813-48e5-aea1-1402006b65de"
      },
      "source": [
        "image = cv2.imread('images/jc_test.jpeg')\n",
        "output = image.copy()\n",
        "\n",
        "## doing the same pre-processing we did above\n",
        "image = cv2.resize(image, (32, 32))\n",
        "image = image.astype(\"float\") / 255.0\n",
        "image = image.flatten()\n",
        "image = image.reshape((1, image.shape[0]))"
      ],
      "execution_count": 27,
      "outputs": [
        {
          "output_type": "stream",
          "text": [
            "time: 142 ms\n"
          ],
          "name": "stdout"
        }
      ]
    },
    {
      "cell_type": "code",
      "metadata": {
        "id": "E3Nv1JmwQn61",
        "colab_type": "code",
        "colab": {
          "base_uri": "https://localhost:8080/",
          "height": 52
        },
        "outputId": "297c7ff6-2790-4cf5-8d49-cb869e24f1f7"
      },
      "source": [
        "preds = model.predict(image)\n",
        "\n",
        "## take the label with the highest probability\n",
        "i = preds.argmax(axis=1)[0]\n",
        "label = lb.classes_[i]\n",
        "print(label, preds[0][i])"
      ],
      "execution_count": 34,
      "outputs": [
        {
          "output_type": "stream",
          "text": [
            "shirts_tops 0.62997866\n",
            "time: 13.5 ms\n"
          ],
          "name": "stdout"
        }
      ]
    },
    {
      "cell_type": "code",
      "metadata": {
        "id": "Qa2fgYGEQv54",
        "colab_type": "code",
        "colab": {}
      },
      "source": [
        ""
      ],
      "execution_count": 0,
      "outputs": []
    }
  ]
}