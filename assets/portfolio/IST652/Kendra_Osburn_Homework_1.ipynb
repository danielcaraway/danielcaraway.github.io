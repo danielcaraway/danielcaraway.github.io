{
 "cells": [
  {
   "cell_type": "code",
   "execution_count": 1,
   "metadata": {},
   "outputs": [],
   "source": [
    "# MAIN QUESTION: Does number of promotions sent impact \"generosity\"?\n",
    "# To answer this question, we will answer four sub questions:\n",
    "# QUESTION 1: Does number of promotions sent impact the total amount of donations?\n",
    "# QUESTION 2: Does number of promotions sent impact the average amount of donations?\n",
    "# QUESTION 3: Does number of promotions sent impact the time since the last donation?\n",
    "# QUESTION 4: Does number of promotions sent impact the frequency of donations?\n",
    "# -- \n",
    "# QUESTION 5: Does number of promotions sent impact the percent of donations?\n",
    "# NOTE: \"Headings\" and analysis are preceeded by a single octothorp\n",
    "## Code comments & processing steps are preceeded by two octothorpes "
   ]
  },
  {
   "cell_type": "code",
   "execution_count": 26,
   "metadata": {},
   "outputs": [],
   "source": [
    "## STEP 1: Import libraries\n",
    "## We are using pandas for our data frames and matplot lib for our graphs.\n",
    "## Gridspec is used to arrange our graphs\n",
    "\n",
    "import pandas as pd\n",
    "from matplotlib import pyplot as plt\n",
    "import matplotlib.gridspec as gridspec\n",
    "donors = pd.read_csv('donors_data.csv')"
   ]
  },
  {
   "cell_type": "code",
   "execution_count": 4,
   "metadata": {},
   "outputs": [
    {
     "data": {
      "text/html": [
       "<div>\n",
       "<style scoped>\n",
       "    .dataframe tbody tr th:only-of-type {\n",
       "        vertical-align: middle;\n",
       "    }\n",
       "\n",
       "    .dataframe tbody tr th {\n",
       "        vertical-align: top;\n",
       "    }\n",
       "\n",
       "    .dataframe thead th {\n",
       "        text-align: right;\n",
       "    }\n",
       "</style>\n",
       "<table border=\"1\" class=\"dataframe\">\n",
       "  <thead>\n",
       "    <tr style=\"text-align: right;\">\n",
       "      <th></th>\n",
       "      <th>Row Id</th>\n",
       "      <th>Row Id.</th>\n",
       "      <th>zipconvert_2</th>\n",
       "      <th>zipconvert_3</th>\n",
       "      <th>zipconvert_4</th>\n",
       "      <th>zipconvert_5</th>\n",
       "      <th>homeowner dummy</th>\n",
       "      <th>NUMCHLD</th>\n",
       "      <th>INCOME</th>\n",
       "      <th>gender dummy</th>\n",
       "      <th>...</th>\n",
       "      <th>IC15</th>\n",
       "      <th>NUMPROM</th>\n",
       "      <th>RAMNTALL</th>\n",
       "      <th>MAXRAMNT</th>\n",
       "      <th>LASTGIFT</th>\n",
       "      <th>totalmonths</th>\n",
       "      <th>TIMELAG</th>\n",
       "      <th>AVGGIFT</th>\n",
       "      <th>TARGET_B</th>\n",
       "      <th>TARGET_D</th>\n",
       "    </tr>\n",
       "  </thead>\n",
       "  <tbody>\n",
       "    <tr>\n",
       "      <th>0</th>\n",
       "      <td>1</td>\n",
       "      <td>17</td>\n",
       "      <td>0</td>\n",
       "      <td>1</td>\n",
       "      <td>0</td>\n",
       "      <td>0</td>\n",
       "      <td>1</td>\n",
       "      <td>1</td>\n",
       "      <td>5</td>\n",
       "      <td>1</td>\n",
       "      <td>...</td>\n",
       "      <td>1</td>\n",
       "      <td>74</td>\n",
       "      <td>102.0</td>\n",
       "      <td>6.0</td>\n",
       "      <td>5.0</td>\n",
       "      <td>29</td>\n",
       "      <td>3</td>\n",
       "      <td>4.857143</td>\n",
       "      <td>1</td>\n",
       "      <td>5.0</td>\n",
       "    </tr>\n",
       "    <tr>\n",
       "      <th>1</th>\n",
       "      <td>2</td>\n",
       "      <td>25</td>\n",
       "      <td>1</td>\n",
       "      <td>0</td>\n",
       "      <td>0</td>\n",
       "      <td>0</td>\n",
       "      <td>1</td>\n",
       "      <td>1</td>\n",
       "      <td>1</td>\n",
       "      <td>0</td>\n",
       "      <td>...</td>\n",
       "      <td>4</td>\n",
       "      <td>46</td>\n",
       "      <td>94.0</td>\n",
       "      <td>12.0</td>\n",
       "      <td>12.0</td>\n",
       "      <td>34</td>\n",
       "      <td>6</td>\n",
       "      <td>9.400000</td>\n",
       "      <td>1</td>\n",
       "      <td>10.0</td>\n",
       "    </tr>\n",
       "    <tr>\n",
       "      <th>2</th>\n",
       "      <td>3</td>\n",
       "      <td>29</td>\n",
       "      <td>0</td>\n",
       "      <td>0</td>\n",
       "      <td>0</td>\n",
       "      <td>1</td>\n",
       "      <td>0</td>\n",
       "      <td>2</td>\n",
       "      <td>5</td>\n",
       "      <td>1</td>\n",
       "      <td>...</td>\n",
       "      <td>13</td>\n",
       "      <td>32</td>\n",
       "      <td>30.0</td>\n",
       "      <td>10.0</td>\n",
       "      <td>5.0</td>\n",
       "      <td>29</td>\n",
       "      <td>7</td>\n",
       "      <td>4.285714</td>\n",
       "      <td>1</td>\n",
       "      <td>5.0</td>\n",
       "    </tr>\n",
       "    <tr>\n",
       "      <th>3</th>\n",
       "      <td>4</td>\n",
       "      <td>38</td>\n",
       "      <td>0</td>\n",
       "      <td>0</td>\n",
       "      <td>0</td>\n",
       "      <td>1</td>\n",
       "      <td>1</td>\n",
       "      <td>1</td>\n",
       "      <td>3</td>\n",
       "      <td>0</td>\n",
       "      <td>...</td>\n",
       "      <td>4</td>\n",
       "      <td>94</td>\n",
       "      <td>177.0</td>\n",
       "      <td>10.0</td>\n",
       "      <td>8.0</td>\n",
       "      <td>30</td>\n",
       "      <td>3</td>\n",
       "      <td>7.080000</td>\n",
       "      <td>0</td>\n",
       "      <td>0.0</td>\n",
       "    </tr>\n",
       "    <tr>\n",
       "      <th>4</th>\n",
       "      <td>5</td>\n",
       "      <td>40</td>\n",
       "      <td>0</td>\n",
       "      <td>1</td>\n",
       "      <td>0</td>\n",
       "      <td>0</td>\n",
       "      <td>1</td>\n",
       "      <td>1</td>\n",
       "      <td>4</td>\n",
       "      <td>0</td>\n",
       "      <td>...</td>\n",
       "      <td>7</td>\n",
       "      <td>20</td>\n",
       "      <td>23.0</td>\n",
       "      <td>11.0</td>\n",
       "      <td>11.0</td>\n",
       "      <td>30</td>\n",
       "      <td>6</td>\n",
       "      <td>7.666667</td>\n",
       "      <td>0</td>\n",
       "      <td>0.0</td>\n",
       "    </tr>\n",
       "  </tbody>\n",
       "</table>\n",
       "<p>5 rows × 24 columns</p>\n",
       "</div>"
      ],
      "text/plain": [
       "   Row Id  Row Id.  zipconvert_2  zipconvert_3  zipconvert_4  zipconvert_5  \\\n",
       "0       1       17             0             1             0             0   \n",
       "1       2       25             1             0             0             0   \n",
       "2       3       29             0             0             0             1   \n",
       "3       4       38             0             0             0             1   \n",
       "4       5       40             0             1             0             0   \n",
       "\n",
       "   homeowner dummy  NUMCHLD  INCOME  gender dummy  ...  IC15  NUMPROM  \\\n",
       "0                1        1       5             1  ...     1       74   \n",
       "1                1        1       1             0  ...     4       46   \n",
       "2                0        2       5             1  ...    13       32   \n",
       "3                1        1       3             0  ...     4       94   \n",
       "4                1        1       4             0  ...     7       20   \n",
       "\n",
       "   RAMNTALL  MAXRAMNT  LASTGIFT  totalmonths  TIMELAG   AVGGIFT  TARGET_B  \\\n",
       "0     102.0       6.0       5.0           29        3  4.857143         1   \n",
       "1      94.0      12.0      12.0           34        6  9.400000         1   \n",
       "2      30.0      10.0       5.0           29        7  4.285714         1   \n",
       "3     177.0      10.0       8.0           30        3  7.080000         0   \n",
       "4      23.0      11.0      11.0           30        6  7.666667         0   \n",
       "\n",
       "   TARGET_D  \n",
       "0       5.0  \n",
       "1      10.0  \n",
       "2       5.0  \n",
       "3       0.0  \n",
       "4       0.0  \n",
       "\n",
       "[5 rows x 24 columns]"
      ]
     },
     "execution_count": 4,
     "metadata": {},
     "output_type": "execute_result"
    }
   ],
   "source": [
    "## STEP 2: Examine and clean data\n",
    "donors.head()"
   ]
  },
  {
   "cell_type": "code",
   "execution_count": 5,
   "metadata": {},
   "outputs": [
    {
     "data": {
      "text/html": [
       "<div>\n",
       "<style scoped>\n",
       "    .dataframe tbody tr th:only-of-type {\n",
       "        vertical-align: middle;\n",
       "    }\n",
       "\n",
       "    .dataframe tbody tr th {\n",
       "        vertical-align: top;\n",
       "    }\n",
       "\n",
       "    .dataframe thead th {\n",
       "        text-align: right;\n",
       "    }\n",
       "</style>\n",
       "<table border=\"1\" class=\"dataframe\">\n",
       "  <thead>\n",
       "    <tr style=\"text-align: right;\">\n",
       "      <th></th>\n",
       "      <th>Row Id</th>\n",
       "      <th>Row Id.</th>\n",
       "      <th>zipconvert_2</th>\n",
       "      <th>zipconvert_3</th>\n",
       "      <th>zipconvert_4</th>\n",
       "      <th>zipconvert_5</th>\n",
       "      <th>homeowner dummy</th>\n",
       "      <th>NUMCHLD</th>\n",
       "      <th>INCOME</th>\n",
       "      <th>gender dummy</th>\n",
       "      <th>...</th>\n",
       "      <th>IC15</th>\n",
       "      <th>NUMPROM</th>\n",
       "      <th>RAMNTALL</th>\n",
       "      <th>MAXRAMNT</th>\n",
       "      <th>LASTGIFT</th>\n",
       "      <th>totalmonths</th>\n",
       "      <th>TIMELAG</th>\n",
       "      <th>AVGGIFT</th>\n",
       "      <th>TARGET_B</th>\n",
       "      <th>TARGET_D</th>\n",
       "    </tr>\n",
       "  </thead>\n",
       "  <tbody>\n",
       "    <tr>\n",
       "      <th>count</th>\n",
       "      <td>3120.000000</td>\n",
       "      <td>3120.000000</td>\n",
       "      <td>3120.000000</td>\n",
       "      <td>3120.000000</td>\n",
       "      <td>3120.000000</td>\n",
       "      <td>3120.000000</td>\n",
       "      <td>3120.000000</td>\n",
       "      <td>3120.000000</td>\n",
       "      <td>3120.000000</td>\n",
       "      <td>3120.000000</td>\n",
       "      <td>...</td>\n",
       "      <td>3120.000000</td>\n",
       "      <td>3120.000000</td>\n",
       "      <td>3120.000000</td>\n",
       "      <td>3120.000000</td>\n",
       "      <td>3120.000000</td>\n",
       "      <td>3120.000000</td>\n",
       "      <td>3120.000000</td>\n",
       "      <td>3120.000000</td>\n",
       "      <td>3120.00000</td>\n",
       "      <td>3120.000000</td>\n",
       "    </tr>\n",
       "    <tr>\n",
       "      <th>mean</th>\n",
       "      <td>1560.500000</td>\n",
       "      <td>11615.770833</td>\n",
       "      <td>0.214423</td>\n",
       "      <td>0.185256</td>\n",
       "      <td>0.214423</td>\n",
       "      <td>0.384615</td>\n",
       "      <td>0.770192</td>\n",
       "      <td>1.069231</td>\n",
       "      <td>3.893910</td>\n",
       "      <td>0.609295</td>\n",
       "      <td>...</td>\n",
       "      <td>14.702885</td>\n",
       "      <td>49.089423</td>\n",
       "      <td>110.399875</td>\n",
       "      <td>16.651397</td>\n",
       "      <td>13.522917</td>\n",
       "      <td>31.136859</td>\n",
       "      <td>6.861859</td>\n",
       "      <td>10.690713</td>\n",
       "      <td>0.50000</td>\n",
       "      <td>6.499612</td>\n",
       "    </tr>\n",
       "    <tr>\n",
       "      <th>std</th>\n",
       "      <td>900.810746</td>\n",
       "      <td>6698.678131</td>\n",
       "      <td>0.410487</td>\n",
       "      <td>0.388568</td>\n",
       "      <td>0.410487</td>\n",
       "      <td>0.486582</td>\n",
       "      <td>0.420777</td>\n",
       "      <td>0.347688</td>\n",
       "      <td>1.636186</td>\n",
       "      <td>0.487987</td>\n",
       "      <td>...</td>\n",
       "      <td>12.079882</td>\n",
       "      <td>22.717130</td>\n",
       "      <td>147.299933</td>\n",
       "      <td>22.223521</td>\n",
       "      <td>10.581439</td>\n",
       "      <td>4.132952</td>\n",
       "      <td>5.561209</td>\n",
       "      <td>7.443980</td>\n",
       "      <td>0.50008</td>\n",
       "      <td>10.597849</td>\n",
       "    </tr>\n",
       "    <tr>\n",
       "      <th>min</th>\n",
       "      <td>1.000000</td>\n",
       "      <td>17.000000</td>\n",
       "      <td>0.000000</td>\n",
       "      <td>0.000000</td>\n",
       "      <td>0.000000</td>\n",
       "      <td>0.000000</td>\n",
       "      <td>0.000000</td>\n",
       "      <td>1.000000</td>\n",
       "      <td>1.000000</td>\n",
       "      <td>0.000000</td>\n",
       "      <td>...</td>\n",
       "      <td>0.000000</td>\n",
       "      <td>11.000000</td>\n",
       "      <td>15.000000</td>\n",
       "      <td>5.000000</td>\n",
       "      <td>0.000000</td>\n",
       "      <td>17.000000</td>\n",
       "      <td>0.000000</td>\n",
       "      <td>2.138889</td>\n",
       "      <td>0.00000</td>\n",
       "      <td>0.000000</td>\n",
       "    </tr>\n",
       "    <tr>\n",
       "      <th>25%</th>\n",
       "      <td>780.750000</td>\n",
       "      <td>5820.750000</td>\n",
       "      <td>0.000000</td>\n",
       "      <td>0.000000</td>\n",
       "      <td>0.000000</td>\n",
       "      <td>0.000000</td>\n",
       "      <td>1.000000</td>\n",
       "      <td>1.000000</td>\n",
       "      <td>3.000000</td>\n",
       "      <td>0.000000</td>\n",
       "      <td>...</td>\n",
       "      <td>5.000000</td>\n",
       "      <td>29.000000</td>\n",
       "      <td>45.000000</td>\n",
       "      <td>10.000000</td>\n",
       "      <td>7.000000</td>\n",
       "      <td>29.000000</td>\n",
       "      <td>3.000000</td>\n",
       "      <td>6.356092</td>\n",
       "      <td>0.00000</td>\n",
       "      <td>0.000000</td>\n",
       "    </tr>\n",
       "    <tr>\n",
       "      <th>50%</th>\n",
       "      <td>1560.500000</td>\n",
       "      <td>11735.500000</td>\n",
       "      <td>0.000000</td>\n",
       "      <td>0.000000</td>\n",
       "      <td>0.000000</td>\n",
       "      <td>0.000000</td>\n",
       "      <td>1.000000</td>\n",
       "      <td>1.000000</td>\n",
       "      <td>4.000000</td>\n",
       "      <td>1.000000</td>\n",
       "      <td>...</td>\n",
       "      <td>12.000000</td>\n",
       "      <td>48.000000</td>\n",
       "      <td>81.000000</td>\n",
       "      <td>15.000000</td>\n",
       "      <td>10.000000</td>\n",
       "      <td>31.000000</td>\n",
       "      <td>5.000000</td>\n",
       "      <td>9.000000</td>\n",
       "      <td>0.50000</td>\n",
       "      <td>0.500000</td>\n",
       "    </tr>\n",
       "    <tr>\n",
       "      <th>75%</th>\n",
       "      <td>2340.250000</td>\n",
       "      <td>17435.750000</td>\n",
       "      <td>0.000000</td>\n",
       "      <td>0.000000</td>\n",
       "      <td>0.000000</td>\n",
       "      <td>1.000000</td>\n",
       "      <td>1.000000</td>\n",
       "      <td>1.000000</td>\n",
       "      <td>5.000000</td>\n",
       "      <td>1.000000</td>\n",
       "      <td>...</td>\n",
       "      <td>21.000000</td>\n",
       "      <td>65.000000</td>\n",
       "      <td>134.625000</td>\n",
       "      <td>20.000000</td>\n",
       "      <td>16.000000</td>\n",
       "      <td>34.000000</td>\n",
       "      <td>9.000000</td>\n",
       "      <td>12.811652</td>\n",
       "      <td>1.00000</td>\n",
       "      <td>10.000000</td>\n",
       "    </tr>\n",
       "    <tr>\n",
       "      <th>max</th>\n",
       "      <td>3120.000000</td>\n",
       "      <td>23293.000000</td>\n",
       "      <td>1.000000</td>\n",
       "      <td>1.000000</td>\n",
       "      <td>1.000000</td>\n",
       "      <td>1.000000</td>\n",
       "      <td>1.000000</td>\n",
       "      <td>5.000000</td>\n",
       "      <td>7.000000</td>\n",
       "      <td>1.000000</td>\n",
       "      <td>...</td>\n",
       "      <td>90.000000</td>\n",
       "      <td>157.000000</td>\n",
       "      <td>5674.900000</td>\n",
       "      <td>1000.000000</td>\n",
       "      <td>219.000000</td>\n",
       "      <td>37.000000</td>\n",
       "      <td>77.000000</td>\n",
       "      <td>122.166667</td>\n",
       "      <td>1.00000</td>\n",
       "      <td>200.000000</td>\n",
       "    </tr>\n",
       "  </tbody>\n",
       "</table>\n",
       "<p>8 rows × 24 columns</p>\n",
       "</div>"
      ],
      "text/plain": [
       "            Row Id       Row Id.  zipconvert_2  zipconvert_3  zipconvert_4  \\\n",
       "count  3120.000000   3120.000000   3120.000000   3120.000000   3120.000000   \n",
       "mean   1560.500000  11615.770833      0.214423      0.185256      0.214423   \n",
       "std     900.810746   6698.678131      0.410487      0.388568      0.410487   \n",
       "min       1.000000     17.000000      0.000000      0.000000      0.000000   \n",
       "25%     780.750000   5820.750000      0.000000      0.000000      0.000000   \n",
       "50%    1560.500000  11735.500000      0.000000      0.000000      0.000000   \n",
       "75%    2340.250000  17435.750000      0.000000      0.000000      0.000000   \n",
       "max    3120.000000  23293.000000      1.000000      1.000000      1.000000   \n",
       "\n",
       "       zipconvert_5  homeowner dummy      NUMCHLD       INCOME  gender dummy  \\\n",
       "count   3120.000000      3120.000000  3120.000000  3120.000000   3120.000000   \n",
       "mean       0.384615         0.770192     1.069231     3.893910      0.609295   \n",
       "std        0.486582         0.420777     0.347688     1.636186      0.487987   \n",
       "min        0.000000         0.000000     1.000000     1.000000      0.000000   \n",
       "25%        0.000000         1.000000     1.000000     3.000000      0.000000   \n",
       "50%        0.000000         1.000000     1.000000     4.000000      1.000000   \n",
       "75%        1.000000         1.000000     1.000000     5.000000      1.000000   \n",
       "max        1.000000         1.000000     5.000000     7.000000      1.000000   \n",
       "\n",
       "       ...         IC15      NUMPROM     RAMNTALL     MAXRAMNT     LASTGIFT  \\\n",
       "count  ...  3120.000000  3120.000000  3120.000000  3120.000000  3120.000000   \n",
       "mean   ...    14.702885    49.089423   110.399875    16.651397    13.522917   \n",
       "std    ...    12.079882    22.717130   147.299933    22.223521    10.581439   \n",
       "min    ...     0.000000    11.000000    15.000000     5.000000     0.000000   \n",
       "25%    ...     5.000000    29.000000    45.000000    10.000000     7.000000   \n",
       "50%    ...    12.000000    48.000000    81.000000    15.000000    10.000000   \n",
       "75%    ...    21.000000    65.000000   134.625000    20.000000    16.000000   \n",
       "max    ...    90.000000   157.000000  5674.900000  1000.000000   219.000000   \n",
       "\n",
       "       totalmonths      TIMELAG      AVGGIFT    TARGET_B     TARGET_D  \n",
       "count  3120.000000  3120.000000  3120.000000  3120.00000  3120.000000  \n",
       "mean     31.136859     6.861859    10.690713     0.50000     6.499612  \n",
       "std       4.132952     5.561209     7.443980     0.50008    10.597849  \n",
       "min      17.000000     0.000000     2.138889     0.00000     0.000000  \n",
       "25%      29.000000     3.000000     6.356092     0.00000     0.000000  \n",
       "50%      31.000000     5.000000     9.000000     0.50000     0.500000  \n",
       "75%      34.000000     9.000000    12.811652     1.00000    10.000000  \n",
       "max      37.000000    77.000000   122.166667     1.00000   200.000000  \n",
       "\n",
       "[8 rows x 24 columns]"
      ]
     },
     "execution_count": 5,
     "metadata": {},
     "output_type": "execute_result"
    }
   ],
   "source": [
    "donors.describe()"
   ]
  },
  {
   "cell_type": "code",
   "execution_count": 23,
   "metadata": {},
   "outputs": [],
   "source": [
    "## \"Remove rows\" we do not need by creating a new data frame with only the data we want\n",
    "## Used this opportunity to rename these haphazard variable names\n",
    "## Added a '_d' to variables that arrived already discretized "
   ]
  },
  {
   "cell_type": "code",
   "execution_count": 24,
   "metadata": {},
   "outputs": [],
   "source": [
    "donors_cleaned = pd.concat([donors['homeowner dummy'], \n",
    "                  donors['NUMCHLD'],\n",
    "                  donors['INCOME'], \n",
    "                  donors['gender dummy'],\n",
    "                  donors['WEALTH'],\n",
    "                  donors['HV'],\n",
    "                  donors['Icmed'],\n",
    "                  donors['Icavg'],\n",
    "                  donors['IC15'],\n",
    "                  donors['NUMPROM'], \n",
    "                  donors['RAMNTALL'], \n",
    "                  donors['MAXRAMNT'], \n",
    "                  donors['LASTGIFT'], \n",
    "                  donors['totalmonths'], \n",
    "                  donors['TIMELAG'], \n",
    "                  donors['AVGGIFT']\n",
    "                 ], \n",
    "                 axis=1, \n",
    "                 keys=['homeowner', \n",
    "                       'numchildren',\n",
    "                       'income_d',\n",
    "                       'gender',\n",
    "                       'wealth_d', \n",
    "                       'homevalue',\n",
    "                       'income_med', \n",
    "                       'income_avg',\n",
    "                       'lowincome_perc',\n",
    "                       'numpromos', \n",
    "                       'donations_total', \n",
    "                       'donations_max', \n",
    "                       'donations_last', \n",
    "                       'donations_months_since_last', \n",
    "                       'donations_months_between_first_second', \n",
    "                       'donations_avg'])"
   ]
  },
  {
   "cell_type": "code",
   "execution_count": 27,
   "metadata": {},
   "outputs": [
    {
     "data": {
      "text/html": [
       "<div>\n",
       "<style scoped>\n",
       "    .dataframe tbody tr th:only-of-type {\n",
       "        vertical-align: middle;\n",
       "    }\n",
       "\n",
       "    .dataframe tbody tr th {\n",
       "        vertical-align: top;\n",
       "    }\n",
       "\n",
       "    .dataframe thead th {\n",
       "        text-align: right;\n",
       "    }\n",
       "</style>\n",
       "<table border=\"1\" class=\"dataframe\">\n",
       "  <thead>\n",
       "    <tr style=\"text-align: right;\">\n",
       "      <th></th>\n",
       "      <th>homeowner</th>\n",
       "      <th>numchildren</th>\n",
       "      <th>income_d</th>\n",
       "      <th>gender</th>\n",
       "      <th>wealth_d</th>\n",
       "      <th>homevalue</th>\n",
       "      <th>income_med</th>\n",
       "      <th>income_avg</th>\n",
       "      <th>lowincome_perc</th>\n",
       "      <th>numpromos</th>\n",
       "      <th>donations_total</th>\n",
       "      <th>donations_max</th>\n",
       "      <th>donations_last</th>\n",
       "      <th>donations_months_since_last</th>\n",
       "      <th>donations_months_between_first_second</th>\n",
       "      <th>donations_avg</th>\n",
       "    </tr>\n",
       "  </thead>\n",
       "  <tbody>\n",
       "    <tr>\n",
       "      <th>count</th>\n",
       "      <td>3120.000000</td>\n",
       "      <td>3120.000000</td>\n",
       "      <td>3120.000000</td>\n",
       "      <td>3120.000000</td>\n",
       "      <td>3120.000000</td>\n",
       "      <td>3120.000000</td>\n",
       "      <td>3120.000000</td>\n",
       "      <td>3120.000000</td>\n",
       "      <td>3120.000000</td>\n",
       "      <td>3120.000000</td>\n",
       "      <td>3120.000000</td>\n",
       "      <td>3120.000000</td>\n",
       "      <td>3120.000000</td>\n",
       "      <td>3120.000000</td>\n",
       "      <td>3120.000000</td>\n",
       "      <td>3120.000000</td>\n",
       "    </tr>\n",
       "    <tr>\n",
       "      <th>mean</th>\n",
       "      <td>0.770192</td>\n",
       "      <td>1.069231</td>\n",
       "      <td>3.893910</td>\n",
       "      <td>0.609295</td>\n",
       "      <td>6.402244</td>\n",
       "      <td>1141.361859</td>\n",
       "      <td>388.217308</td>\n",
       "      <td>432.088141</td>\n",
       "      <td>14.702885</td>\n",
       "      <td>49.089423</td>\n",
       "      <td>110.399875</td>\n",
       "      <td>16.651397</td>\n",
       "      <td>13.522917</td>\n",
       "      <td>31.136859</td>\n",
       "      <td>6.861859</td>\n",
       "      <td>10.690713</td>\n",
       "    </tr>\n",
       "    <tr>\n",
       "      <th>std</th>\n",
       "      <td>0.420777</td>\n",
       "      <td>0.347688</td>\n",
       "      <td>1.636186</td>\n",
       "      <td>0.487987</td>\n",
       "      <td>2.539978</td>\n",
       "      <td>946.642162</td>\n",
       "      <td>172.815950</td>\n",
       "      <td>168.195104</td>\n",
       "      <td>12.079882</td>\n",
       "      <td>22.717130</td>\n",
       "      <td>147.299933</td>\n",
       "      <td>22.223521</td>\n",
       "      <td>10.581439</td>\n",
       "      <td>4.132952</td>\n",
       "      <td>5.561209</td>\n",
       "      <td>7.443980</td>\n",
       "    </tr>\n",
       "    <tr>\n",
       "      <th>min</th>\n",
       "      <td>0.000000</td>\n",
       "      <td>1.000000</td>\n",
       "      <td>1.000000</td>\n",
       "      <td>0.000000</td>\n",
       "      <td>0.000000</td>\n",
       "      <td>0.000000</td>\n",
       "      <td>0.000000</td>\n",
       "      <td>0.000000</td>\n",
       "      <td>0.000000</td>\n",
       "      <td>11.000000</td>\n",
       "      <td>15.000000</td>\n",
       "      <td>5.000000</td>\n",
       "      <td>0.000000</td>\n",
       "      <td>17.000000</td>\n",
       "      <td>0.000000</td>\n",
       "      <td>2.138889</td>\n",
       "    </tr>\n",
       "    <tr>\n",
       "      <th>25%</th>\n",
       "      <td>1.000000</td>\n",
       "      <td>1.000000</td>\n",
       "      <td>3.000000</td>\n",
       "      <td>0.000000</td>\n",
       "      <td>5.000000</td>\n",
       "      <td>556.000000</td>\n",
       "      <td>278.000000</td>\n",
       "      <td>318.000000</td>\n",
       "      <td>5.000000</td>\n",
       "      <td>29.000000</td>\n",
       "      <td>45.000000</td>\n",
       "      <td>10.000000</td>\n",
       "      <td>7.000000</td>\n",
       "      <td>29.000000</td>\n",
       "      <td>3.000000</td>\n",
       "      <td>6.356092</td>\n",
       "    </tr>\n",
       "    <tr>\n",
       "      <th>50%</th>\n",
       "      <td>1.000000</td>\n",
       "      <td>1.000000</td>\n",
       "      <td>4.000000</td>\n",
       "      <td>1.000000</td>\n",
       "      <td>8.000000</td>\n",
       "      <td>822.000000</td>\n",
       "      <td>356.000000</td>\n",
       "      <td>396.000000</td>\n",
       "      <td>12.000000</td>\n",
       "      <td>48.000000</td>\n",
       "      <td>81.000000</td>\n",
       "      <td>15.000000</td>\n",
       "      <td>10.000000</td>\n",
       "      <td>31.000000</td>\n",
       "      <td>5.000000</td>\n",
       "      <td>9.000000</td>\n",
       "    </tr>\n",
       "    <tr>\n",
       "      <th>75%</th>\n",
       "      <td>1.000000</td>\n",
       "      <td>1.000000</td>\n",
       "      <td>5.000000</td>\n",
       "      <td>1.000000</td>\n",
       "      <td>8.000000</td>\n",
       "      <td>1338.750000</td>\n",
       "      <td>465.000000</td>\n",
       "      <td>516.000000</td>\n",
       "      <td>21.000000</td>\n",
       "      <td>65.000000</td>\n",
       "      <td>134.625000</td>\n",
       "      <td>20.000000</td>\n",
       "      <td>16.000000</td>\n",
       "      <td>34.000000</td>\n",
       "      <td>9.000000</td>\n",
       "      <td>12.811652</td>\n",
       "    </tr>\n",
       "    <tr>\n",
       "      <th>max</th>\n",
       "      <td>1.000000</td>\n",
       "      <td>5.000000</td>\n",
       "      <td>7.000000</td>\n",
       "      <td>1.000000</td>\n",
       "      <td>9.000000</td>\n",
       "      <td>5945.000000</td>\n",
       "      <td>1500.000000</td>\n",
       "      <td>1331.000000</td>\n",
       "      <td>90.000000</td>\n",
       "      <td>157.000000</td>\n",
       "      <td>5674.900000</td>\n",
       "      <td>1000.000000</td>\n",
       "      <td>219.000000</td>\n",
       "      <td>37.000000</td>\n",
       "      <td>77.000000</td>\n",
       "      <td>122.166667</td>\n",
       "    </tr>\n",
       "  </tbody>\n",
       "</table>\n",
       "</div>"
      ],
      "text/plain": [
       "         homeowner  numchildren     income_d       gender     wealth_d  \\\n",
       "count  3120.000000  3120.000000  3120.000000  3120.000000  3120.000000   \n",
       "mean      0.770192     1.069231     3.893910     0.609295     6.402244   \n",
       "std       0.420777     0.347688     1.636186     0.487987     2.539978   \n",
       "min       0.000000     1.000000     1.000000     0.000000     0.000000   \n",
       "25%       1.000000     1.000000     3.000000     0.000000     5.000000   \n",
       "50%       1.000000     1.000000     4.000000     1.000000     8.000000   \n",
       "75%       1.000000     1.000000     5.000000     1.000000     8.000000   \n",
       "max       1.000000     5.000000     7.000000     1.000000     9.000000   \n",
       "\n",
       "         homevalue   income_med   income_avg  lowincome_perc    numpromos  \\\n",
       "count  3120.000000  3120.000000  3120.000000     3120.000000  3120.000000   \n",
       "mean   1141.361859   388.217308   432.088141       14.702885    49.089423   \n",
       "std     946.642162   172.815950   168.195104       12.079882    22.717130   \n",
       "min       0.000000     0.000000     0.000000        0.000000    11.000000   \n",
       "25%     556.000000   278.000000   318.000000        5.000000    29.000000   \n",
       "50%     822.000000   356.000000   396.000000       12.000000    48.000000   \n",
       "75%    1338.750000   465.000000   516.000000       21.000000    65.000000   \n",
       "max    5945.000000  1500.000000  1331.000000       90.000000   157.000000   \n",
       "\n",
       "       donations_total  donations_max  donations_last  \\\n",
       "count      3120.000000    3120.000000     3120.000000   \n",
       "mean        110.399875      16.651397       13.522917   \n",
       "std         147.299933      22.223521       10.581439   \n",
       "min          15.000000       5.000000        0.000000   \n",
       "25%          45.000000      10.000000        7.000000   \n",
       "50%          81.000000      15.000000       10.000000   \n",
       "75%         134.625000      20.000000       16.000000   \n",
       "max        5674.900000    1000.000000      219.000000   \n",
       "\n",
       "       donations_months_since_last  donations_months_between_first_second  \\\n",
       "count                  3120.000000                            3120.000000   \n",
       "mean                     31.136859                               6.861859   \n",
       "std                       4.132952                               5.561209   \n",
       "min                      17.000000                               0.000000   \n",
       "25%                      29.000000                               3.000000   \n",
       "50%                      31.000000                               5.000000   \n",
       "75%                      34.000000                               9.000000   \n",
       "max                      37.000000                              77.000000   \n",
       "\n",
       "       donations_avg  \n",
       "count    3120.000000  \n",
       "mean       10.690713  \n",
       "std         7.443980  \n",
       "min         2.138889  \n",
       "25%         6.356092  \n",
       "50%         9.000000  \n",
       "75%        12.811652  \n",
       "max       122.166667  "
      ]
     },
     "execution_count": 27,
     "metadata": {},
     "output_type": "execute_result"
    }
   ],
   "source": [
    "donors_cleaned.describe()"
   ]
  },
  {
   "cell_type": "code",
   "execution_count": 29,
   "metadata": {},
   "outputs": [
    {
     "data": {
      "image/png": "[encoded data removed]",
      "text/plain": [
       "<Figure size 432x288 with 1 Axes>"
      ]
     },
     "metadata": {
      "needs_background": "light"
     },
     "output_type": "display_data"
    }
   ],
   "source": [
    "# QUESTION 1: Does number of promotions sent impact the total amount of donations?\n",
    "# To answer this question, we need:\n",
    "# 1 -- the total number of promotions\n",
    "# 2 -- the total amount of donations\n",
    "plt.plot(donors_cleaned.numpromos, donors_cleaned.donations_total, 'o')\n",
    "plt.title('Number of Promotions vs Amount of Donations')\n",
    "plt.xlabel('Promotions')\n",
    "plt.ylabel('Total Donation Amount')\n",
    "plt.show()"
   ]
  },
  {
   "cell_type": "code",
   "execution_count": 31,
   "metadata": {},
   "outputs": [
    {
     "data": {
      "image/png": "[encoded data removed]",
      "text/plain": [
       "<Figure size 432x288 with 1 Axes>"
      ]
     },
     "metadata": {
      "needs_background": "light"
     },
     "output_type": "display_data"
    }
   ],
   "source": [
    "# That looks like a pretty big outlier \n",
    "# We should take note of this outlier and then remove it so it doesn't skew the rest of the analysis\n",
    "plt.boxplot(donors_cleaned.donations_total)\n",
    "plt.show()"
   ]
  },
  {
   "cell_type": "code",
   "execution_count": 32,
   "metadata": {},
   "outputs": [],
   "source": [
    "# Testing before I make a big change\n",
    "test = donors_cleaned"
   ]
  },
  {
   "cell_type": "code",
   "execution_count": 43,
   "metadata": {},
   "outputs": [],
   "source": [
    "# Only adding items to the df if the donations total is < 250\n",
    "test = donors_cleaned[donors_cleaned.donations_total < 2500]"
   ]
  },
  {
   "cell_type": "code",
   "execution_count": 45,
   "metadata": {},
   "outputs": [
    {
     "data": {
      "image/png": "[encoded data removed]",
      "text/plain": [
       "<Figure size 432x288 with 1 Axes>"
      ]
     },
     "metadata": {
      "needs_background": "light"
     },
     "output_type": "display_data"
    }
   ],
   "source": [
    "# Re-examining our boxplot\n",
    "plt.boxplot(test.donations_total)\n",
    "plt.show()"
   ]
  },
  {
   "cell_type": "code",
   "execution_count": 47,
   "metadata": {},
   "outputs": [
    {
     "data": {
      "image/png": "[encoded data removed]",
      "text/plain": [
       "<Figure size 432x288 with 1 Axes>"
      ]
     },
     "metadata": {
      "needs_background": "light"
     },
     "output_type": "display_data"
    }
   ],
   "source": [
    "# Still some big outliers\n",
    "# Settled on 1000 as that is a nice clean \"donation-esque\" number\n",
    "test = donors_cleaned[donors_cleaned.donations_total <= 1000]\n",
    "plt.boxplot(test.donations_total)\n",
    "plt.show()"
   ]
  },
  {
   "cell_type": "code",
   "execution_count": 48,
   "metadata": {},
   "outputs": [
    {
     "data": {
      "text/plain": [
       "homeowner                                3114\n",
       "numchildren                              3114\n",
       "income_d                                 3114\n",
       "gender                                   3114\n",
       "wealth_d                                 3114\n",
       "homevalue                                3114\n",
       "income_med                               3114\n",
       "income_avg                               3114\n",
       "lowincome_perc                           3114\n",
       "numpromos                                3114\n",
       "donations_total                          3114\n",
       "donations_max                            3114\n",
       "donations_last                           3114\n",
       "donations_months_since_last              3114\n",
       "donations_months_between_first_second    3114\n",
       "donations_avg                            3114\n",
       "dtype: int64"
      ]
     },
     "execution_count": 48,
     "metadata": {},
     "output_type": "execute_result"
    }
   ],
   "source": [
    "# Confirming we still have a good dataset\n",
    "test.count()"
   ]
  },
  {
   "cell_type": "code",
   "execution_count": 49,
   "metadata": {},
   "outputs": [],
   "source": [
    "# Reassigning our variable\n",
    "donors_cleaned = test"
   ]
  },
  {
   "cell_type": "code",
   "execution_count": 50,
   "metadata": {},
   "outputs": [
    {
     "data": {
      "text/plain": [
       "homeowner                                3114\n",
       "numchildren                              3114\n",
       "income_d                                 3114\n",
       "gender                                   3114\n",
       "wealth_d                                 3114\n",
       "homevalue                                3114\n",
       "income_med                               3114\n",
       "income_avg                               3114\n",
       "lowincome_perc                           3114\n",
       "numpromos                                3114\n",
       "donations_total                          3114\n",
       "donations_max                            3114\n",
       "donations_last                           3114\n",
       "donations_months_since_last              3114\n",
       "donations_months_between_first_second    3114\n",
       "donations_avg                            3114\n",
       "dtype: int64"
      ]
     },
     "execution_count": 50,
     "metadata": {},
     "output_type": "execute_result"
    }
   ],
   "source": [
    "# Verifying it worked\n",
    "donors_cleaned.count()"
   ]
  },
  {
   "cell_type": "code",
   "execution_count": 51,
   "metadata": {},
   "outputs": [
    {
     "data": {
      "image/png": "[encoded data removed]",
      "text/plain": [
       "<Figure size 432x288 with 1 Axes>"
      ]
     },
     "metadata": {
      "needs_background": "light"
     },
     "output_type": "display_data"
    }
   ],
   "source": [
    "# BACK TO OUR ORIGINALLY SCHEDULED PROGRAMMING!!\n",
    "# QUESTION 1: Does number of promotions sent impact the total amount of donations?\n",
    "# To answer this question, we need:\n",
    "# 1 -- the total number of promotions\n",
    "# 2 -- the total amount of donations\n",
    "plt.plot(donors_cleaned.numpromos, donors_cleaned.donations_total, 'o')\n",
    "plt.title('Number of Promotions vs Amount of Donations')\n",
    "plt.xlabel('Promotions')\n",
    "plt.ylabel('Total Donation Amount')\n",
    "plt.show()"
   ]
  },
  {
   "cell_type": "code",
   "execution_count": 52,
   "metadata": {},
   "outputs": [],
   "source": [
    "# This is so much more useful!!\n",
    "# Moving on\n",
    "# I'm sure there is a better way to do this..."
   ]
  },
  {
   "cell_type": "code",
   "execution_count": 54,
   "metadata": {},
   "outputs": [
    {
     "data": {
      "image/png": "[encoded data removed]",
      "text/plain": [
       "<Figure size 432x288 with 1 Axes>"
      ]
     },
     "metadata": {
      "needs_background": "light"
     },
     "output_type": "display_data"
    }
   ],
   "source": [
    "# SIDE QUEST QUESTION: \n",
    "homeowner_yes = donors_cleaned[donors_cleaned.homeowner == 1]\n",
    "homeowner_no = donors_cleaned[donors_cleaned.homeowner == 0]\n",
    "plt.plot(homeowner_yes.numpromos, homeowner_yes.donations_total, 'o')\n",
    "plt.plot(homeowner_no.numpromos, homeowner_no.donations_total, 'o')\n",
    "plt.title('Number of Promotions vs Amount of Donations')\n",
    "plt.xlabel('Promotions')\n",
    "plt.ylabel('Total Donation Amount')\n",
    "plt.show()"
   ]
  },
  {
   "cell_type": "code",
   "execution_count": 55,
   "metadata": {},
   "outputs": [],
   "source": [
    "# QUESTION 2: Does number of promotions sent impact the average amount of donations?\n",
    "# To answer this question, we need:\n",
    "# 1 -- the total number of promotions\n",
    "# 2 -- the average amount of donations"
   ]
  },
  {
   "cell_type": "code",
   "execution_count": 56,
   "metadata": {},
   "outputs": [
    {
     "data": {
      "image/png": "[encoded data removed]",
      "text/plain": [
       "<Figure size 432x288 with 1 Axes>"
      ]
     },
     "metadata": {
      "needs_background": "light"
     },
     "output_type": "display_data"
    }
   ],
   "source": [
    "plt.plot(donors_cleaned.numpromos, donors_cleaned.donations_avg, 'o')\n",
    "plt.title('Number of Promotions vs Average Donation')\n",
    "plt.xlabel('Promotions')\n",
    "plt.ylabel('Average Donation Amount')\n",
    "plt.show()"
   ]
  },
  {
   "cell_type": "code",
   "execution_count": 57,
   "metadata": {},
   "outputs": [],
   "source": [
    "# QUESTION 3: Does number of promotions sent impact the time since the last donation?\n",
    "# To answer this question, we need:\n",
    "# 1 -- the total number of promotions\n",
    "# 2 -- the time since the last donation"
   ]
  },
  {
   "cell_type": "code",
   "execution_count": 58,
   "metadata": {},
   "outputs": [
    {
     "data": {
      "image/png": "[encoded data removed]",
      "text/plain": [
       "<Figure size 432x288 with 1 Axes>"
      ]
     },
     "metadata": {
      "needs_background": "light"
     },
     "output_type": "display_data"
    }
   ],
   "source": [
    "plt.plot(donors_cleaned.numpromos, donors_cleaned.donations_months_since_last, 'o')\n",
    "plt.title('Number of Promotions vs Time Since Donation')\n",
    "plt.xlabel('Promotions')\n",
    "plt.ylabel('Months since last donation')\n",
    "plt.show()"
   ]
  },
  {
   "cell_type": "code",
   "execution_count": null,
   "metadata": {},
   "outputs": [],
   "source": [
    "# QUESTION 3.5: Does number of promotions sent impact the time between first and second donation?\n",
    "# To answer this question, we need:\n",
    "# 1 -- the total number of promotions\n",
    "# 2 -- the between first and second"
   ]
  },
  {
   "cell_type": "code",
   "execution_count": 59,
   "metadata": {},
   "outputs": [
    {
     "data": {
      "image/png": "[encoded data removed]",
      "text/plain": [
       "<Figure size 432x288 with 1 Axes>"
      ]
     },
     "metadata": {
      "needs_background": "light"
     },
     "output_type": "display_data"
    }
   ],
   "source": [
    "plt.plot(donors_cleaned.numpromos, donors_cleaned.donations_months_between_first_second, 'o')\n",
    "plt.title('Number of Promotions vs Time Since Donation')\n",
    "plt.xlabel('Promotions')\n",
    "plt.ylabel('Months since last donation')\n",
    "plt.show()"
   ]
  },
  {
   "cell_type": "code",
   "execution_count": 60,
   "metadata": {},
   "outputs": [],
   "source": [
    "# QUESTION 4: Does number of promotions sent impact the frequency of donations?\n",
    "# To answer this question, we need:\n",
    "# 1 -- the total number of promotions\n",
    "# 2 -- the frequency of donations\n",
    "# - to get the frequency of donations, we need:\n",
    "# -- 2a. The total donations\n",
    "# -- 2b. The average donations "
   ]
  },
  {
   "cell_type": "code",
   "execution_count": 63,
   "metadata": {},
   "outputs": [],
   "source": [
    "donation_frequency = donors_cleaned.donations_total/donors_cleaned.donations_avg"
   ]
  },
  {
   "cell_type": "code",
   "execution_count": 64,
   "metadata": {},
   "outputs": [
    {
     "data": {
      "image/png": "[encoded data removed]",
      "text/plain": [
       "<Figure size 432x288 with 1 Axes>"
      ]
     },
     "metadata": {
      "needs_background": "light"
     },
     "output_type": "display_data"
    }
   ],
   "source": [
    "plt.plot(donors_cleaned.numpromos, donation_frequency, 'o')\n",
    "plt.title('Number of Promotions vs Donation Frequency')\n",
    "plt.xlabel('Promotions')\n",
    "plt.ylabel('Donation Frequency')\n",
    "plt.show()"
   ]
  },
  {
   "cell_type": "code",
   "execution_count": null,
   "metadata": {},
   "outputs": [],
   "source": []
  }
 ],
 "metadata": {
  "kernelspec": {
   "display_name": "Python 3",
   "language": "python",
   "name": "python3"
  },
  "language_info": {
   "codemirror_mode": {
    "name": "ipython",
    "version": 3
   },
   "file_extension": ".py",
   "mimetype": "text/x-python",
   "name": "python",
   "nbconvert_exporter": "python",
   "pygments_lexer": "ipython3",
   "version": "3.7.3"
  }
 },
 "nbformat": 4,
 "nbformat_minor": 2
}
