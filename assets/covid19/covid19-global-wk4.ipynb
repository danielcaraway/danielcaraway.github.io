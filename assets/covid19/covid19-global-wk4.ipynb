{
 "cells": [
  {
   "cell_type": "code",
   "execution_count": 1,
   "metadata": {
    "_cell_guid": "b1076dfc-b9ad-4769-8c92-a6c4dae69d19",
    "_uuid": "8f2839f25d086af736a60e9eeb907d3b93b6e0e5"
   },
   "outputs": [
    {
     "name": "stdout",
     "output_type": "stream",
     "text": [
      "/kaggle/input/covid19-global-forecasting-week-4/train.csv\n",
      "/kaggle/input/covid19-global-forecasting-week-4/submission.csv\n",
      "/kaggle/input/covid19-global-forecasting-week-4/test.csv\n"
     ]
    }
   ],
   "source": [
    "# This Python 3 environment comes with many helpful analytics libraries installed\n",
    "# It is defined by the kaggle/python docker image: https://github.com/kaggle/docker-python\n",
    "# For example, here's several helpful packages to load in \n",
    "\n",
    "import numpy as np # linear algebra\n",
    "import pandas as pd # data processing, CSV file I/O (e.g. pd.read_csv)\n",
    "\n",
    "# Input data files are available in the \"../input/\" directory.\n",
    "# For example, running this (by clicking run or pressing Shift+Enter) will list all files under the input directory\n",
    "\n",
    "import os\n",
    "for dirname, _, filenames in os.walk('/kaggle/input'):\n",
    "    for filename in filenames:\n",
    "        print(os.path.join(dirname, filename))\n",
    "\n",
    "# Any results you write to the current directory are saved as output."
   ]
  },
  {
   "cell_type": "code",
   "execution_count": 2,
   "metadata": {
    "_cell_guid": "79c7e3d0-c299-4dcb-8224-4455121ee9b0",
    "_uuid": "d629ff2d2480ee46fbb7e2d37f6b5fab8052498a"
   },
   "outputs": [],
   "source": [
    "train = pd.read_csv('/kaggle/input/covid19-global-forecasting-week-4/train.csv')\n",
    "submission = pd.read_csv('/kaggle/input/covid19-global-forecasting-week-4/submission.csv')\n",
    "test = pd.read_csv('/kaggle/input/covid19-global-forecasting-week-4/test.csv')"
   ]
  },
  {
   "cell_type": "code",
   "execution_count": 3,
   "metadata": {},
   "outputs": [],
   "source": [
    "# SIMPLEST SUBMISSION\n",
    "\n",
    "# merged = pd.merge(test, train, on=[\"Province_State\",\"Country_Region\", \"Date\"], how=\"left\")\n",
    "# m = pd.DataFrame(merged.groupby(['ForecastId'])['ConfirmedCases', 'Fatalities'].sum())\n",
    "# m.reset_index(inplace=True)\n",
    "# sub = m.copy()\n",
    "# sub.to_csv(\"submission.csv\", index=False)"
   ]
  },
  {
   "cell_type": "code",
   "execution_count": 4,
   "metadata": {},
   "outputs": [],
   "source": [
    "# FILL IN COUNTRY IF NO STATE\n",
    "\n",
    "def use_country(state, country):\n",
    "    if pd.isna(state):\n",
    "        return country\n",
    "    else:\n",
    "        return state\n",
    "\n",
    "train['Province_State'] = train.apply(lambda x: use_country(x['Province_State'], x['Country_Region']), axis=1)\n",
    "test['Province_State'] = test.apply(lambda x: use_country(x['Province_State'], x['Country_Region']), axis=1)\n",
    "\n",
    "train['Province_State'].fillna('', inplace=True)\n",
    "test['Province_State'].fillna('', inplace=True)\n",
    "train['Date'] =  pd.to_datetime(train['Date'])\n",
    "test['Date'] =  pd.to_datetime(test['Date'])"
   ]
  },
  {
   "cell_type": "code",
   "execution_count": 5,
   "metadata": {},
   "outputs": [
    {
     "name": "stderr",
     "output_type": "stream",
     "text": [
      "/opt/conda/lib/python3.6/site-packages/ipykernel_launcher.py:19: SettingWithCopyWarning: \n",
      "A value is trying to be set on a copy of a slice from a DataFrame.\n",
      "Try using .loc[row_indexer,col_indexer] = value instead\n",
      "\n",
      "See the caveats in the documentation: http://pandas.pydata.org/pandas-docs/stable/user_guide/indexing.html#returning-a-view-versus-a-copy\n",
      "/opt/conda/lib/python3.6/site-packages/ipykernel_launcher.py:20: SettingWithCopyWarning: \n",
      "A value is trying to be set on a copy of a slice from a DataFrame.\n",
      "Try using .loc[row_indexer,col_indexer] = value instead\n",
      "\n",
      "See the caveats in the documentation: http://pandas.pydata.org/pandas-docs/stable/user_guide/indexing.html#returning-a-view-versus-a-copy\n",
      "/opt/conda/lib/python3.6/site-packages/ipykernel_launcher.py:25: SettingWithCopyWarning: \n",
      "A value is trying to be set on a copy of a slice from a DataFrame.\n",
      "Try using .loc[row_indexer,col_indexer] = value instead\n",
      "\n",
      "See the caveats in the documentation: http://pandas.pydata.org/pandas-docs/stable/user_guide/indexing.html#returning-a-view-versus-a-copy\n",
      "/opt/conda/lib/python3.6/site-packages/ipykernel_launcher.py:26: SettingWithCopyWarning: \n",
      "A value is trying to be set on a copy of a slice from a DataFrame.\n",
      "Try using .loc[row_indexer,col_indexer] = value instead\n",
      "\n",
      "See the caveats in the documentation: http://pandas.pydata.org/pandas-docs/stable/user_guide/indexing.html#returning-a-view-versus-a-copy\n",
      "/opt/conda/lib/python3.6/site-packages/ipykernel_launcher.py:29: SettingWithCopyWarning: \n",
      "A value is trying to be set on a copy of a slice from a DataFrame.\n",
      "Try using .loc[row_indexer,col_indexer] = value instead\n",
      "\n",
      "See the caveats in the documentation: http://pandas.pydata.org/pandas-docs/stable/user_guide/indexing.html#returning-a-view-versus-a-copy\n",
      "/opt/conda/lib/python3.6/site-packages/ipykernel_launcher.py:30: SettingWithCopyWarning: \n",
      "A value is trying to be set on a copy of a slice from a DataFrame.\n",
      "Try using .loc[row_indexer,col_indexer] = value instead\n",
      "\n",
      "See the caveats in the documentation: http://pandas.pydata.org/pandas-docs/stable/user_guide/indexing.html#returning-a-view-versus-a-copy\n",
      "/opt/conda/lib/python3.6/site-packages/ipykernel_launcher.py:11: SettingWithCopyWarning: \n",
      "A value is trying to be set on a copy of a slice from a DataFrame.\n",
      "Try using .loc[row_indexer,col_indexer] = value instead\n",
      "\n",
      "See the caveats in the documentation: http://pandas.pydata.org/pandas-docs/stable/user_guide/indexing.html#returning-a-view-versus-a-copy\n",
      "  # This is added back by InteractiveShellApp.init_path()\n",
      "/opt/conda/lib/python3.6/site-packages/ipykernel_launcher.py:12: SettingWithCopyWarning: \n",
      "A value is trying to be set on a copy of a slice from a DataFrame.\n",
      "Try using .loc[row_indexer,col_indexer] = value instead\n",
      "\n",
      "See the caveats in the documentation: http://pandas.pydata.org/pandas-docs/stable/user_guide/indexing.html#returning-a-view-versus-a-copy\n",
      "  if sys.path[0] == '':\n"
     ]
    }
   ],
   "source": [
    "from xgboost import XGBRegressor \n",
    "\n",
    "df_out = pd.DataFrame({'ForecastId': [], 'ConfirmedCases': [], 'Fatalities': []})\n",
    "\n",
    "# for country in list(set(train['Country_Region']))[:2]:\n",
    "for country in set(train['Country_Region']):\n",
    "  country_df = train[train['Country_Region'] == country]\n",
    "  for state in set(country_df['Province_State']):\n",
    "    df = country_df[country_df['Province_State'] == state]\n",
    "    \n",
    "    df['Date'] = df['Date'].dt.strftime(\"%m%d\")\n",
    "    df['Date'] = df['Date'].astype(int)\n",
    "  \n",
    "    test_df= test[(test['Country_Region'] == country) & (test['Province_State'] == state)]\n",
    "    X_Test_CS_Id = test_df['ForecastId']\n",
    "\n",
    "\n",
    "    # print('****************',X_Test_CS_Id)\n",
    "    test_df['Date'] = test_df['Date'].dt.strftime(\"%m%d\")\n",
    "    test_df['Date'] = test_df['Date'].astype(int)\n",
    "\n",
    "\n",
    "    X_Train_CS = df[['Country_Region', 'Province_State', 'Date']]\n",
    "    \n",
    "    X_Train_CS['Country_Region'] = 0\n",
    "    X_Train_CS['Province_State'] = 0\n",
    "\n",
    "    X_Test_CS = test_df[['Country_Region', 'Province_State', 'Date']]\n",
    "    X_Test_CS['Country_Region'] = 0\n",
    "    X_Test_CS['Province_State'] = 0\n",
    "\n",
    "    y1_Train_CS = df['ConfirmedCases']\n",
    "    y2_Train_CS = df['Fatalities']\n",
    "    \n",
    "    model1 = XGBRegressor(n_estimators=1000)\n",
    "    model1.fit(X_Train_CS, y1_Train_CS)\n",
    "    y1_pred = model1.predict(X_Test_CS)\n",
    "    # print(y1_pred)\n",
    "\n",
    "    model2 = XGBRegressor(n_estimators=1000)\n",
    "    model2.fit(X_Train_CS, y2_Train_CS)\n",
    "    y2_pred = model2.predict(X_Test_CS)\n",
    "\n",
    "    df = pd.DataFrame({'ForecastId': X_Test_CS_Id, 'ConfirmedCases': y1_pred, 'Fatalities': y2_pred})\n",
    "    df_out = pd.concat([df_out, df], axis=0)"
   ]
  },
  {
   "cell_type": "code",
   "execution_count": 6,
   "metadata": {},
   "outputs": [],
   "source": [
    "df_out.ForecastId = df_out.ForecastId.astype('int')\n",
    "df_out.tail()\n",
    "\n",
    "df_out.to_csv('submission.csv', index=False)"
   ]
  },
  {
   "cell_type": "code",
   "execution_count": null,
   "metadata": {},
   "outputs": [],
   "source": []
  }
 ],
 "metadata": {
  "kernelspec": {
   "display_name": "Python 3",
   "language": "python",
   "name": "python3"
  },
  "language_info": {
   "codemirror_mode": {
    "name": "ipython",
    "version": 3
   },
   "file_extension": ".py",
   "mimetype": "text/x-python",
   "name": "python",
   "nbconvert_exporter": "python",
   "pygments_lexer": "ipython3",
   "version": "3.6.6"
  }
 },
 "nbformat": 4,
 "nbformat_minor": 4
}
