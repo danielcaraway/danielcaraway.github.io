{
  "nbformat": 4,
  "nbformat_minor": 0,
  "metadata": {
    "colab": {
      "name": "PROJECT_COVID19_V2.ipynb",
      "provenance": [],
      "collapsed_sections": []
    },
    "kernelspec": {
      "name": "python3",
      "display_name": "Python 3"
    }
  },
  "cells": [
    {
      "cell_type": "markdown",
      "metadata": {
        "id": "Qk-tC6SrXCkD",
        "colab_type": "text"
      },
      "source": [
        ""
      ]
    },
    {
      "cell_type": "markdown",
      "metadata": {
        "id": "YGx6lPsBXHmr",
        "colab_type": "text"
      },
      "source": [
        "# STEP 1: GET THAT DATA"
      ]
    },
    {
      "cell_type": "code",
      "metadata": {
        "id": "PJxM2DtlWxKE",
        "colab_type": "code",
        "colab": {}
      },
      "source": [
        "import pandas as pd\n",
        "import numpy as np\n",
        "from fbprophet import Prophet \n",
        "df_train = pd.read_csv('https://raw.githubusercontent.com/danielcaraway/data/master/covid19_0324/ca_train.csv')\n",
        "df_test = pd.read_csv('https://raw.githubusercontent.com/danielcaraway/data/master/covid19_0324/ca_test.csv')\n",
        "df_sub = pd.read_csv('https://raw.githubusercontent.com/danielcaraway/data/master/covid19_0324/ca_submission.csv')"
      ],
      "execution_count": 0,
      "outputs": []
    },
    {
      "cell_type": "markdown",
      "metadata": {
        "id": "ohahR059XKYO",
        "colab_type": "text"
      },
      "source": [
        "# STEP 2: CLEAN THAT DATA\n",
        "* For this round, we're only going to take data with confirmed cases"
      ]
    },
    {
      "cell_type": "code",
      "metadata": {
        "id": "mNuNHfEjW_u8",
        "colab_type": "code",
        "colab": {}
      },
      "source": [
        "df_train = df_train[df_train['ConfirmedCases'] > 0]"
      ],
      "execution_count": 0,
      "outputs": []
    },
    {
      "cell_type": "code",
      "metadata": {
        "id": "ywWYsz58XdlO",
        "colab_type": "code",
        "colab": {
          "base_uri": "https://localhost:8080/",
          "height": 296
        },
        "outputId": "e117f101-463d-4559-db32-992bb9663f67"
      },
      "source": [
        "import seaborn as sns\n",
        "sns.lineplot(df_train['Date'], df_train['ConfirmedCases'])"
      ],
      "execution_count": 15,
      "outputs": [
        {
          "output_type": "execute_result",
          "data": {
            "text/plain": [
              "<matplotlib.axes._subplots.AxesSubplot at 0x7f191dea4048>"
            ]
          },
          "metadata": {
            "tags": []
          },
          "execution_count": 15
        },
        {
          "output_type": "display_data",
          "data": {
            "image/png": "[encoded data removed]",
            "text/plain": [
              "<Figure size 432x288 with 1 Axes>"
            ]
          },
          "metadata": {
            "tags": []
          }
        }
      ]
    },
    {
      "cell_type": "code",
      "metadata": {
        "id": "hMZYJn7EXnxp",
        "colab_type": "code",
        "colab": {
          "base_uri": "https://localhost:8080/",
          "height": 296
        },
        "outputId": "93067c04-7a92-479c-eca1-6ff9796ced30"
      },
      "source": [
        "sns.regplot(df_train['Id'], np.log(df_train['ConfirmedCases']))"
      ],
      "execution_count": 41,
      "outputs": [
        {
          "output_type": "execute_result",
          "data": {
            "text/plain": [
              "<matplotlib.axes._subplots.AxesSubplot at 0x7f191aa5ff28>"
            ]
          },
          "metadata": {
            "tags": []
          },
          "execution_count": 41
        },
        {
          "output_type": "display_data",
          "data": {
            "image/png": "[encoded data removed]",
            "text/plain": [
              "<Figure size 432x288 with 1 Axes>"
            ]
          },
          "metadata": {
            "tags": []
          }
        }
      ]
    },
    {
      "cell_type": "markdown",
      "metadata": {
        "id": "QGNF_RP-Y5qF",
        "colab_type": "text"
      },
      "source": [
        "# STEP 3: MODEL THAT DATA"
      ]
    },
    {
      "cell_type": "markdown",
      "metadata": {
        "id": "Ryjza3Kkahjb",
        "colab_type": "text"
      },
      "source": [
        "## 3A: `ConfirmedCases`"
      ]
    },
    {
      "cell_type": "code",
      "metadata": {
        "id": "C3SaZ8zMYg4l",
        "colab_type": "code",
        "colab": {}
      },
      "source": [
        "from sklearn.linear_model import LinearRegression\n",
        "model_lr = LinearRegression()"
      ],
      "execution_count": 0,
      "outputs": []
    },
    {
      "cell_type": "markdown",
      "metadata": {
        "id": "4_pGq0t2aDiK",
        "colab_type": "text"
      },
      "source": [
        "### X = `Id`; y = `ConfirmedCases`"
      ]
    },
    {
      "cell_type": "code",
      "metadata": {
        "id": "Y-riUuNzZPZ9",
        "colab_type": "code",
        "colab": {
          "base_uri": "https://localhost:8080/",
          "height": 35
        },
        "outputId": "3131acb3-b247-46cd-948b-aa1fa5b22b2d"
      },
      "source": [
        "X = np.array(df_train['Id']).reshape(-1,1)\n",
        "y = df_train['ConfirmedCases']\n",
        "model_lr.fit(X,y)\n",
        "print('R2', model_lr.score(X,y))"
      ],
      "execution_count": 22,
      "outputs": [
        {
          "output_type": "stream",
          "text": [
            "R2 0.8856238923259411\n"
          ],
          "name": "stdout"
        }
      ]
    },
    {
      "cell_type": "markdown",
      "metadata": {
        "id": "Hpy4HWPYaQ61",
        "colab_type": "text"
      },
      "source": [
        "### X = `Id`; y = log(`ConfirmedCases`)"
      ]
    },
    {
      "cell_type": "code",
      "metadata": {
        "id": "ngW0sMXCZShP",
        "colab_type": "code",
        "colab": {
          "base_uri": "https://localhost:8080/",
          "height": 35
        },
        "outputId": "2ddbe55c-c093-44b9-c5b5-478f5fef9b0f"
      },
      "source": [
        "X = np.array(df_train['Id']).reshape(-1,1)\n",
        "y = np.log(df_train['ConfirmedCases'])\n",
        "model_lr.fit(X,y)\n",
        "print('R2', model_lr.score(X,y))"
      ],
      "execution_count": 23,
      "outputs": [
        {
          "output_type": "stream",
          "text": [
            "R2 0.9973927213202164\n"
          ],
          "name": "stdout"
        }
      ]
    },
    {
      "cell_type": "markdown",
      "metadata": {
        "id": "yvP6orgKam9D",
        "colab_type": "text"
      },
      "source": [
        "## 3B: `Fatalities`"
      ]
    },
    {
      "cell_type": "code",
      "metadata": {
        "id": "S2h-VYtkZVtJ",
        "colab_type": "code",
        "colab": {
          "base_uri": "https://localhost:8080/",
          "height": 35
        },
        "outputId": "e77f7040-328b-4e32-8bc2-06ba9af6a3af"
      },
      "source": [
        "X = np.array(df_train['Id']).reshape(-1,1)\n",
        "y = df_train['Fatalities']\n",
        "model_lr.fit(X,y)\n",
        "print('R2', model_lr.score(X,y))"
      ],
      "execution_count": 26,
      "outputs": [
        {
          "output_type": "stream",
          "text": [
            "R2 0.8583373309028113\n"
          ],
          "name": "stdout"
        }
      ]
    },
    {
      "cell_type": "code",
      "metadata": {
        "id": "uXEiz3-ubBYX",
        "colab_type": "code",
        "colab": {
          "base_uri": "https://localhost:8080/",
          "height": 35
        },
        "outputId": "7f244191-eaf4-41a1-ad4d-0960cf438156"
      },
      "source": [
        "X = np.array(df_train['Id']).reshape(-1,1)\n",
        "y = np.log(df_train['Fatalities'])\n",
        "model_lr.fit(X,y)\n",
        "print('R2', model_lr.score(X,y))"
      ],
      "execution_count": 25,
      "outputs": [
        {
          "output_type": "stream",
          "text": [
            "R2 0.9898087710418456\n"
          ],
          "name": "stdout"
        }
      ]
    },
    {
      "cell_type": "markdown",
      "metadata": {
        "id": "Dh9OkLbCbSf-",
        "colab_type": "text"
      },
      "source": [
        "## 3C: Confirmed Cases v Fatalities"
      ]
    },
    {
      "cell_type": "code",
      "metadata": {
        "id": "JgpsR2AqbHmQ",
        "colab_type": "code",
        "colab": {
          "base_uri": "https://localhost:8080/",
          "height": 35
        },
        "outputId": "a4342935-d125-4167-ddf1-bcf811fdb67d"
      },
      "source": [
        "X = np.array(df_train['ConfirmedCases']).reshape(-1,1)\n",
        "y = df_train['Fatalities']\n",
        "model_lr.fit(X,y)\n",
        "print('R2', model_lr.score(X,y))"
      ],
      "execution_count": 27,
      "outputs": [
        {
          "output_type": "stream",
          "text": [
            "R2 0.9939565255603854\n"
          ],
          "name": "stdout"
        }
      ]
    },
    {
      "cell_type": "code",
      "metadata": {
        "id": "tAWRIh0obahv",
        "colab_type": "code",
        "colab": {
          "base_uri": "https://localhost:8080/",
          "height": 35
        },
        "outputId": "c0353876-cd25-4cbb-a80b-f130f3a51aba"
      },
      "source": [
        "X = np.array(np.log(df_train['ConfirmedCases'])).reshape(-1,1)\n",
        "y = np.log(df_train['Fatalities'])\n",
        "model_lr.fit(X,y)\n",
        "print('R2', model_lr.score(X,y))"
      ],
      "execution_count": 29,
      "outputs": [
        {
          "output_type": "stream",
          "text": [
            "R2 0.987548984456668\n"
          ],
          "name": "stdout"
        }
      ]
    },
    {
      "cell_type": "markdown",
      "metadata": {
        "id": "W2KGYWMKbynz",
        "colab_type": "text"
      },
      "source": [
        "## STEP 4: Pick Best Models"
      ]
    },
    {
      "cell_type": "code",
      "metadata": {
        "id": "R4awNTI_beXA",
        "colab_type": "code",
        "colab": {
          "base_uri": "https://localhost:8080/",
          "height": 35
        },
        "outputId": "72e27540-eb4f-412b-e45e-81ff893f4583"
      },
      "source": [
        "cc_model = LinearRegression() # cc = Confirmed Count\n",
        "X = np.array(df_train['Id']).reshape(-1,1)\n",
        "y = np.log(df_train['ConfirmedCases'])\n",
        "cc_model.fit(X,y)\n",
        "print('R2', cc_model.score(X,y))"
      ],
      "execution_count": 33,
      "outputs": [
        {
          "output_type": "stream",
          "text": [
            "R2 0.9973927213202164\n"
          ],
          "name": "stdout"
        }
      ]
    },
    {
      "cell_type": "code",
      "metadata": {
        "id": "gHXmZEhwcAze",
        "colab_type": "code",
        "colab": {
          "base_uri": "https://localhost:8080/",
          "height": 35
        },
        "outputId": "c0186068-5cbc-48a3-aa31-1f52b22c216e"
      },
      "source": [
        "fc_model = LinearRegression() # fc = Fatality Count\n",
        "X = np.array(df_train['ConfirmedCases']).reshape(-1,1)\n",
        "y = df_train['Fatalities']\n",
        "fc_model.fit(X,y)\n",
        "print('R2', fc_model.score(X,y))"
      ],
      "execution_count": 35,
      "outputs": [
        {
          "output_type": "stream",
          "text": [
            "R2 0.9939565255603854\n"
          ],
          "name": "stdout"
        }
      ]
    },
    {
      "cell_type": "code",
      "metadata": {
        "id": "LxWNXTRQcPdy",
        "colab_type": "code",
        "colab": {
          "base_uri": "https://localhost:8080/",
          "height": 191
        },
        "outputId": "0117fa5d-ac6c-4b5f-bcc3-ad80a42576b2"
      },
      "source": [
        "df_test.head()"
      ],
      "execution_count": 36,
      "outputs": [
        {
          "output_type": "execute_result",
          "data": {
            "text/html": [
              "<div>\n",
              "<style scoped>\n",
              "    .dataframe tbody tr th:only-of-type {\n",
              "        vertical-align: middle;\n",
              "    }\n",
              "\n",
              "    .dataframe tbody tr th {\n",
              "        vertical-align: top;\n",
              "    }\n",
              "\n",
              "    .dataframe thead th {\n",
              "        text-align: right;\n",
              "    }\n",
              "</style>\n",
              "<table border=\"1\" class=\"dataframe\">\n",
              "  <thead>\n",
              "    <tr style=\"text-align: right;\">\n",
              "      <th></th>\n",
              "      <th>ForecastId</th>\n",
              "      <th>Province/State</th>\n",
              "      <th>Country/Region</th>\n",
              "      <th>Lat</th>\n",
              "      <th>Long</th>\n",
              "      <th>Date</th>\n",
              "    </tr>\n",
              "  </thead>\n",
              "  <tbody>\n",
              "    <tr>\n",
              "      <th>0</th>\n",
              "      <td>1</td>\n",
              "      <td>California</td>\n",
              "      <td>US</td>\n",
              "      <td>36.1162</td>\n",
              "      <td>-119.6816</td>\n",
              "      <td>2020-03-12</td>\n",
              "    </tr>\n",
              "    <tr>\n",
              "      <th>1</th>\n",
              "      <td>2</td>\n",
              "      <td>California</td>\n",
              "      <td>US</td>\n",
              "      <td>36.1162</td>\n",
              "      <td>-119.6816</td>\n",
              "      <td>2020-03-13</td>\n",
              "    </tr>\n",
              "    <tr>\n",
              "      <th>2</th>\n",
              "      <td>3</td>\n",
              "      <td>California</td>\n",
              "      <td>US</td>\n",
              "      <td>36.1162</td>\n",
              "      <td>-119.6816</td>\n",
              "      <td>2020-03-14</td>\n",
              "    </tr>\n",
              "    <tr>\n",
              "      <th>3</th>\n",
              "      <td>4</td>\n",
              "      <td>California</td>\n",
              "      <td>US</td>\n",
              "      <td>36.1162</td>\n",
              "      <td>-119.6816</td>\n",
              "      <td>2020-03-15</td>\n",
              "    </tr>\n",
              "    <tr>\n",
              "      <th>4</th>\n",
              "      <td>5</td>\n",
              "      <td>California</td>\n",
              "      <td>US</td>\n",
              "      <td>36.1162</td>\n",
              "      <td>-119.6816</td>\n",
              "      <td>2020-03-16</td>\n",
              "    </tr>\n",
              "  </tbody>\n",
              "</table>\n",
              "</div>"
            ],
            "text/plain": [
              "   ForecastId Province/State Country/Region      Lat      Long        Date\n",
              "0           1     California             US  36.1162 -119.6816  2020-03-12\n",
              "1           2     California             US  36.1162 -119.6816  2020-03-13\n",
              "2           3     California             US  36.1162 -119.6816  2020-03-14\n",
              "3           4     California             US  36.1162 -119.6816  2020-03-15\n",
              "4           5     California             US  36.1162 -119.6816  2020-03-16"
            ]
          },
          "metadata": {
            "tags": []
          },
          "execution_count": 36
        }
      ]
    },
    {
      "cell_type": "code",
      "metadata": {
        "id": "cMV3s_PGc7a-",
        "colab_type": "code",
        "colab": {}
      },
      "source": [
        ""
      ],
      "execution_count": 0,
      "outputs": []
    }
  ]
}