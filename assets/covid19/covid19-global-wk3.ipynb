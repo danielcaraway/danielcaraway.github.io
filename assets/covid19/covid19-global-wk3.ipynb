{
 "cells": [
  {
   "cell_type": "code",
   "execution_count": 1,
   "metadata": {
    "_cell_guid": "b1076dfc-b9ad-4769-8c92-a6c4dae69d19",
    "_uuid": "8f2839f25d086af736a60e9eeb907d3b93b6e0e5"
   },
   "outputs": [
    {
     "name": "stdout",
     "output_type": "stream",
     "text": [
      "/kaggle/input/submission-prophet/submission_prophet.csv\n",
      "/kaggle/input/covid19-global-forecasting-week-3/train.csv\n",
      "/kaggle/input/covid19-global-forecasting-week-3/submission.csv\n",
      "/kaggle/input/covid19-global-forecasting-week-3/test.csv\n"
     ]
    }
   ],
   "source": [
    "# This Python 3 environment comes with many helpful analytics libraries installed\n",
    "# It is defined by the kaggle/python docker image: https://github.com/kaggle/docker-python\n",
    "# For example, here's several helpful packages to load in \n",
    "\n",
    "import numpy as np # linear algebra\n",
    "import pandas as pd # data processing, CSV file I/O (e.g. pd.read_csv)\n",
    "\n",
    "# Input data files are available in the \"../input/\" directory.\n",
    "# For example, running this (by clicking run or pressing Shift+Enter) will list all files under the input directory\n",
    "\n",
    "import os\n",
    "for dirname, _, filenames in os.walk('/kaggle/input'):\n",
    "    for filename in filenames:\n",
    "        print(os.path.join(dirname, filename))\n",
    "\n",
    "# Any results you write to the current directory are saved as output."
   ]
  },
  {
   "cell_type": "code",
   "execution_count": 2,
   "metadata": {
    "_cell_guid": "79c7e3d0-c299-4dcb-8224-4455121ee9b0",
    "_uuid": "d629ff2d2480ee46fbb7e2d37f6b5fab8052498a"
   },
   "outputs": [],
   "source": [
    "train_file = \"/kaggle/input/covid19-global-forecasting-week-3/train.csv\"\n",
    "sub_file = \"/kaggle/input/covid19-global-forecasting-week-3/submission.csv\"\n",
    "test_file = \"/kaggle/input/covid19-global-forecasting-week-3/test.csv\""
   ]
  },
  {
   "cell_type": "code",
   "execution_count": 3,
   "metadata": {},
   "outputs": [],
   "source": [
    "train = pd.read_csv(train_file)\n",
    "test = pd.read_csv(test_file)\n",
    "sub = pd.read_csv(sub_file)"
   ]
  },
  {
   "cell_type": "code",
   "execution_count": 4,
   "metadata": {},
   "outputs": [],
   "source": [
    "# def use_country(state, country):\n",
    "#     if pd.isna(state):\n",
    "#         return country\n",
    "#     else:\n",
    "#         return state\n",
    "\n",
    "# train['Province_State'] = train.apply(lambda x: use_country(x['Province_State'], x['Country_Region']), axis=1)\n",
    "# test['Province_State'] = test.apply(lambda x: use_country(x['Province_State'], x['Country_Region']), axis=1)"
   ]
  },
  {
   "cell_type": "code",
   "execution_count": 5,
   "metadata": {},
   "outputs": [],
   "source": [
    "# train['Province_State'].fillna('', inplace=True)\n",
    "# test['Province_State'].fillna('', inplace=True)\n",
    "# train['Date'] =  pd.to_datetime(train['Date'])\n",
    "# test['Date'] =  pd.to_datetime(test['Date'])\n",
    "# train = train.sort_values(['Country_Region','Province_State','Date'])\n",
    "# test = test.sort_values(['Country_Region','Province_State','Date'])\n",
    "# train[['ConfirmedCases', 'Fatalities']] = train.groupby(['Country_Region', 'Province_State'])[['ConfirmedCases', 'Fatalities']].transform('cummax') "
   ]
  },
  {
   "cell_type": "code",
   "execution_count": 6,
   "metadata": {},
   "outputs": [],
   "source": [
    "# from sklearn.linear_model import LinearRegression, BayesianRidge\n",
    "# from sklearn.preprocessing import PolynomialFeatures\n",
    "# from sklearn.pipeline import make_pipeline"
   ]
  },
  {
   "cell_type": "code",
   "execution_count": 7,
   "metadata": {},
   "outputs": [],
   "source": [
    "# from tqdm import tqdm\n",
    "\n",
    "# def RMSLE(pred,actual):\n",
    "#     return np.sqrt(np.mean(np.power((np.log(pred+1)-np.log(actual+1)),2)))\n",
    "\n",
    "# import warnings\n",
    "# from statsmodels.tsa.statespace.sarimax import SARIMAX\n",
    "# from statsmodels.tsa.arima_model import ARIMA\n",
    "\n",
    "# feature_day = [1,5,25,50,75,100,150,200]\n",
    "# def CreateInput(data):\n",
    "#     feature = []\n",
    "#     for day in feature_day:\n",
    "#         #Get information in train data\n",
    "#         data.loc[:,'Number day from ' + str(day) + ' case'] = 0\n",
    "#         if (train[(train['Country_Region'] == country) & (train['Province_State'] == province) & (train['ConfirmedCases'] < day)]['Date'].count() > 0):\n",
    "#             fromday = train[(train['Country_Region'] == country) & (train['Province_State'] == province) & (train['ConfirmedCases'] < day)]['Date'].max()        \n",
    "#         else:\n",
    "#             fromday = train[(train['Country_Region'] == country) & (train['Province_State'] == province)]['Date'].min()       \n",
    "#         for i in range(0, len(data)):\n",
    "#             if (data['Date'].iloc[i] > fromday):\n",
    "#                 day_denta = data['Date'].iloc[i] - fromday\n",
    "#                 data['Number day from ' + str(day) + ' case'].iloc[i] = day_denta.days \n",
    "#         feature = feature + ['Number day from ' + str(day) + ' case']\n",
    "    \n",
    "#     return data[feature]\n",
    "# pred_data_all = pd.DataFrame()\n",
    "# with tqdm(total=len(train['Country_Region'].unique())) as pbar:\n",
    "#     for country in train['Country_Region'].unique():\n",
    "#     #for country in ['Vietnam']:\n",
    "#         for province in train[(train['Country_Region'] == country)]['Province_State'].unique():\n",
    "#             with warnings.catch_warnings():\n",
    "#                 warnings.filterwarnings(\"ignore\")\n",
    "#                 df_train = train[(train['Country_Region'] == country) & (train['Province_State'] == province)]\n",
    "#                 df_test = test[(test['Country_Region'] == country) & (test['Province_State'] == province)]\n",
    "#                 X_train = CreateInput(df_train)\n",
    "#                 y_train_confirmed = df_train['ConfirmedCases'].ravel()\n",
    "#                 y_train_fatalities = df_train['Fatalities'].ravel()\n",
    "#                 X_pred = CreateInput(df_test)\n",
    "\n",
    "#                 feature_use = X_pred.columns[0]\n",
    "#                 for i in range(X_pred.shape[1] - 1,0,-1):\n",
    "#                     if (X_pred.iloc[0,i] > 0):\n",
    "#                         feature_use = X_pred.columns[i]\n",
    "#                         break\n",
    "#                 idx = X_train[X_train[feature_use] == 0].shape[0] \n",
    "\n",
    "                \n",
    "#                 adjusted_X_train = X_train[idx:][feature_use].values.reshape(-1, 1)\n",
    "#                 adjusted_y_train_confirmed = y_train_confirmed[idx:]\n",
    "#                 adjusted_y_train_fatalities = y_train_fatalities[idx:] #.values.reshape(-1, 1)\n",
    "#                 idx = X_pred[X_pred[feature_use] == 0].shape[0]    \n",
    "#                 adjusted_X_pred = X_pred[idx:][feature_use].values.reshape(-1, 1)\n",
    "\n",
    "                \n",
    "                \n",
    "#                 pred_data = test[(test['Country_Region'] == country) & (test['Province_State'] == province)]\n",
    "#                 max_train_date = train[(train['Country_Region'] == country) & (train['Province_State'] == province)]['Date'].max()\n",
    "#                 min_test_date = pred_data['Date'].min()\n",
    "#                 model = SARIMAX(adjusted_y_train_confirmed, order=(1,1,0), \n",
    "#                                 #seasonal_order=(1,1,0,12),\n",
    "#                                 measurement_error=True).fit(disp=False)\n",
    "                \n",
    "                \n",
    "                \n",
    "#                 y_hat_confirmed = model.forecast(pred_data[pred_data['Date'] > max_train_date].shape[0])\n",
    "#                 y_train_confirmed = train[(train['Country_Region'] == country) & (train['Province_State'] == province) & (train['Date'] >=  min_test_date)]['ConfirmedCases'].values\n",
    "#                 y_hat_confirmed = np.concatenate((y_train_confirmed,y_hat_confirmed), axis = 0)\n",
    "#                 model = SARIMAX(adjusted_y_train_fatalities, order=(1,1,0), \n",
    "#                                 #seasonal_order=(1,1,0,12),\n",
    "#                                 measurement_error=True).fit(disp=False)\n",
    "                \n",
    "                \n",
    "                \n",
    "#                 y_hat_fatalities = model.forecast(pred_data[pred_data['Date'] > max_train_date].shape[0])\n",
    "#                 y_train_fatalities = train[(train['Country_Region'] == country) & (train['Province_State'] == province) & (train['Date'] >=  min_test_date)]['Fatalities'].values\n",
    "#                 y_hat_fatalities = np.concatenate((y_train_fatalities,y_hat_fatalities), axis = 0)\n",
    "#                 pred_data['ConfirmedCases_hat'] =  y_hat_confirmed\n",
    "#                 pred_data['Fatalities_hat'] = y_hat_fatalities\n",
    "#                 pred_data_all = pred_data_all.append(pred_data)\n",
    "#         pbar.update(1)\n",
    "# df_val = pd.merge(pred_data_all,train[['Date','Country_Region','Province_State','ConfirmedCases','Fatalities']],on=['Date','Country_Region','Province_State'], how='left')\n",
    "# df_val.loc[df_val['Fatalities_hat'] < 0,'Fatalities_hat'] = 0\n",
    "# df_val.loc[df_val['ConfirmedCases_hat'] < 0,'ConfirmedCases_hat'] = 0\n",
    "# df_val_3 = df_val.copy()"
   ]
  },
  {
   "cell_type": "code",
   "execution_count": 8,
   "metadata": {},
   "outputs": [],
   "source": [
    "# df_val = df_val_3\n",
    "# submission = df_val[['ForecastId','ConfirmedCases_hat','Fatalities_hat']]\n",
    "# submission.columns = ['ForecastId','ConfirmedCases','Fatalities']\n",
    "# submission = submission.round({'ConfirmedCases': 0, 'Fatalities': 0})\n",
    "# submission.to_csv('submission.csv', index=False)\n",
    "# submission"
   ]
  },
  {
   "cell_type": "code",
   "execution_count": 9,
   "metadata": {},
   "outputs": [],
   "source": [
    "prophet = pd.read_csv('/kaggle/input/submission-prophet/submission_prophet.csv')"
   ]
  },
  {
   "cell_type": "code",
   "execution_count": 10,
   "metadata": {},
   "outputs": [
    {
     "data": {
      "text/html": [
       "<div>\n",
       "<style scoped>\n",
       "    .dataframe tbody tr th:only-of-type {\n",
       "        vertical-align: middle;\n",
       "    }\n",
       "\n",
       "    .dataframe tbody tr th {\n",
       "        vertical-align: top;\n",
       "    }\n",
       "\n",
       "    .dataframe thead th {\n",
       "        text-align: right;\n",
       "    }\n",
       "</style>\n",
       "<table border=\"1\" class=\"dataframe\">\n",
       "  <thead>\n",
       "    <tr style=\"text-align: right;\">\n",
       "      <th></th>\n",
       "      <th>ForecastId</th>\n",
       "      <th>ConfirmedCases</th>\n",
       "      <th>Fatalities</th>\n",
       "    </tr>\n",
       "  </thead>\n",
       "  <tbody>\n",
       "    <tr>\n",
       "      <th>0</th>\n",
       "      <td>1</td>\n",
       "      <td>209.299217</td>\n",
       "      <td>3.179487</td>\n",
       "    </tr>\n",
       "    <tr>\n",
       "      <th>1</th>\n",
       "      <td>2</td>\n",
       "      <td>216.207390</td>\n",
       "      <td>3.577285</td>\n",
       "    </tr>\n",
       "    <tr>\n",
       "      <th>2</th>\n",
       "      <td>3</td>\n",
       "      <td>223.115815</td>\n",
       "      <td>3.975121</td>\n",
       "    </tr>\n",
       "    <tr>\n",
       "      <th>3</th>\n",
       "      <td>4</td>\n",
       "      <td>230.024239</td>\n",
       "      <td>4.372970</td>\n",
       "    </tr>\n",
       "    <tr>\n",
       "      <th>4</th>\n",
       "      <td>5</td>\n",
       "      <td>236.932664</td>\n",
       "      <td>4.770819</td>\n",
       "    </tr>\n",
       "    <tr>\n",
       "      <th>...</th>\n",
       "      <td>...</td>\n",
       "      <td>...</td>\n",
       "      <td>...</td>\n",
       "    </tr>\n",
       "    <tr>\n",
       "      <th>13153</th>\n",
       "      <td>13154</td>\n",
       "      <td>23.242448</td>\n",
       "      <td>2.009881</td>\n",
       "    </tr>\n",
       "    <tr>\n",
       "      <th>13154</th>\n",
       "      <td>13155</td>\n",
       "      <td>23.768728</td>\n",
       "      <td>2.054925</td>\n",
       "    </tr>\n",
       "    <tr>\n",
       "      <th>13155</th>\n",
       "      <td>13156</td>\n",
       "      <td>24.295008</td>\n",
       "      <td>2.099970</td>\n",
       "    </tr>\n",
       "    <tr>\n",
       "      <th>13156</th>\n",
       "      <td>13157</td>\n",
       "      <td>24.821288</td>\n",
       "      <td>2.145015</td>\n",
       "    </tr>\n",
       "    <tr>\n",
       "      <th>13157</th>\n",
       "      <td>13158</td>\n",
       "      <td>25.347567</td>\n",
       "      <td>2.190060</td>\n",
       "    </tr>\n",
       "  </tbody>\n",
       "</table>\n",
       "<p>13158 rows × 3 columns</p>\n",
       "</div>"
      ],
      "text/plain": [
       "       ForecastId  ConfirmedCases  Fatalities\n",
       "0               1      209.299217    3.179487\n",
       "1               2      216.207390    3.577285\n",
       "2               3      223.115815    3.975121\n",
       "3               4      230.024239    4.372970\n",
       "4               5      236.932664    4.770819\n",
       "...           ...             ...         ...\n",
       "13153       13154       23.242448    2.009881\n",
       "13154       13155       23.768728    2.054925\n",
       "13155       13156       24.295008    2.099970\n",
       "13156       13157       24.821288    2.145015\n",
       "13157       13158       25.347567    2.190060\n",
       "\n",
       "[13158 rows x 3 columns]"
      ]
     },
     "execution_count": 10,
     "metadata": {},
     "output_type": "execute_result"
    }
   ],
   "source": [
    "prophet"
   ]
  },
  {
   "cell_type": "code",
   "execution_count": null,
   "metadata": {},
   "outputs": [],
   "source": []
  },
  {
   "cell_type": "code",
   "execution_count": 11,
   "metadata": {},
   "outputs": [],
   "source": [
    "prophet = prophet.fillna(0)"
   ]
  },
  {
   "cell_type": "code",
   "execution_count": 12,
   "metadata": {},
   "outputs": [],
   "source": [
    "prophet.to_csv('submission.csv', index=False)"
   ]
  },
  {
   "cell_type": "code",
   "execution_count": null,
   "metadata": {},
   "outputs": [],
   "source": []
  }
 ],
 "metadata": {
  "kernelspec": {
   "display_name": "Python 3",
   "language": "python",
   "name": "python3"
  },
  "language_info": {
   "codemirror_mode": {
    "name": "ipython",
    "version": 3
   },
   "file_extension": ".py",
   "mimetype": "text/x-python",
   "name": "python",
   "nbconvert_exporter": "python",
   "pygments_lexer": "ipython3",
   "version": "3.6.6"
  }
 },
 "nbformat": 4,
 "nbformat_minor": 4
}
