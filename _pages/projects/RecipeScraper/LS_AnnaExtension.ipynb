{
 "cells": [
  {
   "cell_type": "code",
   "execution_count": 12,
   "metadata": {},
   "outputs": [],
   "source": [
    "import requests\n",
    "from bs4 import BeautifulSoup\n",
    "import re\n",
    "import pandas as pd"
   ]
  },
  {
   "cell_type": "markdown",
   "metadata": {},
   "source": [
    "# V1: Take 5 recipes from the same blog. Aggregate ingredients (but not combine)"
   ]
  },
  {
   "cell_type": "code",
   "execution_count": 49,
   "metadata": {},
   "outputs": [],
   "source": [
    "# df = pd.read_csv('minimalistbaker_links.csv')\n",
    "# df = pd.read_csv('skinnytaste_links.csv')\n",
    "# df = pd.read_csv('halfbakedharvest_links.csv')"
   ]
  },
  {
   "cell_type": "markdown",
   "metadata": {},
   "source": [
    "## Unfortunately, the below doesn't work for HBH, so here is a workaround"
   ]
  },
  {
   "cell_type": "code",
   "execution_count": 125,
   "metadata": {},
   "outputs": [
    {
     "name": "stdout",
     "output_type": "stream",
     "text": [
      "Found the word \"wprmpuc_recipe_\" 1 times\n"
     ]
    }
   ],
   "source": [
    "# ===============================================\n",
    "# HBH WORKAROUND\n",
    "# Also doesn't work for pinch of yum\n",
    "# NOPE url = \"https://pinchofyum.com/30-minute-vegetarian-meatballs\"\n",
    "# ===============================================\n",
    "\n",
    "import json\n",
    "\n",
    "url = \"https://www.halfbakedharvest.com/one-pan-four-cheese-sun-dried-tomato-and-spinach-drunken-pasta-bake/\"\n",
    "r = requests.get(url)\n",
    "soup = BeautifulSoup(r.content, 'html.parser')\n",
    "searched_word = 'wprmpuc_recipe_'\n",
    "results = soup.body.find_all(string=re.compile('.*{0}.*'.format(searched_word)), recursive=True)\n",
    "print('Found the word \"{0}\" {1} times'.format(searched_word, len(results)))\n",
    "clean_result = results[0].split('=')[1].split(';')[0].strip()\n",
    "\n",
    "info_dict = json.loads(clean_result)\n",
    "# info_dict"
   ]
  },
  {
   "cell_type": "code",
   "execution_count": 127,
   "metadata": {},
   "outputs": [
    {
     "name": "stdout",
     "output_type": "stream",
     "text": [
      "Found the word \"Print\" 3 times\n"
     ]
    },
    {
     "data": {
      "text/plain": [
       "'https://paleomg.com/paleo-blueberry-chai-muffins/print/72033/'"
      ]
     },
     "execution_count": 127,
     "metadata": {},
     "output_type": "execute_result"
    }
   ],
   "source": [
    "# url = \"https://www.gimmesomeoven.com/poblano-white-chicken-chili/\"\n",
    "# url = \"https://www.skinnytaste.com/lentil-soup-with-butternut-and-kale/\"\n",
    "# url = \"https://minimalistbaker.com/orange-cranberry-crisp-gluten-free-easy/\"\n",
    "# url = \"https://www.twopeasandtheirpod.com/magic-cookie-bars/\"\n",
    "# url = \"https://thedefineddish.com/miso-roasted-chicken/\"\n",
    "# url = \"https://www.ambitiouskitchen.com/coconut-curried-brown-rice/\"\n",
    "# url = \"https://whatsgabycooking.com/chicken-larb-bowls/\"\n",
    "url = \"https://paleomg.com/paleo-blueberry-chai-muffins/\"\n",
    "\n",
    "r = requests.get(url)\n",
    "soup = BeautifulSoup(r.content, 'html.parser')\n",
    "searched_word = 'Print'\n",
    "results = soup.body.find_all(string=re.compile('.*{0}.*'.format(searched_word)), recursive=True)\n",
    "print('Found the word \"{0}\" {1} times'.format(searched_word, len(results)))\n",
    "results[0].parent['href']"
   ]
  },
  {
   "cell_type": "code",
   "execution_count": null,
   "metadata": {},
   "outputs": [],
   "source": []
  }
 ],
 "metadata": {
  "kernelspec": {
   "display_name": "Python 3",
   "language": "python",
   "name": "python3"
  },
  "language_info": {
   "codemirror_mode": {
    "name": "ipython",
    "version": 3
   },
   "file_extension": ".py",
   "mimetype": "text/x-python",
   "name": "python",
   "nbconvert_exporter": "python",
   "pygments_lexer": "ipython3",
   "version": "3.7.3"
  }
 },
 "nbformat": 4,
 "nbformat_minor": 4
}
