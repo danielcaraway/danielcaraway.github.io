{
 "cells": [
  {
   "cell_type": "markdown",
   "metadata": {},
   "source": [
    "# PORTFOLIO_SCRAPING_EHD_RENAME_AND_MOVE"
   ]
  },
  {
   "cell_type": "code",
   "execution_count": 1,
   "metadata": {},
   "outputs": [
    {
     "name": "stdout",
     "output_type": "stream",
     "text": [
      "/Volumes/EHD_8/EHD_7/ /Volumes/EHD_8/EHD_7/EHD_7_ALL/\n"
     ]
    }
   ],
   "source": [
    "ehd = 'EHD_8'\n",
    "file_to_flatten = 'EHD_7'\n",
    "directory_in_str = '/Volumes/{}/{}/'.format(ehd, file_to_flatten)\n",
    "destination = '/Volumes/{}/{}/{}_ALL/'.format(ehd, file_to_flatten, file_to_flatten)\n",
    "\n",
    "print(directory_in_str, destination)"
   ]
  },
  {
   "cell_type": "code",
   "execution_count": 21,
   "metadata": {},
   "outputs": [],
   "source": [
    "# # BEFORE\n",
    "# directory_in_str = '/Volumes/EHD_7/__pre2011/'\n",
    "# destination = '/Volumes/EHD_7/__pre2011/__pre2011_ALL/'"
   ]
  },
  {
   "cell_type": "code",
   "execution_count": 1,
   "metadata": {},
   "outputs": [],
   "source": [
    "# import os, time, shutil\n",
    "\n",
    "# ## NOTE: Don't forget to make the _ALL folder within the file_to_flatten directory\n",
    "\n",
    "# ehd = 'EHD_8_TOSHIBA_EXT'\n",
    "# file_to_flatten = 'EHD_7'\n",
    "# directory_in_str = '/Volumes/{}/{}/'.format(ehd, file_to_flatten)\n",
    "# destination = '/Volumes/{}/{}/{}_ALL/'.format(ehd, file_to_flatten, file_to_flatten)\n",
    "\n",
    "\n",
    "# for subdir, dirs, files in os.walk(directory_in_str):\n",
    "#     for file in files:\n",
    "#         filepath = subdir + os.sep + file\n",
    "        \n",
    "#         time_stamp = 'no_ts_'\n",
    "\n",
    "#         try:\n",
    "#             stat = os.stat(filepath)\n",
    "#             time_stamp = time.strftime('%Y-%m-%d', time.localtime(stat.st_birthtime))\n",
    "#         except:\n",
    "#             print('----',stat.st_mtime)\n",
    "        \n",
    "\n",
    "        \n",
    "#         try:\n",
    "#             newname = filepath.split(directory_in_str)[1].replace('/', '__')\n",
    "#             newfilename = time_stamp + '_' + newname[-100:] + '__' +file\n",
    "#             newpath = destination + newfilename\n",
    "# #             print(len(newfilename), file)\n",
    "#             shutil.move(filepath, newpath)\n",
    "# #             print(filepath, newpath)\n",
    "#         except Exception as e:\n",
    "#             print(e)"
   ]
  },
  {
   "cell_type": "code",
   "execution_count": 16,
   "metadata": {},
   "outputs": [
    {
     "name": "stdout",
     "output_type": "stream",
     "text": [
      "/Volumes/EHD_7/__2017mac/\n",
      ".DS_Store\n"
     ]
    }
   ],
   "source": [
    "print(directory_in_str)\n",
    "for subdir, dirs, files in os.walk(directory_in_str):\n",
    "    for file in files:\n",
    "        print(file)"
   ]
  },
  {
   "cell_type": "code",
   "execution_count": 14,
   "metadata": {},
   "outputs": [
    {
     "data": {
      "text/plain": [
       "'thisisaverylongtextstring'"
      ]
     },
     "execution_count": 14,
     "metadata": {},
     "output_type": "execute_result"
    }
   ],
   "source": [
    "testing = 'thisisaverylongtextstring'\n",
    "testing[-100:]"
   ]
  },
  {
   "cell_type": "code",
   "execution_count": null,
   "metadata": {},
   "outputs": [],
   "source": []
  }
 ],
 "metadata": {
  "kernelspec": {
   "display_name": "Python 3",
   "language": "python",
   "name": "python3"
  },
  "language_info": {
   "codemirror_mode": {
    "name": "ipython",
    "version": 3
   },
   "file_extension": ".py",
   "mimetype": "text/x-python",
   "name": "python",
   "nbconvert_exporter": "python",
   "pygments_lexer": "ipython3",
   "version": "3.7.3"
  }
 },
 "nbformat": 4,
 "nbformat_minor": 4
}
